{
 "cells": [
  {
   "cell_type": "markdown",
   "id": "f4da6ba0",
   "metadata": {},
   "source": [
    "This jupyter notebook is based out of kaggle project\n",
    "https://www.kaggle.com/bandiang2/prediction-of-customer-churn-at-a-bank/notebook\n",
    "\n",
    "Azure ML Classic was used to run various algorithms"
   ]
  },
  {
   "cell_type": "markdown",
   "id": "e11b6210",
   "metadata": {},
   "source": [
    "Notes for feature engineering:\n",
    "1. Imbalance in output variable -> Should solve this before running the algo\n",
    "2. Data only from 3 countries..May be create variables by combining country - gender -age(buckets) proportion as demographics\n",
    "3. may be combine numnber of product proportion by tenure. Tenure can be bucketed if needed.\n",
    "4. can create salary brackets if needed by demographics and come up with a ratio\n",
    "\n",
    "\n"
   ]
  },
  {
   "cell_type": "code",
   "execution_count": 1,
   "id": "ffdc008b",
   "metadata": {},
   "outputs": [],
   "source": [
    "# Importing libraries\n",
    "import pandas as pd\n",
    "import numpy as np\n",
    "import seaborn as sns\n",
    "from matplotlib import pyplot as plt\n",
    "\n",
    "from itertools import product\n",
    "\n",
    "from scipy.stats import chi2_contingency\n",
    "\n",
    "pd.set_option('display.float_format', lambda x: '%.3f' % x)"
   ]
  },
  {
   "cell_type": "code",
   "execution_count": 2,
   "id": "533ab606",
   "metadata": {},
   "outputs": [],
   "source": [
    "# Importing the csv file\n",
    "churn=pd.read_csv('/Users/plutobot/Downloads/Churn/Churn.csv')"
   ]
  },
  {
   "cell_type": "markdown",
   "id": "5de2f9a5",
   "metadata": {},
   "source": [
    "### Basic Data Exploration"
   ]
  },
  {
   "cell_type": "code",
   "execution_count": 3,
   "id": "75f38438",
   "metadata": {},
   "outputs": [
    {
     "data": {
      "text/plain": [
       "RowNumber          10000\n",
       "CustomerId         10000\n",
       "Surname            10000\n",
       "CreditScore        10000\n",
       "Geography          10000\n",
       "Gender             10000\n",
       "Age                10000\n",
       "Tenure             10000\n",
       "Balance            10000\n",
       "NumOfProducts      10000\n",
       "HasCrCard          10000\n",
       "IsActiveMember     10000\n",
       "EstimatedSalary    10000\n",
       "Exited             10000\n",
       "dtype: int64"
      ]
     },
     "execution_count": 3,
     "metadata": {},
     "output_type": "execute_result"
    }
   ],
   "source": [
    "churn.count()"
   ]
  },
  {
   "cell_type": "code",
   "execution_count": 4,
   "id": "24697c77",
   "metadata": {},
   "outputs": [
    {
     "data": {
      "text/plain": [
       "RowNumber            int64\n",
       "CustomerId           int64\n",
       "Surname             object\n",
       "CreditScore          int64\n",
       "Geography           object\n",
       "Gender              object\n",
       "Age                  int64\n",
       "Tenure               int64\n",
       "Balance            float64\n",
       "NumOfProducts        int64\n",
       "HasCrCard            int64\n",
       "IsActiveMember       int64\n",
       "EstimatedSalary    float64\n",
       "Exited               int64\n",
       "dtype: object"
      ]
     },
     "execution_count": 4,
     "metadata": {},
     "output_type": "execute_result"
    }
   ],
   "source": [
    "churn.dtypes"
   ]
  },
  {
   "cell_type": "code",
   "execution_count": 5,
   "id": "b3b09629",
   "metadata": {},
   "outputs": [
    {
     "data": {
      "text/html": [
       "<div>\n",
       "<style scoped>\n",
       "    .dataframe tbody tr th:only-of-type {\n",
       "        vertical-align: middle;\n",
       "    }\n",
       "\n",
       "    .dataframe tbody tr th {\n",
       "        vertical-align: top;\n",
       "    }\n",
       "\n",
       "    .dataframe thead th {\n",
       "        text-align: right;\n",
       "    }\n",
       "</style>\n",
       "<table border=\"1\" class=\"dataframe\">\n",
       "  <thead>\n",
       "    <tr style=\"text-align: right;\">\n",
       "      <th></th>\n",
       "      <th>RowNumber</th>\n",
       "      <th>CustomerId</th>\n",
       "      <th>Surname</th>\n",
       "      <th>CreditScore</th>\n",
       "      <th>Geography</th>\n",
       "      <th>Gender</th>\n",
       "      <th>Age</th>\n",
       "      <th>Tenure</th>\n",
       "      <th>Balance</th>\n",
       "      <th>NumOfProducts</th>\n",
       "      <th>HasCrCard</th>\n",
       "      <th>IsActiveMember</th>\n",
       "      <th>EstimatedSalary</th>\n",
       "      <th>Exited</th>\n",
       "    </tr>\n",
       "  </thead>\n",
       "  <tbody>\n",
       "    <tr>\n",
       "      <th>0</th>\n",
       "      <td>1</td>\n",
       "      <td>15634602</td>\n",
       "      <td>Hargrave</td>\n",
       "      <td>619</td>\n",
       "      <td>France</td>\n",
       "      <td>Female</td>\n",
       "      <td>42</td>\n",
       "      <td>2</td>\n",
       "      <td>0.000</td>\n",
       "      <td>1</td>\n",
       "      <td>1</td>\n",
       "      <td>1</td>\n",
       "      <td>101348.880</td>\n",
       "      <td>1</td>\n",
       "    </tr>\n",
       "    <tr>\n",
       "      <th>1</th>\n",
       "      <td>2</td>\n",
       "      <td>15647311</td>\n",
       "      <td>Hill</td>\n",
       "      <td>608</td>\n",
       "      <td>Spain</td>\n",
       "      <td>Female</td>\n",
       "      <td>41</td>\n",
       "      <td>1</td>\n",
       "      <td>83807.860</td>\n",
       "      <td>1</td>\n",
       "      <td>0</td>\n",
       "      <td>1</td>\n",
       "      <td>112542.580</td>\n",
       "      <td>0</td>\n",
       "    </tr>\n",
       "    <tr>\n",
       "      <th>2</th>\n",
       "      <td>3</td>\n",
       "      <td>15619304</td>\n",
       "      <td>Onio</td>\n",
       "      <td>502</td>\n",
       "      <td>France</td>\n",
       "      <td>Female</td>\n",
       "      <td>42</td>\n",
       "      <td>8</td>\n",
       "      <td>159660.800</td>\n",
       "      <td>3</td>\n",
       "      <td>1</td>\n",
       "      <td>0</td>\n",
       "      <td>113931.570</td>\n",
       "      <td>1</td>\n",
       "    </tr>\n",
       "    <tr>\n",
       "      <th>3</th>\n",
       "      <td>4</td>\n",
       "      <td>15701354</td>\n",
       "      <td>Boni</td>\n",
       "      <td>699</td>\n",
       "      <td>France</td>\n",
       "      <td>Female</td>\n",
       "      <td>39</td>\n",
       "      <td>1</td>\n",
       "      <td>0.000</td>\n",
       "      <td>2</td>\n",
       "      <td>0</td>\n",
       "      <td>0</td>\n",
       "      <td>93826.630</td>\n",
       "      <td>0</td>\n",
       "    </tr>\n",
       "    <tr>\n",
       "      <th>4</th>\n",
       "      <td>5</td>\n",
       "      <td>15737888</td>\n",
       "      <td>Mitchell</td>\n",
       "      <td>850</td>\n",
       "      <td>Spain</td>\n",
       "      <td>Female</td>\n",
       "      <td>43</td>\n",
       "      <td>2</td>\n",
       "      <td>125510.820</td>\n",
       "      <td>1</td>\n",
       "      <td>1</td>\n",
       "      <td>1</td>\n",
       "      <td>79084.100</td>\n",
       "      <td>0</td>\n",
       "    </tr>\n",
       "  </tbody>\n",
       "</table>\n",
       "</div>"
      ],
      "text/plain": [
       "   RowNumber  CustomerId   Surname  CreditScore Geography  Gender  Age  \\\n",
       "0          1    15634602  Hargrave          619    France  Female   42   \n",
       "1          2    15647311      Hill          608     Spain  Female   41   \n",
       "2          3    15619304      Onio          502    France  Female   42   \n",
       "3          4    15701354      Boni          699    France  Female   39   \n",
       "4          5    15737888  Mitchell          850     Spain  Female   43   \n",
       "\n",
       "   Tenure    Balance  NumOfProducts  HasCrCard  IsActiveMember  \\\n",
       "0       2      0.000              1          1               1   \n",
       "1       1  83807.860              1          0               1   \n",
       "2       8 159660.800              3          1               0   \n",
       "3       1      0.000              2          0               0   \n",
       "4       2 125510.820              1          1               1   \n",
       "\n",
       "   EstimatedSalary  Exited  \n",
       "0       101348.880       1  \n",
       "1       112542.580       0  \n",
       "2       113931.570       1  \n",
       "3        93826.630       0  \n",
       "4        79084.100       0  "
      ]
     },
     "execution_count": 5,
     "metadata": {},
     "output_type": "execute_result"
    }
   ],
   "source": [
    "churn.head()"
   ]
  },
  {
   "cell_type": "code",
   "execution_count": 6,
   "id": "64df9fa8",
   "metadata": {},
   "outputs": [
    {
     "data": {
      "text/plain": [
       "15695872    1\n",
       "15801062    1\n",
       "15682268    1\n",
       "15647453    1\n",
       "15684319    1\n",
       "           ..\n",
       "15629677    1\n",
       "15773039    1\n",
       "15766896    1\n",
       "15719793    1\n",
       "15812607    1\n",
       "Name: CustomerId, Length: 10000, dtype: int64"
      ]
     },
     "execution_count": 6,
     "metadata": {},
     "output_type": "execute_result"
    }
   ],
   "source": [
    "churn['CustomerId'].value_counts()"
   ]
  },
  {
   "cell_type": "code",
   "execution_count": 7,
   "id": "1eb26fdd",
   "metadata": {},
   "outputs": [
    {
     "data": {
      "text/plain": [
       "count   10000.000\n",
       "mean      650.529\n",
       "std        96.653\n",
       "min       350.000\n",
       "25%       584.000\n",
       "50%       652.000\n",
       "75%       718.000\n",
       "max       850.000\n",
       "Name: CreditScore, dtype: float64"
      ]
     },
     "execution_count": 7,
     "metadata": {},
     "output_type": "execute_result"
    }
   ],
   "source": [
    "churn['CreditScore'].describe()"
   ]
  },
  {
   "cell_type": "code",
   "execution_count": 8,
   "id": "5991a3f6",
   "metadata": {},
   "outputs": [
    {
     "data": {
      "text/plain": [
       "France     5014\n",
       "Germany    2509\n",
       "Spain      2477\n",
       "Name: Geography, dtype: int64"
      ]
     },
     "execution_count": 8,
     "metadata": {},
     "output_type": "execute_result"
    }
   ],
   "source": [
    "churn['Geography'].value_counts()"
   ]
  },
  {
   "cell_type": "code",
   "execution_count": 9,
   "id": "5d9e9f0d",
   "metadata": {},
   "outputs": [
    {
     "data": {
      "text/plain": [
       "France    0.501\n",
       "Germany   0.251\n",
       "Spain     0.248\n",
       "Name: Geography, dtype: float64"
      ]
     },
     "execution_count": 9,
     "metadata": {},
     "output_type": "execute_result"
    }
   ],
   "source": [
    "churn['Geography'].value_counts(normalize='True')"
   ]
  },
  {
   "cell_type": "code",
   "execution_count": 10,
   "id": "b6490058",
   "metadata": {},
   "outputs": [
    {
     "data": {
      "text/plain": [
       "Male      5457\n",
       "Female    4543\n",
       "Name: Gender, dtype: int64"
      ]
     },
     "execution_count": 10,
     "metadata": {},
     "output_type": "execute_result"
    }
   ],
   "source": [
    "churn['Gender'].value_counts()"
   ]
  },
  {
   "cell_type": "code",
   "execution_count": 11,
   "id": "021f04d9",
   "metadata": {},
   "outputs": [
    {
     "data": {
      "text/plain": [
       "Male     0.546\n",
       "Female   0.454\n",
       "Name: Gender, dtype: float64"
      ]
     },
     "execution_count": 11,
     "metadata": {},
     "output_type": "execute_result"
    }
   ],
   "source": [
    "churn['Gender'].value_counts(normalize='True')"
   ]
  },
  {
   "cell_type": "code",
   "execution_count": 12,
   "id": "4efacfc2",
   "metadata": {},
   "outputs": [
    {
     "data": {
      "text/plain": [
       "count   10000.000\n",
       "mean       38.922\n",
       "std        10.488\n",
       "min        18.000\n",
       "25%        32.000\n",
       "50%        37.000\n",
       "75%        44.000\n",
       "max        92.000\n",
       "Name: Age, dtype: float64"
      ]
     },
     "execution_count": 12,
     "metadata": {},
     "output_type": "execute_result"
    }
   ],
   "source": [
    "churn['Age'].describe()"
   ]
  },
  {
   "cell_type": "code",
   "execution_count": 13,
   "id": "0a505d90",
   "metadata": {},
   "outputs": [
    {
     "data": {
      "text/plain": [
       "count   10000.000\n",
       "mean        5.013\n",
       "std         2.892\n",
       "min         0.000\n",
       "25%         3.000\n",
       "50%         5.000\n",
       "75%         7.000\n",
       "max        10.000\n",
       "Name: Tenure, dtype: float64"
      ]
     },
     "execution_count": 13,
     "metadata": {},
     "output_type": "execute_result"
    }
   ],
   "source": [
    "churn['Tenure'].describe()"
   ]
  },
  {
   "cell_type": "code",
   "execution_count": 14,
   "id": "846201b3",
   "metadata": {},
   "outputs": [
    {
     "data": {
      "text/plain": [
       "count    10000.000\n",
       "mean     76485.889\n",
       "std      62397.405\n",
       "min          0.000\n",
       "25%          0.000\n",
       "50%      97198.540\n",
       "75%     127644.240\n",
       "max     250898.090\n",
       "Name: Balance, dtype: float64"
      ]
     },
     "execution_count": 14,
     "metadata": {},
     "output_type": "execute_result"
    }
   ],
   "source": [
    "churn['Balance'].describe()"
   ]
  },
  {
   "cell_type": "code",
   "execution_count": 15,
   "id": "e2e505c9",
   "metadata": {},
   "outputs": [
    {
     "data": {
      "text/plain": [
       "count   10000.000\n",
       "mean        1.530\n",
       "std         0.582\n",
       "min         1.000\n",
       "25%         1.000\n",
       "50%         1.000\n",
       "75%         2.000\n",
       "max         4.000\n",
       "Name: NumOfProducts, dtype: float64"
      ]
     },
     "execution_count": 15,
     "metadata": {},
     "output_type": "execute_result"
    }
   ],
   "source": [
    "churn['NumOfProducts'].describe()"
   ]
  },
  {
   "cell_type": "code",
   "execution_count": 16,
   "id": "cfc4e306",
   "metadata": {},
   "outputs": [
    {
     "data": {
      "text/plain": [
       "1    5084\n",
       "2    4590\n",
       "3     266\n",
       "4      60\n",
       "Name: NumOfProducts, dtype: int64"
      ]
     },
     "execution_count": 16,
     "metadata": {},
     "output_type": "execute_result"
    }
   ],
   "source": [
    "churn['NumOfProducts'].value_counts()"
   ]
  },
  {
   "cell_type": "code",
   "execution_count": 17,
   "id": "9452b2f3",
   "metadata": {},
   "outputs": [
    {
     "data": {
      "text/plain": [
       "1   0.508\n",
       "2   0.459\n",
       "3   0.027\n",
       "4   0.006\n",
       "Name: NumOfProducts, dtype: float64"
      ]
     },
     "execution_count": 17,
     "metadata": {},
     "output_type": "execute_result"
    }
   ],
   "source": [
    "churn['NumOfProducts'].value_counts(normalize='True')"
   ]
  },
  {
   "cell_type": "code",
   "execution_count": 18,
   "id": "2ab4f949",
   "metadata": {},
   "outputs": [
    {
     "data": {
      "text/plain": [
       "1    7055\n",
       "0    2945\n",
       "Name: HasCrCard, dtype: int64"
      ]
     },
     "execution_count": 18,
     "metadata": {},
     "output_type": "execute_result"
    }
   ],
   "source": [
    "churn['HasCrCard'].value_counts()"
   ]
  },
  {
   "cell_type": "code",
   "execution_count": 19,
   "id": "891e9cb9",
   "metadata": {},
   "outputs": [
    {
     "data": {
      "text/plain": [
       "1   0.706\n",
       "0   0.294\n",
       "Name: HasCrCard, dtype: float64"
      ]
     },
     "execution_count": 19,
     "metadata": {},
     "output_type": "execute_result"
    }
   ],
   "source": [
    "churn['HasCrCard'].value_counts(normalize='True')"
   ]
  },
  {
   "cell_type": "code",
   "execution_count": 20,
   "id": "087cb5c4",
   "metadata": {},
   "outputs": [
    {
     "data": {
      "text/plain": [
       "1    5151\n",
       "0    4849\n",
       "Name: IsActiveMember, dtype: int64"
      ]
     },
     "execution_count": 20,
     "metadata": {},
     "output_type": "execute_result"
    }
   ],
   "source": [
    "churn['IsActiveMember'].value_counts()"
   ]
  },
  {
   "cell_type": "code",
   "execution_count": 21,
   "id": "33f0d0a5",
   "metadata": {},
   "outputs": [
    {
     "data": {
      "text/plain": [
       "1   0.515\n",
       "0   0.485\n",
       "Name: IsActiveMember, dtype: float64"
      ]
     },
     "execution_count": 21,
     "metadata": {},
     "output_type": "execute_result"
    }
   ],
   "source": [
    "churn['IsActiveMember'].value_counts(normalize=True)"
   ]
  },
  {
   "cell_type": "code",
   "execution_count": 22,
   "id": "eed9cb36",
   "metadata": {},
   "outputs": [
    {
     "data": {
      "text/plain": [
       "count    10000.000\n",
       "mean    100090.240\n",
       "std      57510.493\n",
       "min         11.580\n",
       "25%      51002.110\n",
       "50%     100193.915\n",
       "75%     149388.247\n",
       "max     199992.480\n",
       "Name: EstimatedSalary, dtype: float64"
      ]
     },
     "execution_count": 22,
     "metadata": {},
     "output_type": "execute_result"
    }
   ],
   "source": [
    "churn['EstimatedSalary'].describe()"
   ]
  },
  {
   "cell_type": "code",
   "execution_count": 23,
   "id": "5fed1a35",
   "metadata": {},
   "outputs": [
    {
     "data": {
      "text/plain": [
       "0    7963\n",
       "1    2037\n",
       "Name: Exited, dtype: int64"
      ]
     },
     "execution_count": 23,
     "metadata": {},
     "output_type": "execute_result"
    }
   ],
   "source": [
    "churn['Exited'].value_counts()"
   ]
  },
  {
   "cell_type": "code",
   "execution_count": 24,
   "id": "71b21483",
   "metadata": {},
   "outputs": [
    {
     "data": {
      "text/plain": [
       "0   0.796\n",
       "1   0.204\n",
       "Name: Exited, dtype: float64"
      ]
     },
     "execution_count": 24,
     "metadata": {},
     "output_type": "execute_result"
    }
   ],
   "source": [
    "churn['Exited'].value_counts(normalize='True')"
   ]
  },
  {
   "cell_type": "code",
   "execution_count": 25,
   "id": "e71fe61f",
   "metadata": {},
   "outputs": [
    {
     "data": {
      "text/plain": [
       "RowNumber          10000\n",
       "CustomerId         10000\n",
       "Surname            10000\n",
       "CreditScore        10000\n",
       "Geography          10000\n",
       "Gender             10000\n",
       "Age                10000\n",
       "Tenure             10000\n",
       "Balance            10000\n",
       "NumOfProducts      10000\n",
       "HasCrCard          10000\n",
       "IsActiveMember     10000\n",
       "EstimatedSalary    10000\n",
       "Exited             10000\n",
       "dtype: int64"
      ]
     },
     "execution_count": 25,
     "metadata": {},
     "output_type": "execute_result"
    }
   ],
   "source": [
    "churn.count()"
   ]
  },
  {
   "cell_type": "code",
   "execution_count": 26,
   "id": "8d090c31",
   "metadata": {},
   "outputs": [],
   "source": [
    "churn1=churn.copy()"
   ]
  },
  {
   "cell_type": "code",
   "execution_count": 27,
   "id": "d9f9df77",
   "metadata": {},
   "outputs": [],
   "source": [
    "churn=churn.drop(columns=['RowNumber','Surname'])"
   ]
  },
  {
   "cell_type": "code",
   "execution_count": 28,
   "id": "80cddc57",
   "metadata": {},
   "outputs": [
    {
     "data": {
      "text/plain": [
       "CustomerId         10000\n",
       "CreditScore        10000\n",
       "Geography          10000\n",
       "Gender             10000\n",
       "Age                10000\n",
       "Tenure             10000\n",
       "Balance            10000\n",
       "NumOfProducts      10000\n",
       "HasCrCard          10000\n",
       "IsActiveMember     10000\n",
       "EstimatedSalary    10000\n",
       "Exited             10000\n",
       "dtype: int64"
      ]
     },
     "execution_count": 28,
     "metadata": {},
     "output_type": "execute_result"
    }
   ],
   "source": [
    "churn.count()"
   ]
  },
  {
   "cell_type": "code",
   "execution_count": 29,
   "id": "139b9292",
   "metadata": {},
   "outputs": [
    {
     "data": {
      "text/plain": [
       "CustomerId           int64\n",
       "CreditScore          int64\n",
       "Geography           object\n",
       "Gender              object\n",
       "Age                  int64\n",
       "Tenure               int64\n",
       "Balance            float64\n",
       "NumOfProducts        int64\n",
       "HasCrCard            int64\n",
       "IsActiveMember       int64\n",
       "EstimatedSalary    float64\n",
       "Exited               int64\n",
       "dtype: object"
      ]
     },
     "execution_count": 29,
     "metadata": {},
     "output_type": "execute_result"
    }
   ],
   "source": [
    "churn.dtypes"
   ]
  },
  {
   "cell_type": "code",
   "execution_count": 30,
   "id": "9e718917",
   "metadata": {},
   "outputs": [],
   "source": [
    "# converting geography into label encoding\n",
    "churn['geo']=churn['Geography'].astype(object).astype('category')\n",
    "churn['geo']=churn['geo'].cat.codes\n",
    "churn['geo']=churn['geo'].replace(0,3)"
   ]
  },
  {
   "cell_type": "code",
   "execution_count": 31,
   "id": "af74e218",
   "metadata": {},
   "outputs": [
    {
     "data": {
      "text/html": [
       "<div>\n",
       "<style scoped>\n",
       "    .dataframe tbody tr th:only-of-type {\n",
       "        vertical-align: middle;\n",
       "    }\n",
       "\n",
       "    .dataframe tbody tr th {\n",
       "        vertical-align: top;\n",
       "    }\n",
       "\n",
       "    .dataframe thead th {\n",
       "        text-align: right;\n",
       "    }\n",
       "</style>\n",
       "<table border=\"1\" class=\"dataframe\">\n",
       "  <thead>\n",
       "    <tr style=\"text-align: right;\">\n",
       "      <th></th>\n",
       "      <th>CustomerId</th>\n",
       "      <th>CreditScore</th>\n",
       "      <th>Geography</th>\n",
       "      <th>Gender</th>\n",
       "      <th>Age</th>\n",
       "      <th>Tenure</th>\n",
       "      <th>Balance</th>\n",
       "      <th>NumOfProducts</th>\n",
       "      <th>HasCrCard</th>\n",
       "      <th>IsActiveMember</th>\n",
       "      <th>EstimatedSalary</th>\n",
       "      <th>Exited</th>\n",
       "      <th>geo</th>\n",
       "    </tr>\n",
       "  </thead>\n",
       "  <tbody>\n",
       "    <tr>\n",
       "      <th>0</th>\n",
       "      <td>15634602</td>\n",
       "      <td>619</td>\n",
       "      <td>France</td>\n",
       "      <td>Female</td>\n",
       "      <td>42</td>\n",
       "      <td>2</td>\n",
       "      <td>0.000</td>\n",
       "      <td>1</td>\n",
       "      <td>1</td>\n",
       "      <td>1</td>\n",
       "      <td>101348.880</td>\n",
       "      <td>1</td>\n",
       "      <td>3</td>\n",
       "    </tr>\n",
       "    <tr>\n",
       "      <th>1</th>\n",
       "      <td>15647311</td>\n",
       "      <td>608</td>\n",
       "      <td>Spain</td>\n",
       "      <td>Female</td>\n",
       "      <td>41</td>\n",
       "      <td>1</td>\n",
       "      <td>83807.860</td>\n",
       "      <td>1</td>\n",
       "      <td>0</td>\n",
       "      <td>1</td>\n",
       "      <td>112542.580</td>\n",
       "      <td>0</td>\n",
       "      <td>2</td>\n",
       "    </tr>\n",
       "    <tr>\n",
       "      <th>2</th>\n",
       "      <td>15619304</td>\n",
       "      <td>502</td>\n",
       "      <td>France</td>\n",
       "      <td>Female</td>\n",
       "      <td>42</td>\n",
       "      <td>8</td>\n",
       "      <td>159660.800</td>\n",
       "      <td>3</td>\n",
       "      <td>1</td>\n",
       "      <td>0</td>\n",
       "      <td>113931.570</td>\n",
       "      <td>1</td>\n",
       "      <td>3</td>\n",
       "    </tr>\n",
       "    <tr>\n",
       "      <th>3</th>\n",
       "      <td>15701354</td>\n",
       "      <td>699</td>\n",
       "      <td>France</td>\n",
       "      <td>Female</td>\n",
       "      <td>39</td>\n",
       "      <td>1</td>\n",
       "      <td>0.000</td>\n",
       "      <td>2</td>\n",
       "      <td>0</td>\n",
       "      <td>0</td>\n",
       "      <td>93826.630</td>\n",
       "      <td>0</td>\n",
       "      <td>3</td>\n",
       "    </tr>\n",
       "    <tr>\n",
       "      <th>4</th>\n",
       "      <td>15737888</td>\n",
       "      <td>850</td>\n",
       "      <td>Spain</td>\n",
       "      <td>Female</td>\n",
       "      <td>43</td>\n",
       "      <td>2</td>\n",
       "      <td>125510.820</td>\n",
       "      <td>1</td>\n",
       "      <td>1</td>\n",
       "      <td>1</td>\n",
       "      <td>79084.100</td>\n",
       "      <td>0</td>\n",
       "      <td>2</td>\n",
       "    </tr>\n",
       "  </tbody>\n",
       "</table>\n",
       "</div>"
      ],
      "text/plain": [
       "   CustomerId  CreditScore Geography  Gender  Age  Tenure    Balance  \\\n",
       "0    15634602          619    France  Female   42       2      0.000   \n",
       "1    15647311          608     Spain  Female   41       1  83807.860   \n",
       "2    15619304          502    France  Female   42       8 159660.800   \n",
       "3    15701354          699    France  Female   39       1      0.000   \n",
       "4    15737888          850     Spain  Female   43       2 125510.820   \n",
       "\n",
       "   NumOfProducts  HasCrCard  IsActiveMember  EstimatedSalary  Exited  geo  \n",
       "0              1          1               1       101348.880       1    3  \n",
       "1              1          0               1       112542.580       0    2  \n",
       "2              3          1               0       113931.570       1    3  \n",
       "3              2          0               0        93826.630       0    3  \n",
       "4              1          1               1        79084.100       0    2  "
      ]
     },
     "execution_count": 31,
     "metadata": {},
     "output_type": "execute_result"
    }
   ],
   "source": [
    "churn.head()"
   ]
  },
  {
   "cell_type": "code",
   "execution_count": 32,
   "id": "7ce2bccd",
   "metadata": {},
   "outputs": [],
   "source": [
    "# converting geography into label encoding\n",
    "churn['gender']=churn['Gender'].astype(object).astype('category')\n",
    "churn['gender']=churn['gender'].cat.codes\n",
    "churn['gender']=churn['gender'].replace(0,2)"
   ]
  },
  {
   "cell_type": "code",
   "execution_count": 33,
   "id": "0dea91ad",
   "metadata": {},
   "outputs": [
    {
     "data": {
      "text/html": [
       "<div>\n",
       "<style scoped>\n",
       "    .dataframe tbody tr th:only-of-type {\n",
       "        vertical-align: middle;\n",
       "    }\n",
       "\n",
       "    .dataframe tbody tr th {\n",
       "        vertical-align: top;\n",
       "    }\n",
       "\n",
       "    .dataframe thead th {\n",
       "        text-align: right;\n",
       "    }\n",
       "</style>\n",
       "<table border=\"1\" class=\"dataframe\">\n",
       "  <thead>\n",
       "    <tr style=\"text-align: right;\">\n",
       "      <th></th>\n",
       "      <th>CustomerId</th>\n",
       "      <th>CreditScore</th>\n",
       "      <th>Geography</th>\n",
       "      <th>Gender</th>\n",
       "      <th>Age</th>\n",
       "      <th>Tenure</th>\n",
       "      <th>Balance</th>\n",
       "      <th>NumOfProducts</th>\n",
       "      <th>HasCrCard</th>\n",
       "      <th>IsActiveMember</th>\n",
       "      <th>EstimatedSalary</th>\n",
       "      <th>Exited</th>\n",
       "      <th>geo</th>\n",
       "      <th>gender</th>\n",
       "    </tr>\n",
       "  </thead>\n",
       "  <tbody>\n",
       "    <tr>\n",
       "      <th>0</th>\n",
       "      <td>15634602</td>\n",
       "      <td>619</td>\n",
       "      <td>France</td>\n",
       "      <td>Female</td>\n",
       "      <td>42</td>\n",
       "      <td>2</td>\n",
       "      <td>0.000</td>\n",
       "      <td>1</td>\n",
       "      <td>1</td>\n",
       "      <td>1</td>\n",
       "      <td>101348.880</td>\n",
       "      <td>1</td>\n",
       "      <td>3</td>\n",
       "      <td>2</td>\n",
       "    </tr>\n",
       "    <tr>\n",
       "      <th>1</th>\n",
       "      <td>15647311</td>\n",
       "      <td>608</td>\n",
       "      <td>Spain</td>\n",
       "      <td>Female</td>\n",
       "      <td>41</td>\n",
       "      <td>1</td>\n",
       "      <td>83807.860</td>\n",
       "      <td>1</td>\n",
       "      <td>0</td>\n",
       "      <td>1</td>\n",
       "      <td>112542.580</td>\n",
       "      <td>0</td>\n",
       "      <td>2</td>\n",
       "      <td>2</td>\n",
       "    </tr>\n",
       "    <tr>\n",
       "      <th>2</th>\n",
       "      <td>15619304</td>\n",
       "      <td>502</td>\n",
       "      <td>France</td>\n",
       "      <td>Female</td>\n",
       "      <td>42</td>\n",
       "      <td>8</td>\n",
       "      <td>159660.800</td>\n",
       "      <td>3</td>\n",
       "      <td>1</td>\n",
       "      <td>0</td>\n",
       "      <td>113931.570</td>\n",
       "      <td>1</td>\n",
       "      <td>3</td>\n",
       "      <td>2</td>\n",
       "    </tr>\n",
       "    <tr>\n",
       "      <th>3</th>\n",
       "      <td>15701354</td>\n",
       "      <td>699</td>\n",
       "      <td>France</td>\n",
       "      <td>Female</td>\n",
       "      <td>39</td>\n",
       "      <td>1</td>\n",
       "      <td>0.000</td>\n",
       "      <td>2</td>\n",
       "      <td>0</td>\n",
       "      <td>0</td>\n",
       "      <td>93826.630</td>\n",
       "      <td>0</td>\n",
       "      <td>3</td>\n",
       "      <td>2</td>\n",
       "    </tr>\n",
       "    <tr>\n",
       "      <th>4</th>\n",
       "      <td>15737888</td>\n",
       "      <td>850</td>\n",
       "      <td>Spain</td>\n",
       "      <td>Female</td>\n",
       "      <td>43</td>\n",
       "      <td>2</td>\n",
       "      <td>125510.820</td>\n",
       "      <td>1</td>\n",
       "      <td>1</td>\n",
       "      <td>1</td>\n",
       "      <td>79084.100</td>\n",
       "      <td>0</td>\n",
       "      <td>2</td>\n",
       "      <td>2</td>\n",
       "    </tr>\n",
       "  </tbody>\n",
       "</table>\n",
       "</div>"
      ],
      "text/plain": [
       "   CustomerId  CreditScore Geography  Gender  Age  Tenure    Balance  \\\n",
       "0    15634602          619    France  Female   42       2      0.000   \n",
       "1    15647311          608     Spain  Female   41       1  83807.860   \n",
       "2    15619304          502    France  Female   42       8 159660.800   \n",
       "3    15701354          699    France  Female   39       1      0.000   \n",
       "4    15737888          850     Spain  Female   43       2 125510.820   \n",
       "\n",
       "   NumOfProducts  HasCrCard  IsActiveMember  EstimatedSalary  Exited  geo  \\\n",
       "0              1          1               1       101348.880       1    3   \n",
       "1              1          0               1       112542.580       0    2   \n",
       "2              3          1               0       113931.570       1    3   \n",
       "3              2          0               0        93826.630       0    3   \n",
       "4              1          1               1        79084.100       0    2   \n",
       "\n",
       "   gender  \n",
       "0       2  \n",
       "1       2  \n",
       "2       2  \n",
       "3       2  \n",
       "4       2  "
      ]
     },
     "execution_count": 33,
     "metadata": {},
     "output_type": "execute_result"
    }
   ],
   "source": [
    "churn.head()"
   ]
  },
  {
   "cell_type": "code",
   "execution_count": 34,
   "id": "8c6bcef9",
   "metadata": {},
   "outputs": [
    {
     "data": {
      "text/plain": [
       "count   10000.000\n",
       "mean       38.922\n",
       "std        10.488\n",
       "min        18.000\n",
       "25%        32.000\n",
       "50%        37.000\n",
       "75%        44.000\n",
       "max        92.000\n",
       "Name: Age, dtype: float64"
      ]
     },
     "execution_count": 34,
     "metadata": {},
     "output_type": "execute_result"
    }
   ],
   "source": [
    "churn['Age'].describe()"
   ]
  },
  {
   "cell_type": "code",
   "execution_count": 35,
   "id": "11b1b501",
   "metadata": {},
   "outputs": [
    {
     "name": "stderr",
     "output_type": "stream",
     "text": [
      "/Users/plutobot/opt/anaconda3/lib/python3.8/site-packages/seaborn/distributions.py:2557: FutureWarning: `distplot` is a deprecated function and will be removed in a future version. Please adapt your code to use either `displot` (a figure-level function with similar flexibility) or `histplot` (an axes-level function for histograms).\n",
      "  warnings.warn(msg, FutureWarning)\n"
     ]
    },
    {
     "data": {
      "text/plain": [
       "Text(0.5, 1.0, 'Age')"
      ]
     },
     "execution_count": 35,
     "metadata": {},
     "output_type": "execute_result"
    },
    {
     "data": {
      "image/png": "[encoded data removed]",
      "text/plain": [
       "<Figure size 432x288 with 1 Axes>"
      ]
     },
     "metadata": {
      "needs_background": "light"
     },
     "output_type": "display_data"
    }
   ],
   "source": [
    "sns.distplot(churn['Age'],color='Turquoise').set_title('Age')"
   ]
  },
  {
   "cell_type": "code",
   "execution_count": 36,
   "id": "6422a9e0",
   "metadata": {},
   "outputs": [],
   "source": [
    "# AGE BUCKETS\n",
    "def func(x):\n",
    "        if 0 < x <= 30:\n",
    "            return '1. <=30'\n",
    "        elif 30 < x <= 40:\n",
    "            return '2. 31-40'\n",
    "        elif 40 < x <= 50:\n",
    "            return '3. 41-50'\n",
    "        elif 50 < x <= 60:\n",
    "            return '4. 51-60'    \n",
    "        elif x > 60:\n",
    "            return '5. > 70'   \n",
    "        return 'NOVALUE'"
   ]
  },
  {
   "cell_type": "code",
   "execution_count": 37,
   "id": "982e4bc7",
   "metadata": {},
   "outputs": [],
   "source": [
    "churn['AgeBucket'] = churn['Age'].apply(func)"
   ]
  },
  {
   "cell_type": "code",
   "execution_count": 38,
   "id": "5ef7f7fe",
   "metadata": {},
   "outputs": [
    {
     "data": {
      "text/plain": [
       "2. 31-40    4451\n",
       "3. 41-50    2320\n",
       "1. <=30     1968\n",
       "4. 51-60     797\n",
       "5. > 70      464\n",
       "Name: AgeBucket, dtype: int64"
      ]
     },
     "execution_count": 38,
     "metadata": {},
     "output_type": "execute_result"
    }
   ],
   "source": [
    "#Count of buckets\n",
    "churn['AgeBucket'].value_counts()"
   ]
  },
  {
   "cell_type": "code",
   "execution_count": 39,
   "id": "aaf3b273",
   "metadata": {},
   "outputs": [
    {
     "data": {
      "text/plain": [
       "2. 31-40   0.445\n",
       "3. 41-50   0.232\n",
       "1. <=30    0.197\n",
       "4. 51-60   0.080\n",
       "5. > 70    0.046\n",
       "Name: AgeBucket, dtype: float64"
      ]
     },
     "execution_count": 39,
     "metadata": {},
     "output_type": "execute_result"
    }
   ],
   "source": [
    "#Ratio of buckets\n",
    "churn['AgeBucket'].value_counts(normalize=True)"
   ]
  },
  {
   "cell_type": "code",
   "execution_count": 40,
   "id": "99ac33a3",
   "metadata": {},
   "outputs": [
    {
     "data": {
      "text/html": [
       "<div>\n",
       "<style scoped>\n",
       "    .dataframe tbody tr th:only-of-type {\n",
       "        vertical-align: middle;\n",
       "    }\n",
       "\n",
       "    .dataframe tbody tr th {\n",
       "        vertical-align: top;\n",
       "    }\n",
       "\n",
       "    .dataframe thead th {\n",
       "        text-align: right;\n",
       "    }\n",
       "</style>\n",
       "<table border=\"1\" class=\"dataframe\">\n",
       "  <thead>\n",
       "    <tr style=\"text-align: right;\">\n",
       "      <th></th>\n",
       "      <th>CustomerId</th>\n",
       "      <th>CreditScore</th>\n",
       "      <th>Geography</th>\n",
       "      <th>Gender</th>\n",
       "      <th>Age</th>\n",
       "      <th>Tenure</th>\n",
       "      <th>Balance</th>\n",
       "      <th>NumOfProducts</th>\n",
       "      <th>HasCrCard</th>\n",
       "      <th>IsActiveMember</th>\n",
       "      <th>EstimatedSalary</th>\n",
       "      <th>Exited</th>\n",
       "      <th>geo</th>\n",
       "      <th>gender</th>\n",
       "      <th>AgeBucket</th>\n",
       "    </tr>\n",
       "  </thead>\n",
       "  <tbody>\n",
       "    <tr>\n",
       "      <th>0</th>\n",
       "      <td>15634602</td>\n",
       "      <td>619</td>\n",
       "      <td>France</td>\n",
       "      <td>Female</td>\n",
       "      <td>42</td>\n",
       "      <td>2</td>\n",
       "      <td>0.000</td>\n",
       "      <td>1</td>\n",
       "      <td>1</td>\n",
       "      <td>1</td>\n",
       "      <td>101348.880</td>\n",
       "      <td>1</td>\n",
       "      <td>3</td>\n",
       "      <td>2</td>\n",
       "      <td>3. 41-50</td>\n",
       "    </tr>\n",
       "    <tr>\n",
       "      <th>1</th>\n",
       "      <td>15647311</td>\n",
       "      <td>608</td>\n",
       "      <td>Spain</td>\n",
       "      <td>Female</td>\n",
       "      <td>41</td>\n",
       "      <td>1</td>\n",
       "      <td>83807.860</td>\n",
       "      <td>1</td>\n",
       "      <td>0</td>\n",
       "      <td>1</td>\n",
       "      <td>112542.580</td>\n",
       "      <td>0</td>\n",
       "      <td>2</td>\n",
       "      <td>2</td>\n",
       "      <td>3. 41-50</td>\n",
       "    </tr>\n",
       "    <tr>\n",
       "      <th>2</th>\n",
       "      <td>15619304</td>\n",
       "      <td>502</td>\n",
       "      <td>France</td>\n",
       "      <td>Female</td>\n",
       "      <td>42</td>\n",
       "      <td>8</td>\n",
       "      <td>159660.800</td>\n",
       "      <td>3</td>\n",
       "      <td>1</td>\n",
       "      <td>0</td>\n",
       "      <td>113931.570</td>\n",
       "      <td>1</td>\n",
       "      <td>3</td>\n",
       "      <td>2</td>\n",
       "      <td>3. 41-50</td>\n",
       "    </tr>\n",
       "    <tr>\n",
       "      <th>3</th>\n",
       "      <td>15701354</td>\n",
       "      <td>699</td>\n",
       "      <td>France</td>\n",
       "      <td>Female</td>\n",
       "      <td>39</td>\n",
       "      <td>1</td>\n",
       "      <td>0.000</td>\n",
       "      <td>2</td>\n",
       "      <td>0</td>\n",
       "      <td>0</td>\n",
       "      <td>93826.630</td>\n",
       "      <td>0</td>\n",
       "      <td>3</td>\n",
       "      <td>2</td>\n",
       "      <td>2. 31-40</td>\n",
       "    </tr>\n",
       "    <tr>\n",
       "      <th>4</th>\n",
       "      <td>15737888</td>\n",
       "      <td>850</td>\n",
       "      <td>Spain</td>\n",
       "      <td>Female</td>\n",
       "      <td>43</td>\n",
       "      <td>2</td>\n",
       "      <td>125510.820</td>\n",
       "      <td>1</td>\n",
       "      <td>1</td>\n",
       "      <td>1</td>\n",
       "      <td>79084.100</td>\n",
       "      <td>0</td>\n",
       "      <td>2</td>\n",
       "      <td>2</td>\n",
       "      <td>3. 41-50</td>\n",
       "    </tr>\n",
       "  </tbody>\n",
       "</table>\n",
       "</div>"
      ],
      "text/plain": [
       "   CustomerId  CreditScore Geography  Gender  Age  Tenure    Balance  \\\n",
       "0    15634602          619    France  Female   42       2      0.000   \n",
       "1    15647311          608     Spain  Female   41       1  83807.860   \n",
       "2    15619304          502    France  Female   42       8 159660.800   \n",
       "3    15701354          699    France  Female   39       1      0.000   \n",
       "4    15737888          850     Spain  Female   43       2 125510.820   \n",
       "\n",
       "   NumOfProducts  HasCrCard  IsActiveMember  EstimatedSalary  Exited  geo  \\\n",
       "0              1          1               1       101348.880       1    3   \n",
       "1              1          0               1       112542.580       0    2   \n",
       "2              3          1               0       113931.570       1    3   \n",
       "3              2          0               0        93826.630       0    3   \n",
       "4              1          1               1        79084.100       0    2   \n",
       "\n",
       "   gender AgeBucket  \n",
       "0       2  3. 41-50  \n",
       "1       2  3. 41-50  \n",
       "2       2  3. 41-50  \n",
       "3       2  2. 31-40  \n",
       "4       2  3. 41-50  "
      ]
     },
     "execution_count": 40,
     "metadata": {},
     "output_type": "execute_result"
    }
   ],
   "source": [
    "churn.head()"
   ]
  },
  {
   "cell_type": "code",
   "execution_count": 41,
   "id": "68df6ee5",
   "metadata": {},
   "outputs": [],
   "source": [
    "# converting age buckets into label encoding\n",
    "churn['agebuckets']=churn['AgeBucket'].astype(object).astype('category')\n",
    "churn['agebuckets']=churn['agebuckets'].cat.codes\n",
    "churn['agebuckets']=churn['agebuckets'].replace(0,5)"
   ]
  },
  {
   "cell_type": "code",
   "execution_count": 42,
   "id": "37ecf788",
   "metadata": {},
   "outputs": [],
   "source": [
    "churn['demokey']=churn['Geography'].astype(str)+churn['Gender'].astype(str)+churn['AgeBucket'].astype(str)"
   ]
  },
  {
   "cell_type": "code",
   "execution_count": 43,
   "id": "bc2e8ae5",
   "metadata": {},
   "outputs": [
    {
     "data": {
      "text/plain": [
       "FranceMale2. 31-40       1293\n",
       "FranceFemale2. 31-40     1018\n",
       "SpainMale2. 31-40         650\n",
       "FranceMale1. <=30         576\n",
       "FranceMale3. 41-50        568\n",
       "GermanyMale2. 31-40       549\n",
       "FranceFemale3. 41-50      499\n",
       "GermanyFemale2. 31-40     473\n",
       "SpainFemale2. 31-40       468\n",
       "FranceFemale1. <=30       462\n",
       "GermanyMale3. 41-50       348\n",
       "GermanyFemale3. 41-50     330\n",
       "SpainMale3. 41-50         304\n",
       "SpainFemale3. 41-50       271\n",
       "SpainMale1. <=30          267\n",
       "GermanyMale1. <=30        245\n",
       "SpainFemale1. <=30        210\n",
       "GermanyFemale1. <=30      208\n",
       "FranceMale4. 51-60        196\n",
       "FranceFemale4. 51-60      171\n",
       "GermanyFemale4. 51-60     129\n",
       "FranceMale5. > 70         120\n",
       "GermanyMale4. 51-60       114\n",
       "FranceFemale5. > 70       111\n",
       "SpainMale4. 51-60          96\n",
       "SpainFemale4. 51-60        91\n",
       "SpainMale5. > 70           71\n",
       "GermanyMale5. > 70         60\n",
       "GermanyFemale5. > 70       53\n",
       "SpainFemale5. > 70         49\n",
       "Name: demokey, dtype: int64"
      ]
     },
     "execution_count": 43,
     "metadata": {},
     "output_type": "execute_result"
    }
   ],
   "source": [
    "churn['demokey'].value_counts()"
   ]
  },
  {
   "cell_type": "code",
   "execution_count": 44,
   "id": "be07b0dd",
   "metadata": {},
   "outputs": [
    {
     "data": {
      "text/html": [
       "<div>\n",
       "<style scoped>\n",
       "    .dataframe tbody tr th:only-of-type {\n",
       "        vertical-align: middle;\n",
       "    }\n",
       "\n",
       "    .dataframe tbody tr th {\n",
       "        vertical-align: top;\n",
       "    }\n",
       "\n",
       "    .dataframe thead th {\n",
       "        text-align: right;\n",
       "    }\n",
       "</style>\n",
       "<table border=\"1\" class=\"dataframe\">\n",
       "  <thead>\n",
       "    <tr style=\"text-align: right;\">\n",
       "      <th></th>\n",
       "      <th>CustomerId</th>\n",
       "      <th>CreditScore</th>\n",
       "      <th>Geography</th>\n",
       "      <th>Gender</th>\n",
       "      <th>Age</th>\n",
       "      <th>Tenure</th>\n",
       "      <th>Balance</th>\n",
       "      <th>NumOfProducts</th>\n",
       "      <th>HasCrCard</th>\n",
       "      <th>IsActiveMember</th>\n",
       "      <th>EstimatedSalary</th>\n",
       "      <th>Exited</th>\n",
       "      <th>geo</th>\n",
       "      <th>gender</th>\n",
       "      <th>AgeBucket</th>\n",
       "      <th>agebuckets</th>\n",
       "      <th>demokey</th>\n",
       "    </tr>\n",
       "  </thead>\n",
       "  <tbody>\n",
       "    <tr>\n",
       "      <th>0</th>\n",
       "      <td>15634602</td>\n",
       "      <td>619</td>\n",
       "      <td>France</td>\n",
       "      <td>Female</td>\n",
       "      <td>42</td>\n",
       "      <td>2</td>\n",
       "      <td>0.000</td>\n",
       "      <td>1</td>\n",
       "      <td>1</td>\n",
       "      <td>1</td>\n",
       "      <td>101348.880</td>\n",
       "      <td>1</td>\n",
       "      <td>3</td>\n",
       "      <td>2</td>\n",
       "      <td>3. 41-50</td>\n",
       "      <td>2</td>\n",
       "      <td>FranceFemale3. 41-50</td>\n",
       "    </tr>\n",
       "    <tr>\n",
       "      <th>1</th>\n",
       "      <td>15647311</td>\n",
       "      <td>608</td>\n",
       "      <td>Spain</td>\n",
       "      <td>Female</td>\n",
       "      <td>41</td>\n",
       "      <td>1</td>\n",
       "      <td>83807.860</td>\n",
       "      <td>1</td>\n",
       "      <td>0</td>\n",
       "      <td>1</td>\n",
       "      <td>112542.580</td>\n",
       "      <td>0</td>\n",
       "      <td>2</td>\n",
       "      <td>2</td>\n",
       "      <td>3. 41-50</td>\n",
       "      <td>2</td>\n",
       "      <td>SpainFemale3. 41-50</td>\n",
       "    </tr>\n",
       "    <tr>\n",
       "      <th>2</th>\n",
       "      <td>15619304</td>\n",
       "      <td>502</td>\n",
       "      <td>France</td>\n",
       "      <td>Female</td>\n",
       "      <td>42</td>\n",
       "      <td>8</td>\n",
       "      <td>159660.800</td>\n",
       "      <td>3</td>\n",
       "      <td>1</td>\n",
       "      <td>0</td>\n",
       "      <td>113931.570</td>\n",
       "      <td>1</td>\n",
       "      <td>3</td>\n",
       "      <td>2</td>\n",
       "      <td>3. 41-50</td>\n",
       "      <td>2</td>\n",
       "      <td>FranceFemale3. 41-50</td>\n",
       "    </tr>\n",
       "    <tr>\n",
       "      <th>3</th>\n",
       "      <td>15701354</td>\n",
       "      <td>699</td>\n",
       "      <td>France</td>\n",
       "      <td>Female</td>\n",
       "      <td>39</td>\n",
       "      <td>1</td>\n",
       "      <td>0.000</td>\n",
       "      <td>2</td>\n",
       "      <td>0</td>\n",
       "      <td>0</td>\n",
       "      <td>93826.630</td>\n",
       "      <td>0</td>\n",
       "      <td>3</td>\n",
       "      <td>2</td>\n",
       "      <td>2. 31-40</td>\n",
       "      <td>1</td>\n",
       "      <td>FranceFemale2. 31-40</td>\n",
       "    </tr>\n",
       "    <tr>\n",
       "      <th>4</th>\n",
       "      <td>15737888</td>\n",
       "      <td>850</td>\n",
       "      <td>Spain</td>\n",
       "      <td>Female</td>\n",
       "      <td>43</td>\n",
       "      <td>2</td>\n",
       "      <td>125510.820</td>\n",
       "      <td>1</td>\n",
       "      <td>1</td>\n",
       "      <td>1</td>\n",
       "      <td>79084.100</td>\n",
       "      <td>0</td>\n",
       "      <td>2</td>\n",
       "      <td>2</td>\n",
       "      <td>3. 41-50</td>\n",
       "      <td>2</td>\n",
       "      <td>SpainFemale3. 41-50</td>\n",
       "    </tr>\n",
       "  </tbody>\n",
       "</table>\n",
       "</div>"
      ],
      "text/plain": [
       "   CustomerId  CreditScore Geography  Gender  Age  Tenure    Balance  \\\n",
       "0    15634602          619    France  Female   42       2      0.000   \n",
       "1    15647311          608     Spain  Female   41       1  83807.860   \n",
       "2    15619304          502    France  Female   42       8 159660.800   \n",
       "3    15701354          699    France  Female   39       1      0.000   \n",
       "4    15737888          850     Spain  Female   43       2 125510.820   \n",
       "\n",
       "   NumOfProducts  HasCrCard  IsActiveMember  EstimatedSalary  Exited  geo  \\\n",
       "0              1          1               1       101348.880       1    3   \n",
       "1              1          0               1       112542.580       0    2   \n",
       "2              3          1               0       113931.570       1    3   \n",
       "3              2          0               0        93826.630       0    3   \n",
       "4              1          1               1        79084.100       0    2   \n",
       "\n",
       "   gender AgeBucket  agebuckets               demokey  \n",
       "0       2  3. 41-50           2  FranceFemale3. 41-50  \n",
       "1       2  3. 41-50           2   SpainFemale3. 41-50  \n",
       "2       2  3. 41-50           2  FranceFemale3. 41-50  \n",
       "3       2  2. 31-40           1  FranceFemale2. 31-40  \n",
       "4       2  3. 41-50           2   SpainFemale3. 41-50  "
      ]
     },
     "execution_count": 44,
     "metadata": {},
     "output_type": "execute_result"
    }
   ],
   "source": [
    "churn.head()"
   ]
  },
  {
   "cell_type": "code",
   "execution_count": 45,
   "id": "6074bf19",
   "metadata": {},
   "outputs": [],
   "source": [
    "# Combining country, gender and age\n",
    "churn['demographics']=churn['gender']*churn['geo']*churn['agebuckets']"
   ]
  },
  {
   "cell_type": "code",
   "execution_count": 46,
   "id": "f776e67d",
   "metadata": {},
   "outputs": [
    {
     "data": {
      "text/plain": [
       "count   10000.000\n",
       "mean        7.587\n",
       "std         6.968\n",
       "min         1.000\n",
       "25%         3.000\n",
       "50%         6.000\n",
       "75%        10.000\n",
       "max        30.000\n",
       "Name: demographics, dtype: float64"
      ]
     },
     "execution_count": 46,
     "metadata": {},
     "output_type": "execute_result"
    }
   ],
   "source": [
    "churn['demographics'].describe()"
   ]
  },
  {
   "cell_type": "code",
   "execution_count": 47,
   "id": "b3338968",
   "metadata": {},
   "outputs": [
    {
     "data": {
      "text/plain": [
       "count    10000.000\n",
       "mean    100090.240\n",
       "std      57510.493\n",
       "min         11.580\n",
       "25%      51002.110\n",
       "50%     100193.915\n",
       "75%     149388.247\n",
       "max     199992.480\n",
       "Name: EstimatedSalary, dtype: float64"
      ]
     },
     "execution_count": 47,
     "metadata": {},
     "output_type": "execute_result"
    }
   ],
   "source": [
    "churn['EstimatedSalary'].describe()"
   ]
  },
  {
   "cell_type": "code",
   "execution_count": 48,
   "id": "395a35f3",
   "metadata": {},
   "outputs": [
    {
     "data": {
      "text/plain": [
       "CustomerId         10000\n",
       "CreditScore        10000\n",
       "Geography          10000\n",
       "Gender             10000\n",
       "Age                10000\n",
       "Tenure             10000\n",
       "Balance            10000\n",
       "NumOfProducts      10000\n",
       "HasCrCard          10000\n",
       "IsActiveMember     10000\n",
       "EstimatedSalary    10000\n",
       "Exited             10000\n",
       "geo                10000\n",
       "gender             10000\n",
       "AgeBucket          10000\n",
       "agebuckets         10000\n",
       "demokey            10000\n",
       "demographics       10000\n",
       "dtype: int64"
      ]
     },
     "execution_count": 48,
     "metadata": {},
     "output_type": "execute_result"
    }
   ],
   "source": [
    "churn.count()"
   ]
  },
  {
   "cell_type": "code",
   "execution_count": 49,
   "id": "9143b619",
   "metadata": {},
   "outputs": [],
   "source": [
    "# salary ratio by demographics\n",
    "\n",
    "# group by demokey\n",
    "demsal=pd.DataFrame(churn.groupby(['demokey'])['EstimatedSalary'].mean().reset_index())"
   ]
  },
  {
   "cell_type": "code",
   "execution_count": 50,
   "id": "a77972a4",
   "metadata": {},
   "outputs": [],
   "source": [
    "demsal=demsal.rename(columns={'EstimatedSalary':'GroupSalary'})"
   ]
  },
  {
   "cell_type": "code",
   "execution_count": 51,
   "id": "7a8e6e53",
   "metadata": {},
   "outputs": [
    {
     "data": {
      "text/html": [
       "<div>\n",
       "<style scoped>\n",
       "    .dataframe tbody tr th:only-of-type {\n",
       "        vertical-align: middle;\n",
       "    }\n",
       "\n",
       "    .dataframe tbody tr th {\n",
       "        vertical-align: top;\n",
       "    }\n",
       "\n",
       "    .dataframe thead th {\n",
       "        text-align: right;\n",
       "    }\n",
       "</style>\n",
       "<table border=\"1\" class=\"dataframe\">\n",
       "  <thead>\n",
       "    <tr style=\"text-align: right;\">\n",
       "      <th></th>\n",
       "      <th>demokey</th>\n",
       "      <th>GroupSalary</th>\n",
       "    </tr>\n",
       "  </thead>\n",
       "  <tbody>\n",
       "    <tr>\n",
       "      <th>0</th>\n",
       "      <td>FranceFemale1. &lt;=30</td>\n",
       "      <td>103393.643</td>\n",
       "    </tr>\n",
       "    <tr>\n",
       "      <th>1</th>\n",
       "      <td>FranceFemale2. 31-40</td>\n",
       "      <td>97890.795</td>\n",
       "    </tr>\n",
       "    <tr>\n",
       "      <th>2</th>\n",
       "      <td>FranceFemale3. 41-50</td>\n",
       "      <td>102813.131</td>\n",
       "    </tr>\n",
       "    <tr>\n",
       "      <th>3</th>\n",
       "      <td>FranceFemale4. 51-60</td>\n",
       "      <td>92905.637</td>\n",
       "    </tr>\n",
       "    <tr>\n",
       "      <th>4</th>\n",
       "      <td>FranceFemale5. &gt; 70</td>\n",
       "      <td>94625.829</td>\n",
       "    </tr>\n",
       "    <tr>\n",
       "      <th>5</th>\n",
       "      <td>FranceMale1. &lt;=30</td>\n",
       "      <td>103030.879</td>\n",
       "    </tr>\n",
       "    <tr>\n",
       "      <th>6</th>\n",
       "      <td>FranceMale2. 31-40</td>\n",
       "      <td>99418.429</td>\n",
       "    </tr>\n",
       "    <tr>\n",
       "      <th>7</th>\n",
       "      <td>FranceMale3. 41-50</td>\n",
       "      <td>100351.006</td>\n",
       "    </tr>\n",
       "    <tr>\n",
       "      <th>8</th>\n",
       "      <td>FranceMale4. 51-60</td>\n",
       "      <td>99207.875</td>\n",
       "    </tr>\n",
       "    <tr>\n",
       "      <th>9</th>\n",
       "      <td>FranceMale5. &gt; 70</td>\n",
       "      <td>95348.226</td>\n",
       "    </tr>\n",
       "    <tr>\n",
       "      <th>10</th>\n",
       "      <td>GermanyFemale1. &lt;=30</td>\n",
       "      <td>99290.569</td>\n",
       "    </tr>\n",
       "    <tr>\n",
       "      <th>11</th>\n",
       "      <td>GermanyFemale2. 31-40</td>\n",
       "      <td>105906.809</td>\n",
       "    </tr>\n",
       "    <tr>\n",
       "      <th>12</th>\n",
       "      <td>GermanyFemale3. 41-50</td>\n",
       "      <td>102045.905</td>\n",
       "    </tr>\n",
       "    <tr>\n",
       "      <th>13</th>\n",
       "      <td>GermanyFemale4. 51-60</td>\n",
       "      <td>95629.202</td>\n",
       "    </tr>\n",
       "    <tr>\n",
       "      <th>14</th>\n",
       "      <td>GermanyFemale5. &gt; 70</td>\n",
       "      <td>103036.027</td>\n",
       "    </tr>\n",
       "    <tr>\n",
       "      <th>15</th>\n",
       "      <td>GermanyMale1. &lt;=30</td>\n",
       "      <td>97740.139</td>\n",
       "    </tr>\n",
       "    <tr>\n",
       "      <th>16</th>\n",
       "      <td>GermanyMale2. 31-40</td>\n",
       "      <td>100567.419</td>\n",
       "    </tr>\n",
       "    <tr>\n",
       "      <th>17</th>\n",
       "      <td>GermanyMale3. 41-50</td>\n",
       "      <td>101132.388</td>\n",
       "    </tr>\n",
       "    <tr>\n",
       "      <th>18</th>\n",
       "      <td>GermanyMale4. 51-60</td>\n",
       "      <td>100963.669</td>\n",
       "    </tr>\n",
       "    <tr>\n",
       "      <th>19</th>\n",
       "      <td>GermanyMale5. &gt; 70</td>\n",
       "      <td>93554.139</td>\n",
       "    </tr>\n",
       "    <tr>\n",
       "      <th>20</th>\n",
       "      <td>SpainFemale1. &lt;=30</td>\n",
       "      <td>102840.679</td>\n",
       "    </tr>\n",
       "    <tr>\n",
       "      <th>21</th>\n",
       "      <td>SpainFemale2. 31-40</td>\n",
       "      <td>96466.883</td>\n",
       "    </tr>\n",
       "    <tr>\n",
       "      <th>22</th>\n",
       "      <td>SpainFemale3. 41-50</td>\n",
       "      <td>104621.690</td>\n",
       "    </tr>\n",
       "    <tr>\n",
       "      <th>23</th>\n",
       "      <td>SpainFemale4. 51-60</td>\n",
       "      <td>98819.145</td>\n",
       "    </tr>\n",
       "    <tr>\n",
       "      <th>24</th>\n",
       "      <td>SpainFemale5. &gt; 70</td>\n",
       "      <td>114517.939</td>\n",
       "    </tr>\n",
       "    <tr>\n",
       "      <th>25</th>\n",
       "      <td>SpainMale1. &lt;=30</td>\n",
       "      <td>96015.565</td>\n",
       "    </tr>\n",
       "    <tr>\n",
       "      <th>26</th>\n",
       "      <td>SpainMale2. 31-40</td>\n",
       "      <td>97839.236</td>\n",
       "    </tr>\n",
       "    <tr>\n",
       "      <th>27</th>\n",
       "      <td>SpainMale3. 41-50</td>\n",
       "      <td>102711.577</td>\n",
       "    </tr>\n",
       "    <tr>\n",
       "      <th>28</th>\n",
       "      <td>SpainMale4. 51-60</td>\n",
       "      <td>96449.162</td>\n",
       "    </tr>\n",
       "    <tr>\n",
       "      <th>29</th>\n",
       "      <td>SpainMale5. &gt; 70</td>\n",
       "      <td>97179.664</td>\n",
       "    </tr>\n",
       "  </tbody>\n",
       "</table>\n",
       "</div>"
      ],
      "text/plain": [
       "                  demokey  GroupSalary\n",
       "0     FranceFemale1. <=30   103393.643\n",
       "1    FranceFemale2. 31-40    97890.795\n",
       "2    FranceFemale3. 41-50   102813.131\n",
       "3    FranceFemale4. 51-60    92905.637\n",
       "4     FranceFemale5. > 70    94625.829\n",
       "5       FranceMale1. <=30   103030.879\n",
       "6      FranceMale2. 31-40    99418.429\n",
       "7      FranceMale3. 41-50   100351.006\n",
       "8      FranceMale4. 51-60    99207.875\n",
       "9       FranceMale5. > 70    95348.226\n",
       "10   GermanyFemale1. <=30    99290.569\n",
       "11  GermanyFemale2. 31-40   105906.809\n",
       "12  GermanyFemale3. 41-50   102045.905\n",
       "13  GermanyFemale4. 51-60    95629.202\n",
       "14   GermanyFemale5. > 70   103036.027\n",
       "15     GermanyMale1. <=30    97740.139\n",
       "16    GermanyMale2. 31-40   100567.419\n",
       "17    GermanyMale3. 41-50   101132.388\n",
       "18    GermanyMale4. 51-60   100963.669\n",
       "19     GermanyMale5. > 70    93554.139\n",
       "20     SpainFemale1. <=30   102840.679\n",
       "21    SpainFemale2. 31-40    96466.883\n",
       "22    SpainFemale3. 41-50   104621.690\n",
       "23    SpainFemale4. 51-60    98819.145\n",
       "24     SpainFemale5. > 70   114517.939\n",
       "25       SpainMale1. <=30    96015.565\n",
       "26      SpainMale2. 31-40    97839.236\n",
       "27      SpainMale3. 41-50   102711.577\n",
       "28      SpainMale4. 51-60    96449.162\n",
       "29       SpainMale5. > 70    97179.664"
      ]
     },
     "execution_count": 51,
     "metadata": {},
     "output_type": "execute_result"
    }
   ],
   "source": [
    "demsal"
   ]
  },
  {
   "cell_type": "code",
   "execution_count": 52,
   "id": "cd7ea69d",
   "metadata": {},
   "outputs": [],
   "source": [
    "churn=pd.merge(churn,demsal,on='demokey',how='left')"
   ]
  },
  {
   "cell_type": "code",
   "execution_count": 53,
   "id": "7b6ddc55",
   "metadata": {},
   "outputs": [],
   "source": [
    "churn['SalaryRatioByDemo']=churn['GroupSalary']/churn['EstimatedSalary']"
   ]
  },
  {
   "cell_type": "code",
   "execution_count": 54,
   "id": "0e486261",
   "metadata": {},
   "outputs": [
    {
     "data": {
      "text/plain": [
       "count   10000.000\n",
       "mean        5.087\n",
       "std        92.010\n",
       "min         0.467\n",
       "25%         0.671\n",
       "50%         0.999\n",
       "75%         1.967\n",
       "max      8733.367\n",
       "Name: SalaryRatioByDemo, dtype: float64"
      ]
     },
     "execution_count": 54,
     "metadata": {},
     "output_type": "execute_result"
    }
   ],
   "source": [
    "churn['SalaryRatioByDemo'].describe()"
   ]
  },
  {
   "cell_type": "code",
   "execution_count": 55,
   "id": "04e23dac",
   "metadata": {},
   "outputs": [
    {
     "data": {
      "text/html": [
       "<div>\n",
       "<style scoped>\n",
       "    .dataframe tbody tr th:only-of-type {\n",
       "        vertical-align: middle;\n",
       "    }\n",
       "\n",
       "    .dataframe tbody tr th {\n",
       "        vertical-align: top;\n",
       "    }\n",
       "\n",
       "    .dataframe thead th {\n",
       "        text-align: right;\n",
       "    }\n",
       "</style>\n",
       "<table border=\"1\" class=\"dataframe\">\n",
       "  <thead>\n",
       "    <tr style=\"text-align: right;\">\n",
       "      <th></th>\n",
       "      <th>CustomerId</th>\n",
       "      <th>CreditScore</th>\n",
       "      <th>Geography</th>\n",
       "      <th>Gender</th>\n",
       "      <th>Age</th>\n",
       "      <th>Tenure</th>\n",
       "      <th>Balance</th>\n",
       "      <th>NumOfProducts</th>\n",
       "      <th>HasCrCard</th>\n",
       "      <th>IsActiveMember</th>\n",
       "      <th>EstimatedSalary</th>\n",
       "      <th>Exited</th>\n",
       "      <th>geo</th>\n",
       "      <th>gender</th>\n",
       "      <th>AgeBucket</th>\n",
       "      <th>agebuckets</th>\n",
       "      <th>demokey</th>\n",
       "      <th>demographics</th>\n",
       "      <th>GroupSalary</th>\n",
       "      <th>SalaryRatioByDemo</th>\n",
       "    </tr>\n",
       "  </thead>\n",
       "  <tbody>\n",
       "    <tr>\n",
       "      <th>0</th>\n",
       "      <td>15634602</td>\n",
       "      <td>619</td>\n",
       "      <td>France</td>\n",
       "      <td>Female</td>\n",
       "      <td>42</td>\n",
       "      <td>2</td>\n",
       "      <td>0.000</td>\n",
       "      <td>1</td>\n",
       "      <td>1</td>\n",
       "      <td>1</td>\n",
       "      <td>101348.880</td>\n",
       "      <td>1</td>\n",
       "      <td>3</td>\n",
       "      <td>2</td>\n",
       "      <td>3. 41-50</td>\n",
       "      <td>2</td>\n",
       "      <td>FranceFemale3. 41-50</td>\n",
       "      <td>12</td>\n",
       "      <td>102813.131</td>\n",
       "      <td>1.014</td>\n",
       "    </tr>\n",
       "    <tr>\n",
       "      <th>1</th>\n",
       "      <td>15647311</td>\n",
       "      <td>608</td>\n",
       "      <td>Spain</td>\n",
       "      <td>Female</td>\n",
       "      <td>41</td>\n",
       "      <td>1</td>\n",
       "      <td>83807.860</td>\n",
       "      <td>1</td>\n",
       "      <td>0</td>\n",
       "      <td>1</td>\n",
       "      <td>112542.580</td>\n",
       "      <td>0</td>\n",
       "      <td>2</td>\n",
       "      <td>2</td>\n",
       "      <td>3. 41-50</td>\n",
       "      <td>2</td>\n",
       "      <td>SpainFemale3. 41-50</td>\n",
       "      <td>8</td>\n",
       "      <td>104621.690</td>\n",
       "      <td>0.930</td>\n",
       "    </tr>\n",
       "    <tr>\n",
       "      <th>2</th>\n",
       "      <td>15619304</td>\n",
       "      <td>502</td>\n",
       "      <td>France</td>\n",
       "      <td>Female</td>\n",
       "      <td>42</td>\n",
       "      <td>8</td>\n",
       "      <td>159660.800</td>\n",
       "      <td>3</td>\n",
       "      <td>1</td>\n",
       "      <td>0</td>\n",
       "      <td>113931.570</td>\n",
       "      <td>1</td>\n",
       "      <td>3</td>\n",
       "      <td>2</td>\n",
       "      <td>3. 41-50</td>\n",
       "      <td>2</td>\n",
       "      <td>FranceFemale3. 41-50</td>\n",
       "      <td>12</td>\n",
       "      <td>102813.131</td>\n",
       "      <td>0.902</td>\n",
       "    </tr>\n",
       "    <tr>\n",
       "      <th>3</th>\n",
       "      <td>15701354</td>\n",
       "      <td>699</td>\n",
       "      <td>France</td>\n",
       "      <td>Female</td>\n",
       "      <td>39</td>\n",
       "      <td>1</td>\n",
       "      <td>0.000</td>\n",
       "      <td>2</td>\n",
       "      <td>0</td>\n",
       "      <td>0</td>\n",
       "      <td>93826.630</td>\n",
       "      <td>0</td>\n",
       "      <td>3</td>\n",
       "      <td>2</td>\n",
       "      <td>2. 31-40</td>\n",
       "      <td>1</td>\n",
       "      <td>FranceFemale2. 31-40</td>\n",
       "      <td>6</td>\n",
       "      <td>97890.795</td>\n",
       "      <td>1.043</td>\n",
       "    </tr>\n",
       "    <tr>\n",
       "      <th>4</th>\n",
       "      <td>15737888</td>\n",
       "      <td>850</td>\n",
       "      <td>Spain</td>\n",
       "      <td>Female</td>\n",
       "      <td>43</td>\n",
       "      <td>2</td>\n",
       "      <td>125510.820</td>\n",
       "      <td>1</td>\n",
       "      <td>1</td>\n",
       "      <td>1</td>\n",
       "      <td>79084.100</td>\n",
       "      <td>0</td>\n",
       "      <td>2</td>\n",
       "      <td>2</td>\n",
       "      <td>3. 41-50</td>\n",
       "      <td>2</td>\n",
       "      <td>SpainFemale3. 41-50</td>\n",
       "      <td>8</td>\n",
       "      <td>104621.690</td>\n",
       "      <td>1.323</td>\n",
       "    </tr>\n",
       "  </tbody>\n",
       "</table>\n",
       "</div>"
      ],
      "text/plain": [
       "   CustomerId  CreditScore Geography  Gender  Age  Tenure    Balance  \\\n",
       "0    15634602          619    France  Female   42       2      0.000   \n",
       "1    15647311          608     Spain  Female   41       1  83807.860   \n",
       "2    15619304          502    France  Female   42       8 159660.800   \n",
       "3    15701354          699    France  Female   39       1      0.000   \n",
       "4    15737888          850     Spain  Female   43       2 125510.820   \n",
       "\n",
       "   NumOfProducts  HasCrCard  IsActiveMember  EstimatedSalary  Exited  geo  \\\n",
       "0              1          1               1       101348.880       1    3   \n",
       "1              1          0               1       112542.580       0    2   \n",
       "2              3          1               0       113931.570       1    3   \n",
       "3              2          0               0        93826.630       0    3   \n",
       "4              1          1               1        79084.100       0    2   \n",
       "\n",
       "   gender AgeBucket  agebuckets               demokey  demographics  \\\n",
       "0       2  3. 41-50           2  FranceFemale3. 41-50            12   \n",
       "1       2  3. 41-50           2   SpainFemale3. 41-50             8   \n",
       "2       2  3. 41-50           2  FranceFemale3. 41-50            12   \n",
       "3       2  2. 31-40           1  FranceFemale2. 31-40             6   \n",
       "4       2  3. 41-50           2   SpainFemale3. 41-50             8   \n",
       "\n",
       "   GroupSalary  SalaryRatioByDemo  \n",
       "0   102813.131              1.014  \n",
       "1   104621.690              0.930  \n",
       "2   102813.131              0.902  \n",
       "3    97890.795              1.043  \n",
       "4   104621.690              1.323  "
      ]
     },
     "execution_count": 55,
     "metadata": {},
     "output_type": "execute_result"
    }
   ],
   "source": [
    "churn.head()"
   ]
  },
  {
   "cell_type": "code",
   "execution_count": 56,
   "id": "6fea810d",
   "metadata": {},
   "outputs": [
    {
     "data": {
      "text/plain": [
       "CustomerId             int64\n",
       "CreditScore            int64\n",
       "Geography             object\n",
       "Gender                object\n",
       "Age                    int64\n",
       "Tenure                 int64\n",
       "Balance              float64\n",
       "NumOfProducts          int64\n",
       "HasCrCard              int64\n",
       "IsActiveMember         int64\n",
       "EstimatedSalary      float64\n",
       "Exited                 int64\n",
       "geo                     int8\n",
       "gender                  int8\n",
       "AgeBucket             object\n",
       "agebuckets              int8\n",
       "demokey               object\n",
       "demographics            int8\n",
       "GroupSalary          float64\n",
       "SalaryRatioByDemo    float64\n",
       "dtype: object"
      ]
     },
     "execution_count": 56,
     "metadata": {},
     "output_type": "execute_result"
    }
   ],
   "source": [
    "churn.dtypes"
   ]
  },
  {
   "cell_type": "code",
   "execution_count": 57,
   "id": "d03099c7",
   "metadata": {},
   "outputs": [],
   "source": [
    "new=churn.drop(columns=['geo','gender','AgeBucket','demokey','GroupSalary','agebuckets'])"
   ]
  },
  {
   "cell_type": "code",
   "execution_count": 58,
   "id": "961851a9",
   "metadata": {},
   "outputs": [
    {
     "data": {
      "text/html": [
       "<div>\n",
       "<style scoped>\n",
       "    .dataframe tbody tr th:only-of-type {\n",
       "        vertical-align: middle;\n",
       "    }\n",
       "\n",
       "    .dataframe tbody tr th {\n",
       "        vertical-align: top;\n",
       "    }\n",
       "\n",
       "    .dataframe thead th {\n",
       "        text-align: right;\n",
       "    }\n",
       "</style>\n",
       "<table border=\"1\" class=\"dataframe\">\n",
       "  <thead>\n",
       "    <tr style=\"text-align: right;\">\n",
       "      <th></th>\n",
       "      <th>CustomerId</th>\n",
       "      <th>CreditScore</th>\n",
       "      <th>Geography</th>\n",
       "      <th>Gender</th>\n",
       "      <th>Age</th>\n",
       "      <th>Tenure</th>\n",
       "      <th>Balance</th>\n",
       "      <th>NumOfProducts</th>\n",
       "      <th>HasCrCard</th>\n",
       "      <th>IsActiveMember</th>\n",
       "      <th>EstimatedSalary</th>\n",
       "      <th>Exited</th>\n",
       "      <th>demographics</th>\n",
       "      <th>SalaryRatioByDemo</th>\n",
       "    </tr>\n",
       "  </thead>\n",
       "  <tbody>\n",
       "    <tr>\n",
       "      <th>0</th>\n",
       "      <td>15634602</td>\n",
       "      <td>619</td>\n",
       "      <td>France</td>\n",
       "      <td>Female</td>\n",
       "      <td>42</td>\n",
       "      <td>2</td>\n",
       "      <td>0.000</td>\n",
       "      <td>1</td>\n",
       "      <td>1</td>\n",
       "      <td>1</td>\n",
       "      <td>101348.880</td>\n",
       "      <td>1</td>\n",
       "      <td>12</td>\n",
       "      <td>1.014</td>\n",
       "    </tr>\n",
       "    <tr>\n",
       "      <th>1</th>\n",
       "      <td>15647311</td>\n",
       "      <td>608</td>\n",
       "      <td>Spain</td>\n",
       "      <td>Female</td>\n",
       "      <td>41</td>\n",
       "      <td>1</td>\n",
       "      <td>83807.860</td>\n",
       "      <td>1</td>\n",
       "      <td>0</td>\n",
       "      <td>1</td>\n",
       "      <td>112542.580</td>\n",
       "      <td>0</td>\n",
       "      <td>8</td>\n",
       "      <td>0.930</td>\n",
       "    </tr>\n",
       "    <tr>\n",
       "      <th>2</th>\n",
       "      <td>15619304</td>\n",
       "      <td>502</td>\n",
       "      <td>France</td>\n",
       "      <td>Female</td>\n",
       "      <td>42</td>\n",
       "      <td>8</td>\n",
       "      <td>159660.800</td>\n",
       "      <td>3</td>\n",
       "      <td>1</td>\n",
       "      <td>0</td>\n",
       "      <td>113931.570</td>\n",
       "      <td>1</td>\n",
       "      <td>12</td>\n",
       "      <td>0.902</td>\n",
       "    </tr>\n",
       "    <tr>\n",
       "      <th>3</th>\n",
       "      <td>15701354</td>\n",
       "      <td>699</td>\n",
       "      <td>France</td>\n",
       "      <td>Female</td>\n",
       "      <td>39</td>\n",
       "      <td>1</td>\n",
       "      <td>0.000</td>\n",
       "      <td>2</td>\n",
       "      <td>0</td>\n",
       "      <td>0</td>\n",
       "      <td>93826.630</td>\n",
       "      <td>0</td>\n",
       "      <td>6</td>\n",
       "      <td>1.043</td>\n",
       "    </tr>\n",
       "    <tr>\n",
       "      <th>4</th>\n",
       "      <td>15737888</td>\n",
       "      <td>850</td>\n",
       "      <td>Spain</td>\n",
       "      <td>Female</td>\n",
       "      <td>43</td>\n",
       "      <td>2</td>\n",
       "      <td>125510.820</td>\n",
       "      <td>1</td>\n",
       "      <td>1</td>\n",
       "      <td>1</td>\n",
       "      <td>79084.100</td>\n",
       "      <td>0</td>\n",
       "      <td>8</td>\n",
       "      <td>1.323</td>\n",
       "    </tr>\n",
       "  </tbody>\n",
       "</table>\n",
       "</div>"
      ],
      "text/plain": [
       "   CustomerId  CreditScore Geography  Gender  Age  Tenure    Balance  \\\n",
       "0    15634602          619    France  Female   42       2      0.000   \n",
       "1    15647311          608     Spain  Female   41       1  83807.860   \n",
       "2    15619304          502    France  Female   42       8 159660.800   \n",
       "3    15701354          699    France  Female   39       1      0.000   \n",
       "4    15737888          850     Spain  Female   43       2 125510.820   \n",
       "\n",
       "   NumOfProducts  HasCrCard  IsActiveMember  EstimatedSalary  Exited  \\\n",
       "0              1          1               1       101348.880       1   \n",
       "1              1          0               1       112542.580       0   \n",
       "2              3          1               0       113931.570       1   \n",
       "3              2          0               0        93826.630       0   \n",
       "4              1          1               1        79084.100       0   \n",
       "\n",
       "   demographics  SalaryRatioByDemo  \n",
       "0            12              1.014  \n",
       "1             8              0.930  \n",
       "2            12              0.902  \n",
       "3             6              1.043  \n",
       "4             8              1.323  "
      ]
     },
     "execution_count": 58,
     "metadata": {},
     "output_type": "execute_result"
    }
   ],
   "source": [
    "new.head()"
   ]
  },
  {
   "cell_type": "code",
   "execution_count": 59,
   "id": "f0ef4f75",
   "metadata": {},
   "outputs": [],
   "source": [
    "newnum=new[['CustomerId','CreditScore','Age','Tenure','Balance','NumOfProducts','HasCrCard','IsActiveMember','EstimatedSalary','demographics','SalaryRatioByDemo','Exited']]"
   ]
  },
  {
   "cell_type": "code",
   "execution_count": 60,
   "id": "c0179a21",
   "metadata": {},
   "outputs": [
    {
     "data": {
      "text/plain": [
       "CustomerId           10000\n",
       "CreditScore          10000\n",
       "Age                  10000\n",
       "Tenure               10000\n",
       "Balance              10000\n",
       "NumOfProducts        10000\n",
       "HasCrCard            10000\n",
       "IsActiveMember       10000\n",
       "EstimatedSalary      10000\n",
       "demographics         10000\n",
       "SalaryRatioByDemo    10000\n",
       "Exited               10000\n",
       "dtype: int64"
      ]
     },
     "execution_count": 60,
     "metadata": {},
     "output_type": "execute_result"
    }
   ],
   "source": [
    "newnum.count()"
   ]
  },
  {
   "cell_type": "code",
   "execution_count": 61,
   "id": "f31dbb84",
   "metadata": {},
   "outputs": [
    {
     "data": {
      "text/plain": [
       "CustomerId             int64\n",
       "CreditScore            int64\n",
       "Age                    int64\n",
       "Tenure                 int64\n",
       "Balance              float64\n",
       "NumOfProducts          int64\n",
       "HasCrCard              int64\n",
       "IsActiveMember         int64\n",
       "EstimatedSalary      float64\n",
       "demographics            int8\n",
       "SalaryRatioByDemo    float64\n",
       "Exited                 int64\n",
       "dtype: object"
      ]
     },
     "execution_count": 61,
     "metadata": {},
     "output_type": "execute_result"
    }
   ],
   "source": [
    "newnum.dtypes"
   ]
  },
  {
   "cell_type": "code",
   "execution_count": 62,
   "id": "3f3f9877",
   "metadata": {},
   "outputs": [
    {
     "data": {
      "text/html": [
       "<div>\n",
       "<style scoped>\n",
       "    .dataframe tbody tr th:only-of-type {\n",
       "        vertical-align: middle;\n",
       "    }\n",
       "\n",
       "    .dataframe tbody tr th {\n",
       "        vertical-align: top;\n",
       "    }\n",
       "\n",
       "    .dataframe thead th {\n",
       "        text-align: right;\n",
       "    }\n",
       "</style>\n",
       "<table border=\"1\" class=\"dataframe\">\n",
       "  <thead>\n",
       "    <tr style=\"text-align: right;\">\n",
       "      <th></th>\n",
       "      <th>CustomerId</th>\n",
       "      <th>CreditScore</th>\n",
       "      <th>Age</th>\n",
       "      <th>Tenure</th>\n",
       "      <th>Balance</th>\n",
       "      <th>NumOfProducts</th>\n",
       "      <th>HasCrCard</th>\n",
       "      <th>IsActiveMember</th>\n",
       "      <th>EstimatedSalary</th>\n",
       "      <th>demographics</th>\n",
       "      <th>SalaryRatioByDemo</th>\n",
       "      <th>Exited</th>\n",
       "    </tr>\n",
       "  </thead>\n",
       "  <tbody>\n",
       "    <tr>\n",
       "      <th>0</th>\n",
       "      <td>15634602</td>\n",
       "      <td>619</td>\n",
       "      <td>42</td>\n",
       "      <td>2</td>\n",
       "      <td>0.000</td>\n",
       "      <td>1</td>\n",
       "      <td>1</td>\n",
       "      <td>1</td>\n",
       "      <td>101348.880</td>\n",
       "      <td>12</td>\n",
       "      <td>1.014</td>\n",
       "      <td>1</td>\n",
       "    </tr>\n",
       "    <tr>\n",
       "      <th>1</th>\n",
       "      <td>15647311</td>\n",
       "      <td>608</td>\n",
       "      <td>41</td>\n",
       "      <td>1</td>\n",
       "      <td>83807.860</td>\n",
       "      <td>1</td>\n",
       "      <td>0</td>\n",
       "      <td>1</td>\n",
       "      <td>112542.580</td>\n",
       "      <td>8</td>\n",
       "      <td>0.930</td>\n",
       "      <td>0</td>\n",
       "    </tr>\n",
       "    <tr>\n",
       "      <th>2</th>\n",
       "      <td>15619304</td>\n",
       "      <td>502</td>\n",
       "      <td>42</td>\n",
       "      <td>8</td>\n",
       "      <td>159660.800</td>\n",
       "      <td>3</td>\n",
       "      <td>1</td>\n",
       "      <td>0</td>\n",
       "      <td>113931.570</td>\n",
       "      <td>12</td>\n",
       "      <td>0.902</td>\n",
       "      <td>1</td>\n",
       "    </tr>\n",
       "    <tr>\n",
       "      <th>3</th>\n",
       "      <td>15701354</td>\n",
       "      <td>699</td>\n",
       "      <td>39</td>\n",
       "      <td>1</td>\n",
       "      <td>0.000</td>\n",
       "      <td>2</td>\n",
       "      <td>0</td>\n",
       "      <td>0</td>\n",
       "      <td>93826.630</td>\n",
       "      <td>6</td>\n",
       "      <td>1.043</td>\n",
       "      <td>0</td>\n",
       "    </tr>\n",
       "    <tr>\n",
       "      <th>4</th>\n",
       "      <td>15737888</td>\n",
       "      <td>850</td>\n",
       "      <td>43</td>\n",
       "      <td>2</td>\n",
       "      <td>125510.820</td>\n",
       "      <td>1</td>\n",
       "      <td>1</td>\n",
       "      <td>1</td>\n",
       "      <td>79084.100</td>\n",
       "      <td>8</td>\n",
       "      <td>1.323</td>\n",
       "      <td>0</td>\n",
       "    </tr>\n",
       "  </tbody>\n",
       "</table>\n",
       "</div>"
      ],
      "text/plain": [
       "   CustomerId  CreditScore  Age  Tenure    Balance  NumOfProducts  HasCrCard  \\\n",
       "0    15634602          619   42       2      0.000              1          1   \n",
       "1    15647311          608   41       1  83807.860              1          0   \n",
       "2    15619304          502   42       8 159660.800              3          1   \n",
       "3    15701354          699   39       1      0.000              2          0   \n",
       "4    15737888          850   43       2 125510.820              1          1   \n",
       "\n",
       "   IsActiveMember  EstimatedSalary  demographics  SalaryRatioByDemo  Exited  \n",
       "0               1       101348.880            12              1.014       1  \n",
       "1               1       112542.580             8              0.930       0  \n",
       "2               0       113931.570            12              0.902       1  \n",
       "3               0        93826.630             6              1.043       0  \n",
       "4               1        79084.100             8              1.323       0  "
      ]
     },
     "execution_count": 62,
     "metadata": {},
     "output_type": "execute_result"
    }
   ],
   "source": [
    "newnum.head()"
   ]
  },
  {
   "cell_type": "code",
   "execution_count": 63,
   "id": "fbc31f7e",
   "metadata": {},
   "outputs": [
    {
     "name": "stderr",
     "output_type": "stream",
     "text": [
      "<ipython-input-63-32ccacd192a7>:1: SettingWithCopyWarning: \n",
      "A value is trying to be set on a copy of a slice from a DataFrame.\n",
      "Try using .loc[row_indexer,col_indexer] = value instead\n",
      "\n",
      "See the caveats in the documentation: https://pandas.pydata.org/pandas-docs/stable/user_guide/indexing.html#returning-a-view-versus-a-copy\n",
      "  newnum['Balance']=newnum['Balance'].replace(0,0.001)\n",
      "<ipython-input-63-32ccacd192a7>:2: SettingWithCopyWarning: \n",
      "A value is trying to be set on a copy of a slice from a DataFrame.\n",
      "Try using .loc[row_indexer,col_indexer] = value instead\n",
      "\n",
      "See the caveats in the documentation: https://pandas.pydata.org/pandas-docs/stable/user_guide/indexing.html#returning-a-view-versus-a-copy\n",
      "  newnum['Tenure']=newnum['Tenure'].replace(0,0.001)\n"
     ]
    }
   ],
   "source": [
    "newnum['Balance']=newnum['Balance'].replace(0,0.001)\n",
    "newnum['Tenure']=newnum['Tenure'].replace(0,0.001)"
   ]
  },
  {
   "cell_type": "code",
   "execution_count": 64,
   "id": "a113c41c",
   "metadata": {},
   "outputs": [
    {
     "data": {
      "text/html": [
       "<div>\n",
       "<style scoped>\n",
       "    .dataframe tbody tr th:only-of-type {\n",
       "        vertical-align: middle;\n",
       "    }\n",
       "\n",
       "    .dataframe tbody tr th {\n",
       "        vertical-align: top;\n",
       "    }\n",
       "\n",
       "    .dataframe thead th {\n",
       "        text-align: right;\n",
       "    }\n",
       "</style>\n",
       "<table border=\"1\" class=\"dataframe\">\n",
       "  <thead>\n",
       "    <tr style=\"text-align: right;\">\n",
       "      <th></th>\n",
       "      <th>CustomerId</th>\n",
       "      <th>CreditScore</th>\n",
       "      <th>Age</th>\n",
       "      <th>Tenure</th>\n",
       "      <th>Balance</th>\n",
       "      <th>NumOfProducts</th>\n",
       "      <th>HasCrCard</th>\n",
       "      <th>IsActiveMember</th>\n",
       "      <th>EstimatedSalary</th>\n",
       "      <th>demographics</th>\n",
       "      <th>SalaryRatioByDemo</th>\n",
       "      <th>Exited</th>\n",
       "    </tr>\n",
       "  </thead>\n",
       "  <tbody>\n",
       "    <tr>\n",
       "      <th>count</th>\n",
       "      <td>10000.000</td>\n",
       "      <td>10000.000</td>\n",
       "      <td>10000.000</td>\n",
       "      <td>10000.000</td>\n",
       "      <td>10000.000</td>\n",
       "      <td>10000.000</td>\n",
       "      <td>10000.000</td>\n",
       "      <td>10000.000</td>\n",
       "      <td>10000.000</td>\n",
       "      <td>10000.000</td>\n",
       "      <td>10000.000</td>\n",
       "      <td>10000.000</td>\n",
       "    </tr>\n",
       "    <tr>\n",
       "      <th>mean</th>\n",
       "      <td>15690940.569</td>\n",
       "      <td>650.529</td>\n",
       "      <td>38.922</td>\n",
       "      <td>5.013</td>\n",
       "      <td>76485.890</td>\n",
       "      <td>1.530</td>\n",
       "      <td>0.706</td>\n",
       "      <td>0.515</td>\n",
       "      <td>100090.240</td>\n",
       "      <td>7.587</td>\n",
       "      <td>5.087</td>\n",
       "      <td>0.204</td>\n",
       "    </tr>\n",
       "    <tr>\n",
       "      <th>std</th>\n",
       "      <td>71936.186</td>\n",
       "      <td>96.653</td>\n",
       "      <td>10.488</td>\n",
       "      <td>2.892</td>\n",
       "      <td>62397.405</td>\n",
       "      <td>0.582</td>\n",
       "      <td>0.456</td>\n",
       "      <td>0.500</td>\n",
       "      <td>57510.493</td>\n",
       "      <td>6.968</td>\n",
       "      <td>92.010</td>\n",
       "      <td>0.403</td>\n",
       "    </tr>\n",
       "    <tr>\n",
       "      <th>min</th>\n",
       "      <td>15565701.000</td>\n",
       "      <td>350.000</td>\n",
       "      <td>18.000</td>\n",
       "      <td>0.001</td>\n",
       "      <td>0.001</td>\n",
       "      <td>1.000</td>\n",
       "      <td>0.000</td>\n",
       "      <td>0.000</td>\n",
       "      <td>11.580</td>\n",
       "      <td>1.000</td>\n",
       "      <td>0.467</td>\n",
       "      <td>0.000</td>\n",
       "    </tr>\n",
       "    <tr>\n",
       "      <th>25%</th>\n",
       "      <td>15628528.250</td>\n",
       "      <td>584.000</td>\n",
       "      <td>32.000</td>\n",
       "      <td>3.000</td>\n",
       "      <td>0.001</td>\n",
       "      <td>1.000</td>\n",
       "      <td>0.000</td>\n",
       "      <td>0.000</td>\n",
       "      <td>51002.110</td>\n",
       "      <td>3.000</td>\n",
       "      <td>0.671</td>\n",
       "      <td>0.000</td>\n",
       "    </tr>\n",
       "    <tr>\n",
       "      <th>50%</th>\n",
       "      <td>15690738.000</td>\n",
       "      <td>652.000</td>\n",
       "      <td>37.000</td>\n",
       "      <td>5.000</td>\n",
       "      <td>97198.540</td>\n",
       "      <td>1.000</td>\n",
       "      <td>1.000</td>\n",
       "      <td>1.000</td>\n",
       "      <td>100193.915</td>\n",
       "      <td>6.000</td>\n",
       "      <td>0.999</td>\n",
       "      <td>0.000</td>\n",
       "    </tr>\n",
       "    <tr>\n",
       "      <th>75%</th>\n",
       "      <td>15753233.750</td>\n",
       "      <td>718.000</td>\n",
       "      <td>44.000</td>\n",
       "      <td>7.000</td>\n",
       "      <td>127644.240</td>\n",
       "      <td>2.000</td>\n",
       "      <td>1.000</td>\n",
       "      <td>1.000</td>\n",
       "      <td>149388.247</td>\n",
       "      <td>10.000</td>\n",
       "      <td>1.967</td>\n",
       "      <td>0.000</td>\n",
       "    </tr>\n",
       "    <tr>\n",
       "      <th>max</th>\n",
       "      <td>15815690.000</td>\n",
       "      <td>850.000</td>\n",
       "      <td>92.000</td>\n",
       "      <td>10.000</td>\n",
       "      <td>250898.090</td>\n",
       "      <td>4.000</td>\n",
       "      <td>1.000</td>\n",
       "      <td>1.000</td>\n",
       "      <td>199992.480</td>\n",
       "      <td>30.000</td>\n",
       "      <td>8733.367</td>\n",
       "      <td>1.000</td>\n",
       "    </tr>\n",
       "  </tbody>\n",
       "</table>\n",
       "</div>"
      ],
      "text/plain": [
       "        CustomerId  CreditScore       Age    Tenure    Balance  NumOfProducts  \\\n",
       "count    10000.000    10000.000 10000.000 10000.000  10000.000      10000.000   \n",
       "mean  15690940.569      650.529    38.922     5.013  76485.890          1.530   \n",
       "std      71936.186       96.653    10.488     2.892  62397.405          0.582   \n",
       "min   15565701.000      350.000    18.000     0.001      0.001          1.000   \n",
       "25%   15628528.250      584.000    32.000     3.000      0.001          1.000   \n",
       "50%   15690738.000      652.000    37.000     5.000  97198.540          1.000   \n",
       "75%   15753233.750      718.000    44.000     7.000 127644.240          2.000   \n",
       "max   15815690.000      850.000    92.000    10.000 250898.090          4.000   \n",
       "\n",
       "       HasCrCard  IsActiveMember  EstimatedSalary  demographics  \\\n",
       "count  10000.000       10000.000        10000.000     10000.000   \n",
       "mean       0.706           0.515       100090.240         7.587   \n",
       "std        0.456           0.500        57510.493         6.968   \n",
       "min        0.000           0.000           11.580         1.000   \n",
       "25%        0.000           0.000        51002.110         3.000   \n",
       "50%        1.000           1.000       100193.915         6.000   \n",
       "75%        1.000           1.000       149388.247        10.000   \n",
       "max        1.000           1.000       199992.480        30.000   \n",
       "\n",
       "       SalaryRatioByDemo    Exited  \n",
       "count          10000.000 10000.000  \n",
       "mean               5.087     0.204  \n",
       "std               92.010     0.403  \n",
       "min                0.467     0.000  \n",
       "25%                0.671     0.000  \n",
       "50%                0.999     0.000  \n",
       "75%                1.967     0.000  \n",
       "max             8733.367     1.000  "
      ]
     },
     "execution_count": 64,
     "metadata": {},
     "output_type": "execute_result"
    }
   ],
   "source": [
    "newnum.describe()"
   ]
  },
  {
   "cell_type": "code",
   "execution_count": 65,
   "id": "dbde7d59",
   "metadata": {},
   "outputs": [
    {
     "name": "stderr",
     "output_type": "stream",
     "text": [
      "/Users/plutobot/opt/anaconda3/lib/python3.8/site-packages/seaborn/distributions.py:2557: FutureWarning: `distplot` is a deprecated function and will be removed in a future version. Please adapt your code to use either `displot` (a figure-level function with similar flexibility) or `histplot` (an axes-level function for histograms).\n",
      "  warnings.warn(msg, FutureWarning)\n"
     ]
    },
    {
     "data": {
      "text/plain": [
       "Text(0.5, 1.0, 'CreditScore')"
      ]
     },
     "execution_count": 65,
     "metadata": {},
     "output_type": "execute_result"
    },
    {
     "data": {
      "image/png": "[encoded data removed]",
      "text/plain": [
       "<Figure size 432x288 with 1 Axes>"
      ]
     },
     "metadata": {
      "needs_background": "light"
     },
     "output_type": "display_data"
    }
   ],
   "source": [
    "# Examining the data for any outliers or any other observations\n",
    "sns.distplot(newnum['CreditScore'],color='Grey').set_title('CreditScore')\n"
   ]
  },
  {
   "cell_type": "code",
   "execution_count": 66,
   "id": "dc0e710b",
   "metadata": {},
   "outputs": [
    {
     "name": "stderr",
     "output_type": "stream",
     "text": [
      "/Users/plutobot/opt/anaconda3/lib/python3.8/site-packages/seaborn/distributions.py:2557: FutureWarning: `distplot` is a deprecated function and will be removed in a future version. Please adapt your code to use either `displot` (a figure-level function with similar flexibility) or `histplot` (an axes-level function for histograms).\n",
      "  warnings.warn(msg, FutureWarning)\n"
     ]
    },
    {
     "data": {
      "text/plain": [
       "<AxesSubplot:xlabel='Age', ylabel='Density'>"
      ]
     },
     "execution_count": 66,
     "metadata": {},
     "output_type": "execute_result"
    },
    {
     "data": {
      "image/png": "[encoded data removed]",
      "text/plain": [
       "<Figure size 432x288 with 1 Axes>"
      ]
     },
     "metadata": {
      "needs_background": "light"
     },
     "output_type": "display_data"
    }
   ],
   "source": [
    "sns.distplot(newnum['Age'])"
   ]
  },
  {
   "cell_type": "code",
   "execution_count": 67,
   "id": "7e216443",
   "metadata": {},
   "outputs": [
    {
     "name": "stderr",
     "output_type": "stream",
     "text": [
      "/Users/plutobot/opt/anaconda3/lib/python3.8/site-packages/seaborn/distributions.py:2557: FutureWarning: `distplot` is a deprecated function and will be removed in a future version. Please adapt your code to use either `displot` (a figure-level function with similar flexibility) or `histplot` (an axes-level function for histograms).\n",
      "  warnings.warn(msg, FutureWarning)\n"
     ]
    },
    {
     "data": {
      "text/plain": [
       "<AxesSubplot:xlabel='Tenure', ylabel='Density'>"
      ]
     },
     "execution_count": 67,
     "metadata": {},
     "output_type": "execute_result"
    },
    {
     "data": {
      "image/png": "[encoded data removed]",
      "text/plain": [
       "<Figure size 432x288 with 1 Axes>"
      ]
     },
     "metadata": {
      "needs_background": "light"
     },
     "output_type": "display_data"
    }
   ],
   "source": [
    "sns.distplot(newnum['Tenure'])"
   ]
  },
  {
   "cell_type": "code",
   "execution_count": 68,
   "id": "b4215252",
   "metadata": {},
   "outputs": [
    {
     "name": "stderr",
     "output_type": "stream",
     "text": [
      "/Users/plutobot/opt/anaconda3/lib/python3.8/site-packages/seaborn/distributions.py:2557: FutureWarning: `distplot` is a deprecated function and will be removed in a future version. Please adapt your code to use either `displot` (a figure-level function with similar flexibility) or `histplot` (an axes-level function for histograms).\n",
      "  warnings.warn(msg, FutureWarning)\n"
     ]
    },
    {
     "data": {
      "text/plain": [
       "Text(0.5, 1.0, 'Tenure')"
      ]
     },
     "execution_count": 68,
     "metadata": {},
     "output_type": "execute_result"
    },
    {
     "data": {
      "image/png": "[encoded data removed]",
      "text/plain": [
       "<Figure size 432x288 with 1 Axes>"
      ]
     },
     "metadata": {
      "needs_background": "light"
     },
     "output_type": "display_data"
    }
   ],
   "source": [
    "sns.distplot(np.log10(newnum['Tenure']),color='grey').set_title('Tenure')\n"
   ]
  },
  {
   "cell_type": "code",
   "execution_count": 69,
   "id": "670f67cf",
   "metadata": {},
   "outputs": [
    {
     "name": "stderr",
     "output_type": "stream",
     "text": [
      "/Users/plutobot/opt/anaconda3/lib/python3.8/site-packages/seaborn/distributions.py:2557: FutureWarning: `distplot` is a deprecated function and will be removed in a future version. Please adapt your code to use either `displot` (a figure-level function with similar flexibility) or `histplot` (an axes-level function for histograms).\n",
      "  warnings.warn(msg, FutureWarning)\n"
     ]
    },
    {
     "data": {
      "text/plain": [
       "<AxesSubplot:xlabel='Balance', ylabel='Density'>"
      ]
     },
     "execution_count": 69,
     "metadata": {},
     "output_type": "execute_result"
    },
    {
     "data": {
      "image/png": "[encoded data removed]",
      "text/plain": [
       "<Figure size 432x288 with 1 Axes>"
      ]
     },
     "metadata": {
      "needs_background": "light"
     },
     "output_type": "display_data"
    }
   ],
   "source": [
    "sns.distplot(newnum['Balance'])"
   ]
  },
  {
   "cell_type": "code",
   "execution_count": 70,
   "id": "b40bff76",
   "metadata": {},
   "outputs": [
    {
     "name": "stderr",
     "output_type": "stream",
     "text": [
      "/Users/plutobot/opt/anaconda3/lib/python3.8/site-packages/seaborn/distributions.py:2557: FutureWarning: `distplot` is a deprecated function and will be removed in a future version. Please adapt your code to use either `displot` (a figure-level function with similar flexibility) or `histplot` (an axes-level function for histograms).\n",
      "  warnings.warn(msg, FutureWarning)\n"
     ]
    },
    {
     "data": {
      "text/plain": [
       "Text(0.5, 1.0, 'Balance')"
      ]
     },
     "execution_count": 70,
     "metadata": {},
     "output_type": "execute_result"
    },
    {
     "data": {
      "image/png": "[encoded data removed]",
      "text/plain": [
       "<Figure size 432x288 with 1 Axes>"
      ]
     },
     "metadata": {
      "needs_background": "light"
     },
     "output_type": "display_data"
    }
   ],
   "source": [
    "sns.distplot(np.log10(newnum['Balance']),color='Turquoise').set_title('Balance')"
   ]
  },
  {
   "cell_type": "code",
   "execution_count": 71,
   "id": "16c07944",
   "metadata": {},
   "outputs": [
    {
     "name": "stderr",
     "output_type": "stream",
     "text": [
      "/Users/plutobot/opt/anaconda3/lib/python3.8/site-packages/seaborn/distributions.py:2557: FutureWarning: `distplot` is a deprecated function and will be removed in a future version. Please adapt your code to use either `displot` (a figure-level function with similar flexibility) or `histplot` (an axes-level function for histograms).\n",
      "  warnings.warn(msg, FutureWarning)\n"
     ]
    },
    {
     "data": {
      "text/plain": [
       "Text(0.5, 1.0, 'NumOfProducts')"
      ]
     },
     "execution_count": 71,
     "metadata": {},
     "output_type": "execute_result"
    },
    {
     "data": {
      "image/png": "[encoded data removed]",
      "text/plain": [
       "<Figure size 432x288 with 1 Axes>"
      ]
     },
     "metadata": {
      "needs_background": "light"
     },
     "output_type": "display_data"
    }
   ],
   "source": [
    "sns.distplot((newnum['NumOfProducts']),color='Grey').set_title('NumOfProducts')"
   ]
  },
  {
   "cell_type": "code",
   "execution_count": 72,
   "id": "73bdf79a",
   "metadata": {},
   "outputs": [
    {
     "name": "stderr",
     "output_type": "stream",
     "text": [
      "/Users/plutobot/opt/anaconda3/lib/python3.8/site-packages/seaborn/distributions.py:2557: FutureWarning: `distplot` is a deprecated function and will be removed in a future version. Please adapt your code to use either `displot` (a figure-level function with similar flexibility) or `histplot` (an axes-level function for histograms).\n",
      "  warnings.warn(msg, FutureWarning)\n"
     ]
    },
    {
     "data": {
      "text/plain": [
       "<AxesSubplot:xlabel='EstimatedSalary', ylabel='Density'>"
      ]
     },
     "execution_count": 72,
     "metadata": {},
     "output_type": "execute_result"
    },
    {
     "data": {
      "image/png": "[encoded data removed]",
      "text/plain": [
       "<Figure size 432x288 with 1 Axes>"
      ]
     },
     "metadata": {
      "needs_background": "light"
     },
     "output_type": "display_data"
    }
   ],
   "source": [
    "sns.distplot(newnum['EstimatedSalary'])"
   ]
  },
  {
   "cell_type": "code",
   "execution_count": 73,
   "id": "b3e67596",
   "metadata": {},
   "outputs": [
    {
     "name": "stderr",
     "output_type": "stream",
     "text": [
      "/Users/plutobot/opt/anaconda3/lib/python3.8/site-packages/seaborn/distributions.py:2557: FutureWarning: `distplot` is a deprecated function and will be removed in a future version. Please adapt your code to use either `displot` (a figure-level function with similar flexibility) or `histplot` (an axes-level function for histograms).\n",
      "  warnings.warn(msg, FutureWarning)\n"
     ]
    },
    {
     "data": {
      "text/plain": [
       "Text(0.5, 1.0, 'EstimatedSalary')"
      ]
     },
     "execution_count": 73,
     "metadata": {},
     "output_type": "execute_result"
    },
    {
     "data": {
      "image/png": "[encoded data removed]",
      "text/plain": [
       "<Figure size 432x288 with 1 Axes>"
      ]
     },
     "metadata": {
      "needs_background": "light"
     },
     "output_type": "display_data"
    }
   ],
   "source": [
    "sns.distplot(np.log10(newnum['EstimatedSalary']),color='Turquoise').set_title('EstimatedSalary')"
   ]
  },
  {
   "cell_type": "code",
   "execution_count": 74,
   "id": "f40cb648",
   "metadata": {},
   "outputs": [
    {
     "name": "stderr",
     "output_type": "stream",
     "text": [
      "/Users/plutobot/opt/anaconda3/lib/python3.8/site-packages/seaborn/distributions.py:2557: FutureWarning: `distplot` is a deprecated function and will be removed in a future version. Please adapt your code to use either `displot` (a figure-level function with similar flexibility) or `histplot` (an axes-level function for histograms).\n",
      "  warnings.warn(msg, FutureWarning)\n"
     ]
    },
    {
     "data": {
      "text/plain": [
       "Text(0.5, 1.0, 'demographics')"
      ]
     },
     "execution_count": 74,
     "metadata": {},
     "output_type": "execute_result"
    },
    {
     "data": {
      "image/png": "[encoded data removed]",
      "text/plain": [
       "<Figure size 432x288 with 1 Axes>"
      ]
     },
     "metadata": {
      "needs_background": "light"
     },
     "output_type": "display_data"
    }
   ],
   "source": [
    "sns.distplot((newnum['demographics']),color='turquoise').set_title('demographics')"
   ]
  },
  {
   "cell_type": "code",
   "execution_count": 75,
   "id": "71a4260a",
   "metadata": {},
   "outputs": [
    {
     "name": "stderr",
     "output_type": "stream",
     "text": [
      "/Users/plutobot/opt/anaconda3/lib/python3.8/site-packages/seaborn/distributions.py:2557: FutureWarning: `distplot` is a deprecated function and will be removed in a future version. Please adapt your code to use either `displot` (a figure-level function with similar flexibility) or `histplot` (an axes-level function for histograms).\n",
      "  warnings.warn(msg, FutureWarning)\n"
     ]
    },
    {
     "data": {
      "text/plain": [
       "<AxesSubplot:xlabel='demographics', ylabel='Density'>"
      ]
     },
     "execution_count": 75,
     "metadata": {},
     "output_type": "execute_result"
    },
    {
     "data": {
      "image/png": "[encoded data removed]",
      "text/plain": [
       "<Figure size 432x288 with 1 Axes>"
      ]
     },
     "metadata": {
      "needs_background": "light"
     },
     "output_type": "display_data"
    }
   ],
   "source": [
    "sns.distplot(np.log10(newnum['demographics']))"
   ]
  },
  {
   "cell_type": "code",
   "execution_count": 76,
   "id": "4f2c5a9f",
   "metadata": {},
   "outputs": [
    {
     "name": "stderr",
     "output_type": "stream",
     "text": [
      "/Users/plutobot/opt/anaconda3/lib/python3.8/site-packages/seaborn/distributions.py:2557: FutureWarning: `distplot` is a deprecated function and will be removed in a future version. Please adapt your code to use either `displot` (a figure-level function with similar flexibility) or `histplot` (an axes-level function for histograms).\n",
      "  warnings.warn(msg, FutureWarning)\n"
     ]
    },
    {
     "data": {
      "text/plain": [
       "<AxesSubplot:xlabel='SalaryRatioByDemo', ylabel='Density'>"
      ]
     },
     "execution_count": 76,
     "metadata": {},
     "output_type": "execute_result"
    },
    {
     "data": {
      "image/png": "[encoded data removed]",
      "text/plain": [
       "<Figure size 432x288 with 1 Axes>"
      ]
     },
     "metadata": {
      "needs_background": "light"
     },
     "output_type": "display_data"
    }
   ],
   "source": [
    "sns.distplot(newnum['SalaryRatioByDemo'])"
   ]
  },
  {
   "cell_type": "code",
   "execution_count": 77,
   "id": "2764383d",
   "metadata": {},
   "outputs": [
    {
     "name": "stderr",
     "output_type": "stream",
     "text": [
      "/Users/plutobot/opt/anaconda3/lib/python3.8/site-packages/seaborn/distributions.py:2557: FutureWarning: `distplot` is a deprecated function and will be removed in a future version. Please adapt your code to use either `displot` (a figure-level function with similar flexibility) or `histplot` (an axes-level function for histograms).\n",
      "  warnings.warn(msg, FutureWarning)\n"
     ]
    },
    {
     "data": {
      "text/plain": [
       "Text(0.5, 1.0, 'SalaryRatioByDemo')"
      ]
     },
     "execution_count": 77,
     "metadata": {},
     "output_type": "execute_result"
    },
    {
     "data": {
      "image/png": "[encoded data removed]",
      "text/plain": [
       "<Figure size 432x288 with 1 Axes>"
      ]
     },
     "metadata": {
      "needs_background": "light"
     },
     "output_type": "display_data"
    }
   ],
   "source": [
    "sns.distplot(np.log10(newnum['SalaryRatioByDemo']),color='grey').set_title('SalaryRatioByDemo')"
   ]
  },
  {
   "cell_type": "code",
   "execution_count": 78,
   "id": "093d5197",
   "metadata": {},
   "outputs": [
    {
     "name": "stderr",
     "output_type": "stream",
     "text": [
      "<ipython-input-78-d35afb65dcd2>:2: SettingWithCopyWarning: \n",
      "A value is trying to be set on a copy of a slice from a DataFrame.\n",
      "Try using .loc[row_indexer,col_indexer] = value instead\n",
      "\n",
      "See the caveats in the documentation: https://pandas.pydata.org/pandas-docs/stable/user_guide/indexing.html#returning-a-view-versus-a-copy\n",
      "  newnum['Tenurelog']=np.log10(newnum['Tenure'])\n"
     ]
    }
   ],
   "source": [
    "# Transforming certain variables\n",
    "newnum['Tenurelog']=np.log10(newnum['Tenure'])\n",
    "newnum['Balancelog']=np.log10(newnum['Balance'])\n",
    "newnum['EstimatedSalarylog']=np.log10(newnum['EstimatedSalary'])\n",
    "newnum['SalaryRatioByDemolog']=np.log10(newnum['SalaryRatioByDemo'])"
   ]
  },
  {
   "cell_type": "code",
   "execution_count": 79,
   "id": "1a807cd5",
   "metadata": {},
   "outputs": [
    {
     "data": {
      "text/plain": [
       "CustomerId              10000\n",
       "CreditScore             10000\n",
       "Age                     10000\n",
       "Tenure                  10000\n",
       "Balance                 10000\n",
       "NumOfProducts           10000\n",
       "HasCrCard               10000\n",
       "IsActiveMember          10000\n",
       "EstimatedSalary         10000\n",
       "demographics            10000\n",
       "SalaryRatioByDemo       10000\n",
       "Exited                  10000\n",
       "Tenurelog               10000\n",
       "Balancelog              10000\n",
       "EstimatedSalarylog      10000\n",
       "SalaryRatioByDemolog    10000\n",
       "dtype: int64"
      ]
     },
     "execution_count": 79,
     "metadata": {},
     "output_type": "execute_result"
    }
   ],
   "source": [
    "newnum.count()"
   ]
  },
  {
   "cell_type": "code",
   "execution_count": 80,
   "id": "54005d67",
   "metadata": {},
   "outputs": [],
   "source": [
    "#newnum.to_csv('/Users/plutobot/Downloads/Churn/ChurntrainA.csv')"
   ]
  },
  {
   "cell_type": "code",
   "execution_count": 81,
   "id": "8b39aba6",
   "metadata": {},
   "outputs": [],
   "source": [
    "newnum=newnum[['CustomerId','CreditScore','Age','Tenurelog','Balancelog','NumOfProducts','HasCrCard','IsActiveMember','EstimatedSalarylog','demographics','SalaryRatioByDemolog','Exited']]"
   ]
  },
  {
   "cell_type": "code",
   "execution_count": 82,
   "id": "a2c0a622",
   "metadata": {},
   "outputs": [
    {
     "data": {
      "text/plain": [
       "CustomerId              10000\n",
       "CreditScore             10000\n",
       "Age                     10000\n",
       "Tenurelog               10000\n",
       "Balancelog              10000\n",
       "NumOfProducts           10000\n",
       "HasCrCard               10000\n",
       "IsActiveMember          10000\n",
       "EstimatedSalarylog      10000\n",
       "demographics            10000\n",
       "SalaryRatioByDemolog    10000\n",
       "Exited                  10000\n",
       "dtype: int64"
      ]
     },
     "execution_count": 82,
     "metadata": {},
     "output_type": "execute_result"
    }
   ],
   "source": [
    "newnum.count()"
   ]
  },
  {
   "cell_type": "code",
   "execution_count": 83,
   "id": "f37f7ac7",
   "metadata": {},
   "outputs": [
    {
     "data": {
      "text/plain": [
       "0    7963\n",
       "1    2037\n",
       "Name: Exited, dtype: int64"
      ]
     },
     "execution_count": 83,
     "metadata": {},
     "output_type": "execute_result"
    }
   ],
   "source": [
    "newnum['Exited'].value_counts()"
   ]
  },
  {
   "cell_type": "code",
   "execution_count": 84,
   "id": "e628f244",
   "metadata": {},
   "outputs": [],
   "source": [
    "newnum.to_csv('/Users/plutobot/Downloads/Churn/Churntrain.csv')"
   ]
  },
  {
   "cell_type": "markdown",
   "id": "6ebf2cc3",
   "metadata": {},
   "source": [
    "### Visuals for ppt"
   ]
  },
  {
   "cell_type": "code",
   "execution_count": 85,
   "id": "6131928e",
   "metadata": {},
   "outputs": [
    {
     "data": {
      "image/png": "[encoded data removed]",
      "text/plain": [
       "<Figure size 648x504 with 1 Axes>"
      ]
     },
     "metadata": {},
     "output_type": "display_data"
    }
   ],
   "source": [
    "# Pie chart to show the distribution of output variable\n",
    "labels = 'Churned', 'Retained'\n",
    "sizes = [newnum.Exited[newnum['Exited']==1].count(), newnum.Exited[newnum['Exited']==0].count()]\n",
    "explode = (0, 0.1)\n",
    "colors=['Gray','Turquoise']\n",
    "fig1, ax1 = plt.subplots(figsize=(9, 7))\n",
    "ax1.pie(sizes, explode=explode, labels=labels, autopct='%1.1f%%',colors=colors,\n",
    "        shadow=True, startangle=90)\n",
    "ax1.axis('equal')\n",
    "plt.title(\"Proportion of customer churned and retained in this bank\", size = 20)\n",
    "plt.show()\n",
    "\n"
   ]
  },
  {
   "cell_type": "code",
   "execution_count": 86,
   "id": "6052dfac",
   "metadata": {},
   "outputs": [
    {
     "data": {
      "text/plain": [
       "CustomerId             int64\n",
       "CreditScore            int64\n",
       "Geography             object\n",
       "Gender                object\n",
       "Age                    int64\n",
       "Tenure                 int64\n",
       "Balance              float64\n",
       "NumOfProducts          int64\n",
       "HasCrCard              int64\n",
       "IsActiveMember         int64\n",
       "EstimatedSalary      float64\n",
       "Exited                 int64\n",
       "geo                     int8\n",
       "gender                  int8\n",
       "AgeBucket             object\n",
       "agebuckets              int8\n",
       "demokey               object\n",
       "demographics            int8\n",
       "GroupSalary          float64\n",
       "SalaryRatioByDemo    float64\n",
       "dtype: object"
      ]
     },
     "execution_count": 86,
     "metadata": {},
     "output_type": "execute_result"
    }
   ],
   "source": [
    "churn.dtypes"
   ]
  },
  {
   "cell_type": "code",
   "execution_count": 87,
   "id": "226c8c8c",
   "metadata": {},
   "outputs": [],
   "source": [
    "churn.to_csv(\"/Users/plutobot/Downloads/Churn/ChurntrainB.csv\")"
   ]
  },
  {
   "cell_type": "code",
   "execution_count": 99,
   "id": "e6ce992b",
   "metadata": {},
   "outputs": [
    {
     "data": {
      "text/html": [
       "<div>\n",
       "<style scoped>\n",
       "    .dataframe tbody tr th:only-of-type {\n",
       "        vertical-align: middle;\n",
       "    }\n",
       "\n",
       "    .dataframe tbody tr th {\n",
       "        vertical-align: top;\n",
       "    }\n",
       "\n",
       "    .dataframe thead th {\n",
       "        text-align: right;\n",
       "    }\n",
       "</style>\n",
       "<table border=\"1\" class=\"dataframe\">\n",
       "  <thead>\n",
       "    <tr style=\"text-align: right;\">\n",
       "      <th></th>\n",
       "      <th></th>\n",
       "      <th>Exited</th>\n",
       "    </tr>\n",
       "    <tr>\n",
       "      <th>Geography</th>\n",
       "      <th>Exited</th>\n",
       "      <th></th>\n",
       "    </tr>\n",
       "  </thead>\n",
       "  <tbody>\n",
       "    <tr>\n",
       "      <th rowspan=\"2\" valign=\"top\">France</th>\n",
       "      <th>0</th>\n",
       "      <td>83.845</td>\n",
       "    </tr>\n",
       "    <tr>\n",
       "      <th>1</th>\n",
       "      <td>16.155</td>\n",
       "    </tr>\n",
       "    <tr>\n",
       "      <th rowspan=\"2\" valign=\"top\">Germany</th>\n",
       "      <th>0</th>\n",
       "      <td>67.557</td>\n",
       "    </tr>\n",
       "    <tr>\n",
       "      <th>1</th>\n",
       "      <td>32.443</td>\n",
       "    </tr>\n",
       "    <tr>\n",
       "      <th rowspan=\"2\" valign=\"top\">Spain</th>\n",
       "      <th>0</th>\n",
       "      <td>83.327</td>\n",
       "    </tr>\n",
       "    <tr>\n",
       "      <th>1</th>\n",
       "      <td>16.673</td>\n",
       "    </tr>\n",
       "  </tbody>\n",
       "</table>\n",
       "</div>"
      ],
      "text/plain": [
       "                  Exited\n",
       "Geography Exited        \n",
       "France    0       83.845\n",
       "          1       16.155\n",
       "Germany   0       67.557\n",
       "          1       32.443\n",
       "Spain     0       83.327\n",
       "          1       16.673"
      ]
     },
     "execution_count": 99,
     "metadata": {},
     "output_type": "execute_result"
    }
   ],
   "source": [
    "\n",
    "pd.DataFrame(churn.groupby(['Geography'])['Exited'].value_counts(normalize=True))*100"
   ]
  },
  {
   "cell_type": "code",
   "execution_count": 107,
   "id": "9d980b47",
   "metadata": {},
   "outputs": [
    {
     "data": {
      "text/html": [
       "<div>\n",
       "<style scoped>\n",
       "    .dataframe tbody tr th:only-of-type {\n",
       "        vertical-align: middle;\n",
       "    }\n",
       "\n",
       "    .dataframe tbody tr th {\n",
       "        vertical-align: top;\n",
       "    }\n",
       "\n",
       "    .dataframe thead th {\n",
       "        text-align: right;\n",
       "    }\n",
       "</style>\n",
       "<table border=\"1\" class=\"dataframe\">\n",
       "  <thead>\n",
       "    <tr style=\"text-align: right;\">\n",
       "      <th></th>\n",
       "      <th></th>\n",
       "      <th>Exited</th>\n",
       "    </tr>\n",
       "    <tr>\n",
       "      <th>NumOfProducts</th>\n",
       "      <th>Exited</th>\n",
       "      <th></th>\n",
       "    </tr>\n",
       "  </thead>\n",
       "  <tbody>\n",
       "    <tr>\n",
       "      <th rowspan=\"2\" valign=\"top\">1</th>\n",
       "      <th>0</th>\n",
       "      <td>72.286</td>\n",
       "    </tr>\n",
       "    <tr>\n",
       "      <th>1</th>\n",
       "      <td>27.714</td>\n",
       "    </tr>\n",
       "    <tr>\n",
       "      <th rowspan=\"2\" valign=\"top\">2</th>\n",
       "      <th>0</th>\n",
       "      <td>92.418</td>\n",
       "    </tr>\n",
       "    <tr>\n",
       "      <th>1</th>\n",
       "      <td>7.582</td>\n",
       "    </tr>\n",
       "    <tr>\n",
       "      <th rowspan=\"2\" valign=\"top\">3</th>\n",
       "      <th>1</th>\n",
       "      <td>82.707</td>\n",
       "    </tr>\n",
       "    <tr>\n",
       "      <th>0</th>\n",
       "      <td>17.293</td>\n",
       "    </tr>\n",
       "    <tr>\n",
       "      <th>4</th>\n",
       "      <th>1</th>\n",
       "      <td>100.000</td>\n",
       "    </tr>\n",
       "  </tbody>\n",
       "</table>\n",
       "</div>"
      ],
      "text/plain": [
       "                      Exited\n",
       "NumOfProducts Exited        \n",
       "1             0       72.286\n",
       "              1       27.714\n",
       "2             0       92.418\n",
       "              1        7.582\n",
       "3             1       82.707\n",
       "              0       17.293\n",
       "4             1      100.000"
      ]
     },
     "execution_count": 107,
     "metadata": {},
     "output_type": "execute_result"
    }
   ],
   "source": [
    "\n",
    "pd.DataFrame(churn.groupby(['NumOfProducts'])['Exited'].value_counts(normalize=True))*100"
   ]
  },
  {
   "cell_type": "code",
   "execution_count": 88,
   "id": "b0ffb0d3",
   "metadata": {},
   "outputs": [
    {
     "data": {
      "text/plain": [
       "Text(0.5, 0.98, 'Customer Behavior by Geography')"
      ]
     },
     "execution_count": 88,
     "metadata": {},
     "output_type": "execute_result"
    },
    {
     "data": {
      "image/png": "[encoded data removed]",
      "text/plain": [
       "<Figure size 402.375x360 with 1 Axes>"
      ]
     },
     "metadata": {
      "needs_background": "light"
     },
     "output_type": "display_data"
    }
   ],
   "source": [
    "# Geography vs Exited\n",
    "class_order = ['France','Germany','Spain'] \n",
    "hue_order = [0, 1]\n",
    "bar_order = product(class_order, hue_order)\n",
    "\n",
    "catp = sns.catplot(data=churn, kind='count', \n",
    "                   x='Geography', hue='Exited',\n",
    "                   order = class_order, \n",
    "                   hue_order = hue_order ,palette=colors)\n",
    "catp.fig.suptitle('Customer Behavior by Geography')"
   ]
  },
  {
   "cell_type": "code",
   "execution_count": 87,
   "id": "c3623d74",
   "metadata": {},
   "outputs": [
    {
     "data": {
      "image/png": "[encoded data removed]",
      "text/plain": [
       "<Figure size 402.375x360 with 1 Axes>"
      ]
     },
     "metadata": {
      "needs_background": "light"
     },
     "output_type": "display_data"
    }
   ],
   "source": [
    "# Geography vs Exited\n",
    "class_order = ['France','Germany','Spain'] \n",
    "hue_order = [0, 1]\n",
    "bar_order = product(class_order, hue_order)\n",
    "\n",
    "catp = sns.catplot(data=churn, kind='count', \n",
    "                   x='Geography', hue='Exited',\n",
    "                   order = class_order, \n",
    "                   hue_order = hue_order ,palette=colors)\n",
    "catp.fig.suptitle('Customer Behavior by Geography')\n",
    "\n",
    "\n",
    "\n",
    "spots = zip(catp.ax.patches, bar_order)\n",
    "for spot in spots:\n",
    "    geo_total = len(churn[churn['Geography']==spot[1][0]])\n",
    "    geo_Exited_total = len(churn[(churn['Geography']==spot[1][0]) & \n",
    "        (churn['Exited']==spot[1][1])])\n",
    "    height = spot[0].get_height() \n",
    "    catp.ax.text(spot[0].get_x(), height+3, '{:1.2f}'.format(geo_Exited_total/geo_total))"
   ]
  },
  {
   "cell_type": "code",
   "execution_count": 100,
   "id": "2a587da0",
   "metadata": {},
   "outputs": [
    {
     "data": {
      "text/html": [
       "<div>\n",
       "<style scoped>\n",
       "    .dataframe tbody tr th:only-of-type {\n",
       "        vertical-align: middle;\n",
       "    }\n",
       "\n",
       "    .dataframe tbody tr th {\n",
       "        vertical-align: top;\n",
       "    }\n",
       "\n",
       "    .dataframe thead th {\n",
       "        text-align: right;\n",
       "    }\n",
       "</style>\n",
       "<table border=\"1\" class=\"dataframe\">\n",
       "  <thead>\n",
       "    <tr style=\"text-align: right;\">\n",
       "      <th></th>\n",
       "      <th></th>\n",
       "      <th>Exited</th>\n",
       "    </tr>\n",
       "    <tr>\n",
       "      <th>Gender</th>\n",
       "      <th>Exited</th>\n",
       "      <th></th>\n",
       "    </tr>\n",
       "  </thead>\n",
       "  <tbody>\n",
       "    <tr>\n",
       "      <th rowspan=\"2\" valign=\"top\">Female</th>\n",
       "      <th>0</th>\n",
       "      <td>74.928</td>\n",
       "    </tr>\n",
       "    <tr>\n",
       "      <th>1</th>\n",
       "      <td>25.072</td>\n",
       "    </tr>\n",
       "    <tr>\n",
       "      <th rowspan=\"2\" valign=\"top\">Male</th>\n",
       "      <th>0</th>\n",
       "      <td>83.544</td>\n",
       "    </tr>\n",
       "    <tr>\n",
       "      <th>1</th>\n",
       "      <td>16.456</td>\n",
       "    </tr>\n",
       "  </tbody>\n",
       "</table>\n",
       "</div>"
      ],
      "text/plain": [
       "               Exited\n",
       "Gender Exited        \n",
       "Female 0       74.928\n",
       "       1       25.072\n",
       "Male   0       83.544\n",
       "       1       16.456"
      ]
     },
     "execution_count": 100,
     "metadata": {},
     "output_type": "execute_result"
    }
   ],
   "source": [
    "pd.DataFrame(churn.groupby(['Gender'])['Exited'].value_counts(normalize=True))*100"
   ]
  },
  {
   "cell_type": "code",
   "execution_count": 90,
   "id": "94e61278",
   "metadata": {},
   "outputs": [
    {
     "data": {
      "text/plain": [
       "Text(0.5, 0.98, 'Customer Behavior by Gender')"
      ]
     },
     "execution_count": 90,
     "metadata": {},
     "output_type": "execute_result"
    },
    {
     "data": {
      "image/png": "[encoded data removed]",
      "text/plain": [
       "<Figure size 402.375x360 with 1 Axes>"
      ]
     },
     "metadata": {
      "needs_background": "light"
     },
     "output_type": "display_data"
    }
   ],
   "source": [
    "# Gender vs Exited\n",
    "class_order = ['Female','Male'] \n",
    "hue_order = [0, 1]\n",
    "bar_order = product(class_order, hue_order)\n",
    "\n",
    "catp = sns.catplot(data=churn, kind='count', \n",
    "                   x='Gender', hue='Exited',\n",
    "                   order = class_order, \n",
    "                   hue_order = hue_order ,palette=colors)\n",
    "catp.fig.suptitle('Customer Behavior by Gender')"
   ]
  },
  {
   "cell_type": "code",
   "execution_count": 88,
   "id": "f32b1608",
   "metadata": {},
   "outputs": [
    {
     "data": {
      "image/png": "[encoded data removed]",
      "text/plain": [
       "<Figure size 402.375x360 with 1 Axes>"
      ]
     },
     "metadata": {
      "needs_background": "light"
     },
     "output_type": "display_data"
    }
   ],
   "source": [
    "# Gender vs Exited\n",
    "class_order = ['Female','Male'] \n",
    "hue_order = [0, 1]\n",
    "bar_order = product(class_order, hue_order)\n",
    "\n",
    "catp = sns.catplot(data=churn, kind='count', \n",
    "                   x='Gender', hue='Exited',\n",
    "                   order = class_order, \n",
    "                   hue_order = hue_order ,palette=colors)\n",
    "catp.fig.suptitle('Customer Behavior by Gender')\n",
    "\n",
    "\n",
    "\n",
    "spots = zip(catp.ax.patches, bar_order)\n",
    "for spot in spots:\n",
    "    gender_total = len(churn[churn['Gender']==spot[1][0]])\n",
    "    gender_Exited_total = len(churn[(churn['Gender']==spot[1][0]) & \n",
    "        (churn['Exited']==spot[1][1])])\n",
    "    height = spot[0].get_height() \n",
    "    catp.ax.text(spot[0].get_x(), height+3, '{:1.2f}'.format(gender_Exited_total/gender_total))"
   ]
  },
  {
   "cell_type": "code",
   "execution_count": 102,
   "id": "cf7b4875",
   "metadata": {},
   "outputs": [
    {
     "data": {
      "text/html": [
       "<div>\n",
       "<style scoped>\n",
       "    .dataframe tbody tr th:only-of-type {\n",
       "        vertical-align: middle;\n",
       "    }\n",
       "\n",
       "    .dataframe tbody tr th {\n",
       "        vertical-align: top;\n",
       "    }\n",
       "\n",
       "    .dataframe thead th {\n",
       "        text-align: right;\n",
       "    }\n",
       "</style>\n",
       "<table border=\"1\" class=\"dataframe\">\n",
       "  <thead>\n",
       "    <tr style=\"text-align: right;\">\n",
       "      <th></th>\n",
       "      <th></th>\n",
       "      <th>Exited</th>\n",
       "    </tr>\n",
       "    <tr>\n",
       "      <th>HasCrCard</th>\n",
       "      <th>Exited</th>\n",
       "      <th></th>\n",
       "    </tr>\n",
       "  </thead>\n",
       "  <tbody>\n",
       "    <tr>\n",
       "      <th rowspan=\"2\" valign=\"top\">0</th>\n",
       "      <th>0</th>\n",
       "      <td>79.185</td>\n",
       "    </tr>\n",
       "    <tr>\n",
       "      <th>1</th>\n",
       "      <td>20.815</td>\n",
       "    </tr>\n",
       "    <tr>\n",
       "      <th rowspan=\"2\" valign=\"top\">1</th>\n",
       "      <th>0</th>\n",
       "      <td>79.816</td>\n",
       "    </tr>\n",
       "    <tr>\n",
       "      <th>1</th>\n",
       "      <td>20.184</td>\n",
       "    </tr>\n",
       "  </tbody>\n",
       "</table>\n",
       "</div>"
      ],
      "text/plain": [
       "                  Exited\n",
       "HasCrCard Exited        \n",
       "0         0       79.185\n",
       "          1       20.815\n",
       "1         0       79.816\n",
       "          1       20.184"
      ]
     },
     "execution_count": 102,
     "metadata": {},
     "output_type": "execute_result"
    }
   ],
   "source": [
    "pd.DataFrame(churn.groupby(['HasCrCard'])['Exited'].value_counts(normalize=True))*100"
   ]
  },
  {
   "cell_type": "code",
   "execution_count": 91,
   "id": "fa356e1d",
   "metadata": {},
   "outputs": [
    {
     "data": {
      "text/plain": [
       "Text(0.5, 0.98, 'Customer Behavior by HasCrCard')"
      ]
     },
     "execution_count": 91,
     "metadata": {},
     "output_type": "execute_result"
    },
    {
     "data": {
      "image/png": "[encoded data removed]",
      "text/plain": [
       "<Figure size 402.375x360 with 1 Axes>"
      ]
     },
     "metadata": {
      "needs_background": "light"
     },
     "output_type": "display_data"
    }
   ],
   "source": [
    "# HasCrCard vs Exited\n",
    "class_order = [0,1] \n",
    "hue_order = [0, 1]\n",
    "bar_order = product(class_order, hue_order)\n",
    "\n",
    "catp = sns.catplot(data=churn, kind='count', \n",
    "                   x='HasCrCard', hue='Exited',\n",
    "                   order = class_order, \n",
    "                   hue_order = hue_order ,palette=colors)\n",
    "catp.fig.suptitle('Customer Behavior by HasCrCard')"
   ]
  },
  {
   "cell_type": "code",
   "execution_count": 89,
   "id": "892d71e1",
   "metadata": {},
   "outputs": [
    {
     "data": {
      "image/png": "[encoded data removed]",
      "text/plain": [
       "<Figure size 402.375x360 with 1 Axes>"
      ]
     },
     "metadata": {
      "needs_background": "light"
     },
     "output_type": "display_data"
    }
   ],
   "source": [
    "# HasCrCard vs Exited\n",
    "class_order = [0,1] \n",
    "hue_order = [0, 1]\n",
    "bar_order = product(class_order, hue_order)\n",
    "\n",
    "catp = sns.catplot(data=churn, kind='count', \n",
    "                   x='HasCrCard', hue='Exited',\n",
    "                   order = class_order, \n",
    "                   hue_order = hue_order ,palette=colors)\n",
    "catp.fig.suptitle('Customer Behavior by HasCrCard')\n",
    "\n",
    "\n",
    "\n",
    "spots = zip(catp.ax.patches, bar_order)\n",
    "for spot in spots:\n",
    "    crcard_total = len(churn[churn['HasCrCard']==spot[1][0]])\n",
    "    crcard_Exited_total = len(churn[(churn['HasCrCard']==spot[1][0]) & \n",
    "        (churn['Exited']==spot[1][1])])\n",
    "    height = spot[0].get_height() \n",
    "    catp.ax.text(spot[0].get_x(), height+3, '{:1.2f}'.format(crcard_Exited_total/crcard_total))"
   ]
  },
  {
   "cell_type": "code",
   "execution_count": 103,
   "id": "a552cb96",
   "metadata": {},
   "outputs": [
    {
     "data": {
      "text/html": [
       "<div>\n",
       "<style scoped>\n",
       "    .dataframe tbody tr th:only-of-type {\n",
       "        vertical-align: middle;\n",
       "    }\n",
       "\n",
       "    .dataframe tbody tr th {\n",
       "        vertical-align: top;\n",
       "    }\n",
       "\n",
       "    .dataframe thead th {\n",
       "        text-align: right;\n",
       "    }\n",
       "</style>\n",
       "<table border=\"1\" class=\"dataframe\">\n",
       "  <thead>\n",
       "    <tr style=\"text-align: right;\">\n",
       "      <th></th>\n",
       "      <th></th>\n",
       "      <th>Exited</th>\n",
       "    </tr>\n",
       "    <tr>\n",
       "      <th>IsActiveMember</th>\n",
       "      <th>Exited</th>\n",
       "      <th></th>\n",
       "    </tr>\n",
       "  </thead>\n",
       "  <tbody>\n",
       "    <tr>\n",
       "      <th rowspan=\"2\" valign=\"top\">0</th>\n",
       "      <th>0</th>\n",
       "      <td>73.149</td>\n",
       "    </tr>\n",
       "    <tr>\n",
       "      <th>1</th>\n",
       "      <td>26.851</td>\n",
       "    </tr>\n",
       "    <tr>\n",
       "      <th rowspan=\"2\" valign=\"top\">1</th>\n",
       "      <th>0</th>\n",
       "      <td>85.731</td>\n",
       "    </tr>\n",
       "    <tr>\n",
       "      <th>1</th>\n",
       "      <td>14.269</td>\n",
       "    </tr>\n",
       "  </tbody>\n",
       "</table>\n",
       "</div>"
      ],
      "text/plain": [
       "                       Exited\n",
       "IsActiveMember Exited        \n",
       "0              0       73.149\n",
       "               1       26.851\n",
       "1              0       85.731\n",
       "               1       14.269"
      ]
     },
     "execution_count": 103,
     "metadata": {},
     "output_type": "execute_result"
    }
   ],
   "source": [
    "pd.DataFrame(churn.groupby(['IsActiveMember'])['Exited'].value_counts(normalize=True))*100"
   ]
  },
  {
   "cell_type": "code",
   "execution_count": 92,
   "id": "b647e535",
   "metadata": {},
   "outputs": [
    {
     "data": {
      "text/plain": [
       "Text(0.5, 0.98, 'Customer Behavior by IsActiveMember')"
      ]
     },
     "execution_count": 92,
     "metadata": {},
     "output_type": "execute_result"
    },
    {
     "data": {
      "image/png": "[encoded data removed]",
      "text/plain": [
       "<Figure size 402.375x360 with 1 Axes>"
      ]
     },
     "metadata": {
      "needs_background": "light"
     },
     "output_type": "display_data"
    }
   ],
   "source": [
    "# IsActiveMembervs Exited\n",
    "class_order = [0,1] \n",
    "hue_order = [0, 1]\n",
    "bar_order = product(class_order, hue_order)\n",
    "\n",
    "catp = sns.catplot(data=churn, kind='count', \n",
    "                   x='IsActiveMember', hue='Exited',\n",
    "                   order = class_order, \n",
    "                   hue_order = hue_order ,palette=colors)\n",
    "catp.fig.suptitle('Customer Behavior by IsActiveMember')\n"
   ]
  },
  {
   "cell_type": "code",
   "execution_count": 90,
   "id": "c696d916",
   "metadata": {},
   "outputs": [
    {
     "data": {
      "image/png": "[encoded data removed]",
      "text/plain": [
       "<Figure size 402.375x360 with 1 Axes>"
      ]
     },
     "metadata": {
      "needs_background": "light"
     },
     "output_type": "display_data"
    }
   ],
   "source": [
    "# IsActiveMember vs Exited\n",
    "class_order = [0,1] \n",
    "hue_order = [0, 1]\n",
    "bar_order = product(class_order, hue_order)\n",
    "\n",
    "catp = sns.catplot(data=churn, kind='count', \n",
    "                   x='IsActiveMember', hue='Exited',\n",
    "                   order = class_order, \n",
    "                   hue_order = hue_order ,palette=colors)\n",
    "catp.fig.suptitle('Customer Behavior by IsActiveMember')\n",
    "\n",
    "\n",
    "\n",
    "spots = zip(catp.ax.patches, bar_order)\n",
    "for spot in spots:\n",
    "    crcard_total = len(churn[churn['IsActiveMember']==spot[1][0]])\n",
    "    crcard_Exited_total = len(churn[(churn['IsActiveMember']==spot[1][0]) & \n",
    "        (churn['Exited']==spot[1][1])])\n",
    "    height = spot[0].get_height() \n",
    "    catp.ax.text(spot[0].get_x(), height+3, '{:1.2f}'.format(crcard_Exited_total/crcard_total))"
   ]
  },
  {
   "cell_type": "code",
   "execution_count": 91,
   "id": "30985242",
   "metadata": {},
   "outputs": [
    {
     "data": {
      "text/plain": [
       "CustomerId             int64\n",
       "CreditScore            int64\n",
       "Geography             object\n",
       "Gender                object\n",
       "Age                    int64\n",
       "Tenure                 int64\n",
       "Balance              float64\n",
       "NumOfProducts          int64\n",
       "HasCrCard              int64\n",
       "IsActiveMember         int64\n",
       "EstimatedSalary      float64\n",
       "Exited                 int64\n",
       "geo                     int8\n",
       "gender                  int8\n",
       "AgeBucket             object\n",
       "agebuckets              int8\n",
       "demokey               object\n",
       "demographics            int8\n",
       "GroupSalary          float64\n",
       "SalaryRatioByDemo    float64\n",
       "dtype: object"
      ]
     },
     "execution_count": 91,
     "metadata": {},
     "output_type": "execute_result"
    }
   ],
   "source": [
    "churn.dtypes"
   ]
  },
  {
   "cell_type": "code",
   "execution_count": 92,
   "id": "1bce0f88",
   "metadata": {},
   "outputs": [
    {
     "data": {
      "text/plain": [
       "2. 31-40    4451\n",
       "3. 41-50    2320\n",
       "1. <=30     1968\n",
       "4. 51-60     797\n",
       "5. > 70      464\n",
       "Name: AgeBucket, dtype: int64"
      ]
     },
     "execution_count": 92,
     "metadata": {},
     "output_type": "execute_result"
    }
   ],
   "source": [
    "churn['AgeBucket'].value_counts()"
   ]
  },
  {
   "cell_type": "code",
   "execution_count": 105,
   "id": "2b9f8835",
   "metadata": {},
   "outputs": [
    {
     "data": {
      "text/html": [
       "<div>\n",
       "<style scoped>\n",
       "    .dataframe tbody tr th:only-of-type {\n",
       "        vertical-align: middle;\n",
       "    }\n",
       "\n",
       "    .dataframe tbody tr th {\n",
       "        vertical-align: top;\n",
       "    }\n",
       "\n",
       "    .dataframe thead th {\n",
       "        text-align: right;\n",
       "    }\n",
       "</style>\n",
       "<table border=\"1\" class=\"dataframe\">\n",
       "  <thead>\n",
       "    <tr style=\"text-align: right;\">\n",
       "      <th></th>\n",
       "      <th></th>\n",
       "      <th>Exited</th>\n",
       "    </tr>\n",
       "    <tr>\n",
       "      <th>AgeBucket</th>\n",
       "      <th>Exited</th>\n",
       "      <th></th>\n",
       "    </tr>\n",
       "  </thead>\n",
       "  <tbody>\n",
       "    <tr>\n",
       "      <th rowspan=\"2\" valign=\"top\">1. &lt;=30</th>\n",
       "      <th>0</th>\n",
       "      <td>92.480</td>\n",
       "    </tr>\n",
       "    <tr>\n",
       "      <th>1</th>\n",
       "      <td>7.520</td>\n",
       "    </tr>\n",
       "    <tr>\n",
       "      <th rowspan=\"2\" valign=\"top\">2. 31-40</th>\n",
       "      <th>0</th>\n",
       "      <td>87.913</td>\n",
       "    </tr>\n",
       "    <tr>\n",
       "      <th>1</th>\n",
       "      <td>12.087</td>\n",
       "    </tr>\n",
       "    <tr>\n",
       "      <th rowspan=\"2\" valign=\"top\">3. 41-50</th>\n",
       "      <th>0</th>\n",
       "      <td>66.034</td>\n",
       "    </tr>\n",
       "    <tr>\n",
       "      <th>1</th>\n",
       "      <td>33.966</td>\n",
       "    </tr>\n",
       "    <tr>\n",
       "      <th rowspan=\"2\" valign=\"top\">4. 51-60</th>\n",
       "      <th>1</th>\n",
       "      <td>56.211</td>\n",
       "    </tr>\n",
       "    <tr>\n",
       "      <th>0</th>\n",
       "      <td>43.789</td>\n",
       "    </tr>\n",
       "    <tr>\n",
       "      <th rowspan=\"2\" valign=\"top\">5. &gt; 70</th>\n",
       "      <th>0</th>\n",
       "      <td>75.216</td>\n",
       "    </tr>\n",
       "    <tr>\n",
       "      <th>1</th>\n",
       "      <td>24.784</td>\n",
       "    </tr>\n",
       "  </tbody>\n",
       "</table>\n",
       "</div>"
      ],
      "text/plain": [
       "                  Exited\n",
       "AgeBucket Exited        \n",
       "1. <=30   0       92.480\n",
       "          1        7.520\n",
       "2. 31-40  0       87.913\n",
       "          1       12.087\n",
       "3. 41-50  0       66.034\n",
       "          1       33.966\n",
       "4. 51-60  1       56.211\n",
       "          0       43.789\n",
       "5. > 70   0       75.216\n",
       "          1       24.784"
      ]
     },
     "execution_count": 105,
     "metadata": {},
     "output_type": "execute_result"
    }
   ],
   "source": [
    "pd.DataFrame(churn.groupby(['AgeBucket'])['Exited'].value_counts(normalize=True))*100"
   ]
  },
  {
   "cell_type": "code",
   "execution_count": 93,
   "id": "47768363",
   "metadata": {},
   "outputs": [
    {
     "data": {
      "text/plain": [
       "Text(0.5, 0.98, 'Customer Behavior by AgeBucket')"
      ]
     },
     "execution_count": 93,
     "metadata": {},
     "output_type": "execute_result"
    },
    {
     "data": {
      "image/png": "[encoded data removed]",
      "text/plain": [
       "<Figure size 402.375x360 with 1 Axes>"
      ]
     },
     "metadata": {
      "needs_background": "light"
     },
     "output_type": "display_data"
    }
   ],
   "source": [
    "# AgeBucketvs Exited\n",
    "class_order = [\"1. <=30\",\"2. 31-40\",\"3. 41-50\",\"4. 51-60\",\"5. > 70\"] \n",
    "hue_order = [0, 1]\n",
    "bar_order = product(class_order, hue_order)\n",
    "\n",
    "catp = sns.catplot(data=churn, kind='count', \n",
    "                   x='AgeBucket', hue='Exited',\n",
    "                   order = class_order, \n",
    "                   hue_order = hue_order ,palette=colors)\n",
    "catp.fig.suptitle('Customer Behavior by AgeBucket')\n"
   ]
  },
  {
   "cell_type": "code",
   "execution_count": 93,
   "id": "fe21a420",
   "metadata": {},
   "outputs": [
    {
     "data": {
      "image/png": "[encoded data removed]",
      "text/plain": [
       "<Figure size 402.375x360 with 1 Axes>"
      ]
     },
     "metadata": {
      "needs_background": "light"
     },
     "output_type": "display_data"
    }
   ],
   "source": [
    "# AgeBucketvs Exited\n",
    "class_order = [\"1. <=30\",\"2. 31-40\",\"3. 41-50\",\"4. 51-60\",\"5. > 70\"] \n",
    "hue_order = [0, 1]\n",
    "bar_order = product(class_order, hue_order)\n",
    "\n",
    "catp = sns.catplot(data=churn, kind='count', \n",
    "                   x='AgeBucket', hue='Exited',\n",
    "                   order = class_order, \n",
    "                   hue_order = hue_order ,palette=colors)\n",
    "catp.fig.suptitle('Customer Behavior by AgeBucket')\n",
    "\n",
    "\n",
    "\n",
    "spots = zip(catp.ax.patches, bar_order)\n",
    "for spot in spots:\n",
    "    crcard_total = len(churn[churn['AgeBucket']==spot[1][0]])\n",
    "    crcard_Exited_total = len(churn[(churn['AgeBucket']==spot[1][0]) & \n",
    "        (churn['Exited']==spot[1][1])])\n",
    "    height = spot[0].get_height() \n",
    "    catp.ax.text(spot[0].get_x(), height+3, '{:1.2f}'.format(crcard_Exited_total/crcard_total))"
   ]
  },
  {
   "cell_type": "code",
   "execution_count": 94,
   "id": "c89ac11d",
   "metadata": {},
   "outputs": [
    {
     "data": {
      "text/plain": [
       "CustomerId              10000\n",
       "CreditScore             10000\n",
       "Age                     10000\n",
       "Tenurelog               10000\n",
       "Balancelog              10000\n",
       "NumOfProducts           10000\n",
       "HasCrCard               10000\n",
       "IsActiveMember          10000\n",
       "EstimatedSalarylog      10000\n",
       "demographics            10000\n",
       "SalaryRatioByDemolog    10000\n",
       "Exited                  10000\n",
       "dtype: int64"
      ]
     },
     "execution_count": 94,
     "metadata": {},
     "output_type": "execute_result"
    }
   ],
   "source": [
    "newnum.count()"
   ]
  },
  {
   "cell_type": "code",
   "execution_count": 96,
   "id": "a69ea16c",
   "metadata": {},
   "outputs": [
    {
     "data": {
      "text/plain": [
       "CustomerId             int64\n",
       "CreditScore            int64\n",
       "Geography             object\n",
       "Gender                object\n",
       "Age                    int64\n",
       "Tenure                 int64\n",
       "Balance              float64\n",
       "NumOfProducts          int64\n",
       "HasCrCard              int64\n",
       "IsActiveMember         int64\n",
       "EstimatedSalary      float64\n",
       "Exited                 int64\n",
       "geo                     int8\n",
       "gender                  int8\n",
       "AgeBucket             object\n",
       "agebuckets              int8\n",
       "demokey               object\n",
       "demographics            int8\n",
       "GroupSalary          float64\n",
       "SalaryRatioByDemo    float64\n",
       "dtype: object"
      ]
     },
     "execution_count": 96,
     "metadata": {},
     "output_type": "execute_result"
    }
   ],
   "source": [
    "churn.dtypes"
   ]
  },
  {
   "cell_type": "code",
   "execution_count": 73,
   "id": "e605672d",
   "metadata": {},
   "outputs": [
    {
     "data": {
      "text/plain": [
       "CustomerId             int64\n",
       "CreditScore            int64\n",
       "Age                    int64\n",
       "Tenure               float64\n",
       "Balance              float64\n",
       "NumOfProducts          int64\n",
       "HasCrCard              int64\n",
       "IsActiveMember         int64\n",
       "EstimatedSalary      float64\n",
       "demographics            int8\n",
       "SalaryRatioByDemo    float64\n",
       "Exited                 int64\n",
       "dtype: object"
      ]
     },
     "execution_count": 73,
     "metadata": {},
     "output_type": "execute_result"
    }
   ],
   "source": [
    "newnum.dtypes"
   ]
  },
  {
   "cell_type": "code",
   "execution_count": 109,
   "id": "47d3f964",
   "metadata": {},
   "outputs": [],
   "source": [
    "xA=['Age','NumOfProducts','Balancelog','CreditScore','SalaryRatioByDemolog','IsActiveMember','demographics','Tenurelog','HasCrCard']\n",
    "yA=[0.1321,0.0666,0.0603,0.0589,0.0494,0.0451,0.0353,0.03,0.00026]\n",
    "colorA=['Turquoise','LightBlue','Grey','Orange','LightGreen','Pink','Violet','Yellow','Green']"
   ]
  },
  {
   "cell_type": "code",
   "execution_count": 110,
   "id": "c87c9538",
   "metadata": {},
   "outputs": [
    {
     "data": {
      "text/plain": [
       "Text(0.5, 1.0, 'Permutation Feature Importance')"
      ]
     },
     "execution_count": 110,
     "metadata": {},
     "output_type": "execute_result"
    },
    {
     "data": {
      "image/png": "[encoded data removed]",
      "text/plain": [
       "<Figure size 432x288 with 1 Axes>"
      ]
     },
     "metadata": {
      "needs_background": "light"
     },
     "output_type": "display_data"
    }
   ],
   "source": [
    "sns.barplot(x=yA,y=xA,palette=colorA).set_title('Permutation Feature Importance')"
   ]
  },
  {
   "cell_type": "code",
   "execution_count": 113,
   "id": "e5409322",
   "metadata": {},
   "outputs": [],
   "source": [
    "# Balance BUCKETS\n",
    "def func(x):\n",
    "        if -1 < x <= 100000:\n",
    "            return '1. <=100K'\n",
    "        elif 100000 < x <= 125000:\n",
    "            return '2. 100K-125K'    \n",
    "        elif x > 125000:\n",
    "            return '3. > 125K'   \n",
    "        return 'NOVALUE'"
   ]
  },
  {
   "cell_type": "code",
   "execution_count": 114,
   "id": "3cc38129",
   "metadata": {},
   "outputs": [
    {
     "data": {
      "text/plain": [
       "count    10000.000\n",
       "mean     76485.889\n",
       "std      62397.405\n",
       "min          0.000\n",
       "25%          0.000\n",
       "50%      97198.540\n",
       "75%     127644.240\n",
       "max     250898.090\n",
       "Name: Balance, dtype: float64"
      ]
     },
     "execution_count": 114,
     "metadata": {},
     "output_type": "execute_result"
    }
   ],
   "source": [
    "churn['Balance'].describe()"
   ]
  },
  {
   "cell_type": "code",
   "execution_count": 115,
   "id": "6faa749a",
   "metadata": {},
   "outputs": [],
   "source": [
    "churn['balancebucket'] = churn['Balance'].apply(func)"
   ]
  },
  {
   "cell_type": "code",
   "execution_count": 116,
   "id": "dbeb0c6b",
   "metadata": {},
   "outputs": [
    {
     "data": {
      "text/plain": [
       "1. <=100K       5201\n",
       "3. > 125K       2731\n",
       "2. 100K-125K    2068\n",
       "Name: balancebucket, dtype: int64"
      ]
     },
     "execution_count": 116,
     "metadata": {},
     "output_type": "execute_result"
    }
   ],
   "source": [
    "churn['balancebucket'].value_counts()"
   ]
  },
  {
   "cell_type": "code",
   "execution_count": 117,
   "id": "eb9b4283",
   "metadata": {},
   "outputs": [
    {
     "data": {
      "text/plain": [
       "1. <=100K      0.520\n",
       "3. > 125K      0.273\n",
       "2. 100K-125K   0.207\n",
       "Name: balancebucket, dtype: float64"
      ]
     },
     "execution_count": 117,
     "metadata": {},
     "output_type": "execute_result"
    }
   ],
   "source": [
    "churn['balancebucket'].value_counts(normalize=True)"
   ]
  },
  {
   "cell_type": "code",
   "execution_count": 118,
   "id": "42dfce07",
   "metadata": {},
   "outputs": [
    {
     "data": {
      "text/html": [
       "<div>\n",
       "<style scoped>\n",
       "    .dataframe tbody tr th:only-of-type {\n",
       "        vertical-align: middle;\n",
       "    }\n",
       "\n",
       "    .dataframe tbody tr th {\n",
       "        vertical-align: top;\n",
       "    }\n",
       "\n",
       "    .dataframe thead th {\n",
       "        text-align: right;\n",
       "    }\n",
       "</style>\n",
       "<table border=\"1\" class=\"dataframe\">\n",
       "  <thead>\n",
       "    <tr style=\"text-align: right;\">\n",
       "      <th></th>\n",
       "      <th></th>\n",
       "      <th>Exited</th>\n",
       "    </tr>\n",
       "    <tr>\n",
       "      <th>balancebucket</th>\n",
       "      <th>Exited</th>\n",
       "      <th></th>\n",
       "    </tr>\n",
       "  </thead>\n",
       "  <tbody>\n",
       "    <tr>\n",
       "      <th rowspan=\"2\" valign=\"top\">1. &lt;=100K</th>\n",
       "      <th>0</th>\n",
       "      <td>84.118</td>\n",
       "    </tr>\n",
       "    <tr>\n",
       "      <th>1</th>\n",
       "      <td>15.882</td>\n",
       "    </tr>\n",
       "    <tr>\n",
       "      <th rowspan=\"2\" valign=\"top\">2. 100K-125K</th>\n",
       "      <th>0</th>\n",
       "      <td>73.017</td>\n",
       "    </tr>\n",
       "    <tr>\n",
       "      <th>1</th>\n",
       "      <td>26.983</td>\n",
       "    </tr>\n",
       "    <tr>\n",
       "      <th rowspan=\"2\" valign=\"top\">3. &gt; 125K</th>\n",
       "      <th>0</th>\n",
       "      <td>76.089</td>\n",
       "    </tr>\n",
       "    <tr>\n",
       "      <th>1</th>\n",
       "      <td>23.911</td>\n",
       "    </tr>\n",
       "  </tbody>\n",
       "</table>\n",
       "</div>"
      ],
      "text/plain": [
       "                      Exited\n",
       "balancebucket Exited        \n",
       "1. <=100K     0       84.118\n",
       "              1       15.882\n",
       "2. 100K-125K  0       73.017\n",
       "              1       26.983\n",
       "3. > 125K     0       76.089\n",
       "              1       23.911"
      ]
     },
     "execution_count": 118,
     "metadata": {},
     "output_type": "execute_result"
    }
   ],
   "source": [
    "pd.DataFrame(churn.groupby(['balancebucket'])['Exited'].value_counts(normalize=True))*100"
   ]
  },
  {
   "cell_type": "code",
   "execution_count": 121,
   "id": "e0146e62",
   "metadata": {},
   "outputs": [],
   "source": [
    "# Balance BUCKETS\n",
    "def funcc(x):\n",
    "        if 0 < x <= 590:\n",
    "            return '1. <=590'\n",
    "        elif 590 < x <= 655:\n",
    "            return '2. 590-655'\n",
    "        elif 655 < x <= 720:\n",
    "            return '3. 655-720'   \n",
    "        elif x > 720:\n",
    "            return '3. > 720'   \n",
    "        return 'NOVALUE'"
   ]
  },
  {
   "cell_type": "code",
   "execution_count": 120,
   "id": "eda9fe19",
   "metadata": {},
   "outputs": [
    {
     "data": {
      "text/plain": [
       "count   10000.000\n",
       "mean      650.529\n",
       "std        96.653\n",
       "min       350.000\n",
       "25%       584.000\n",
       "50%       652.000\n",
       "75%       718.000\n",
       "max       850.000\n",
       "Name: CreditScore, dtype: float64"
      ]
     },
     "execution_count": 120,
     "metadata": {},
     "output_type": "execute_result"
    }
   ],
   "source": [
    "churn['CreditScore'].describe()"
   ]
  },
  {
   "cell_type": "code",
   "execution_count": 122,
   "id": "ee0816e2",
   "metadata": {},
   "outputs": [],
   "source": [
    "churn['creditscorebucket'] = churn['CreditScore'].apply(funcc)"
   ]
  },
  {
   "cell_type": "code",
   "execution_count": 124,
   "id": "2797cee8",
   "metadata": {},
   "outputs": [
    {
     "data": {
      "text/plain": [
       "1. <=590      2727\n",
       "3. 655-720    2436\n",
       "2. 590-655    2429\n",
       "3. > 720      2408\n",
       "Name: creditscorebucket, dtype: int64"
      ]
     },
     "execution_count": 124,
     "metadata": {},
     "output_type": "execute_result"
    }
   ],
   "source": [
    "churn['creditscorebucket'].value_counts()"
   ]
  },
  {
   "cell_type": "code",
   "execution_count": 125,
   "id": "0b2bb6e3",
   "metadata": {},
   "outputs": [
    {
     "data": {
      "text/plain": [
       "1. <=590     0.273\n",
       "3. 655-720   0.244\n",
       "2. 590-655   0.243\n",
       "3. > 720     0.241\n",
       "Name: creditscorebucket, dtype: float64"
      ]
     },
     "execution_count": 125,
     "metadata": {},
     "output_type": "execute_result"
    }
   ],
   "source": [
    "churn['creditscorebucket'].value_counts(normalize=True)"
   ]
  },
  {
   "cell_type": "code",
   "execution_count": 126,
   "id": "6ce89d3e",
   "metadata": {},
   "outputs": [
    {
     "data": {
      "text/html": [
       "<div>\n",
       "<style scoped>\n",
       "    .dataframe tbody tr th:only-of-type {\n",
       "        vertical-align: middle;\n",
       "    }\n",
       "\n",
       "    .dataframe tbody tr th {\n",
       "        vertical-align: top;\n",
       "    }\n",
       "\n",
       "    .dataframe thead th {\n",
       "        text-align: right;\n",
       "    }\n",
       "</style>\n",
       "<table border=\"1\" class=\"dataframe\">\n",
       "  <thead>\n",
       "    <tr style=\"text-align: right;\">\n",
       "      <th></th>\n",
       "      <th></th>\n",
       "      <th>Exited</th>\n",
       "    </tr>\n",
       "    <tr>\n",
       "      <th>creditscorebucket</th>\n",
       "      <th>Exited</th>\n",
       "      <th></th>\n",
       "    </tr>\n",
       "  </thead>\n",
       "  <tbody>\n",
       "    <tr>\n",
       "      <th rowspan=\"2\" valign=\"top\">1. &lt;=590</th>\n",
       "      <th>0</th>\n",
       "      <td>78.181</td>\n",
       "    </tr>\n",
       "    <tr>\n",
       "      <th>1</th>\n",
       "      <td>21.819</td>\n",
       "    </tr>\n",
       "    <tr>\n",
       "      <th rowspan=\"2\" valign=\"top\">2. 590-655</th>\n",
       "      <th>0</th>\n",
       "      <td>79.086</td>\n",
       "    </tr>\n",
       "    <tr>\n",
       "      <th>1</th>\n",
       "      <td>20.914</td>\n",
       "    </tr>\n",
       "    <tr>\n",
       "      <th rowspan=\"2\" valign=\"top\">3. 655-720</th>\n",
       "      <th>0</th>\n",
       "      <td>81.609</td>\n",
       "    </tr>\n",
       "    <tr>\n",
       "      <th>1</th>\n",
       "      <td>18.391</td>\n",
       "    </tr>\n",
       "    <tr>\n",
       "      <th rowspan=\"2\" valign=\"top\">3. &gt; 720</th>\n",
       "      <th>0</th>\n",
       "      <td>79.817</td>\n",
       "    </tr>\n",
       "    <tr>\n",
       "      <th>1</th>\n",
       "      <td>20.183</td>\n",
       "    </tr>\n",
       "  </tbody>\n",
       "</table>\n",
       "</div>"
      ],
      "text/plain": [
       "                          Exited\n",
       "creditscorebucket Exited        \n",
       "1. <=590          0       78.181\n",
       "                  1       21.819\n",
       "2. 590-655        0       79.086\n",
       "                  1       20.914\n",
       "3. 655-720        0       81.609\n",
       "                  1       18.391\n",
       "3. > 720          0       79.817\n",
       "                  1       20.183"
      ]
     },
     "execution_count": 126,
     "metadata": {},
     "output_type": "execute_result"
    }
   ],
   "source": [
    "pd.DataFrame(churn.groupby(['creditscorebucket'])['Exited'].value_counts(normalize=True))*100"
   ]
  },
  {
   "cell_type": "code",
   "execution_count": 127,
   "id": "d69a0a6f",
   "metadata": {},
   "outputs": [
    {
     "data": {
      "text/plain": [
       "count   10000.000\n",
       "mean        5.013\n",
       "std         2.892\n",
       "min         0.000\n",
       "25%         3.000\n",
       "50%         5.000\n",
       "75%         7.000\n",
       "max        10.000\n",
       "Name: Tenure, dtype: float64"
      ]
     },
     "execution_count": 127,
     "metadata": {},
     "output_type": "execute_result"
    }
   ],
   "source": [
    "churn['Tenure'].describe()"
   ]
  },
  {
   "cell_type": "code",
   "execution_count": 128,
   "id": "66947c4f",
   "metadata": {},
   "outputs": [],
   "source": [
    "# Tenure BUCKETS\n",
    "def func(x):\n",
    "        if -1 < x <= 1:\n",
    "            return '1. <=1'\n",
    "        elif 1 < x <= 3:\n",
    "            return '2. 1-3'\n",
    "        elif 3 < x <= 5:\n",
    "            return '3. 3-5'\n",
    "        elif 5 < x <= 7:\n",
    "            return '4. 5-7'    \n",
    "        elif 7 < x <= 10:\n",
    "            return '5. 7-10'  \n",
    "        return 'NOVALUE'"
   ]
  },
  {
   "cell_type": "code",
   "execution_count": 129,
   "id": "06e43f45",
   "metadata": {},
   "outputs": [],
   "source": [
    "churn['Tenurebucket'] = churn['Tenure'].apply(func)"
   ]
  },
  {
   "cell_type": "code",
   "execution_count": 130,
   "id": "4316437d",
   "metadata": {},
   "outputs": [
    {
     "data": {
      "text/plain": [
       "5. 7-10    2499\n",
       "2. 1-3     2057\n",
       "3. 3-5     2001\n",
       "4. 5-7     1995\n",
       "1. <=1     1448\n",
       "Name: Tenurebucket, dtype: int64"
      ]
     },
     "execution_count": 130,
     "metadata": {},
     "output_type": "execute_result"
    }
   ],
   "source": [
    "churn['Tenurebucket'].value_counts()"
   ]
  },
  {
   "cell_type": "code",
   "execution_count": 131,
   "id": "2ebe6b80",
   "metadata": {},
   "outputs": [
    {
     "data": {
      "text/html": [
       "<div>\n",
       "<style scoped>\n",
       "    .dataframe tbody tr th:only-of-type {\n",
       "        vertical-align: middle;\n",
       "    }\n",
       "\n",
       "    .dataframe tbody tr th {\n",
       "        vertical-align: top;\n",
       "    }\n",
       "\n",
       "    .dataframe thead th {\n",
       "        text-align: right;\n",
       "    }\n",
       "</style>\n",
       "<table border=\"1\" class=\"dataframe\">\n",
       "  <thead>\n",
       "    <tr style=\"text-align: right;\">\n",
       "      <th></th>\n",
       "      <th></th>\n",
       "      <th>Exited</th>\n",
       "    </tr>\n",
       "    <tr>\n",
       "      <th>Tenurebucket</th>\n",
       "      <th>Exited</th>\n",
       "      <th></th>\n",
       "    </tr>\n",
       "  </thead>\n",
       "  <tbody>\n",
       "    <tr>\n",
       "      <th rowspan=\"2\" valign=\"top\">1. &lt;=1</th>\n",
       "      <th>0</th>\n",
       "      <td>77.417</td>\n",
       "    </tr>\n",
       "    <tr>\n",
       "      <th>1</th>\n",
       "      <td>22.583</td>\n",
       "    </tr>\n",
       "    <tr>\n",
       "      <th rowspan=\"2\" valign=\"top\">2. 1-3</th>\n",
       "      <th>0</th>\n",
       "      <td>79.874</td>\n",
       "    </tr>\n",
       "    <tr>\n",
       "      <th>1</th>\n",
       "      <td>20.126</td>\n",
       "    </tr>\n",
       "    <tr>\n",
       "      <th rowspan=\"2\" valign=\"top\">3. 3-5</th>\n",
       "      <th>0</th>\n",
       "      <td>79.410</td>\n",
       "    </tr>\n",
       "    <tr>\n",
       "      <th>1</th>\n",
       "      <td>20.590</td>\n",
       "    </tr>\n",
       "    <tr>\n",
       "      <th rowspan=\"2\" valign=\"top\">4. 5-7</th>\n",
       "      <th>0</th>\n",
       "      <td>81.303</td>\n",
       "    </tr>\n",
       "    <tr>\n",
       "      <th>1</th>\n",
       "      <td>18.697</td>\n",
       "    </tr>\n",
       "    <tr>\n",
       "      <th rowspan=\"2\" valign=\"top\">5. 7-10</th>\n",
       "      <th>0</th>\n",
       "      <td>79.552</td>\n",
       "    </tr>\n",
       "    <tr>\n",
       "      <th>1</th>\n",
       "      <td>20.448</td>\n",
       "    </tr>\n",
       "  </tbody>\n",
       "</table>\n",
       "</div>"
      ],
      "text/plain": [
       "                     Exited\n",
       "Tenurebucket Exited        \n",
       "1. <=1       0       77.417\n",
       "             1       22.583\n",
       "2. 1-3       0       79.874\n",
       "             1       20.126\n",
       "3. 3-5       0       79.410\n",
       "             1       20.590\n",
       "4. 5-7       0       81.303\n",
       "             1       18.697\n",
       "5. 7-10      0       79.552\n",
       "             1       20.448"
      ]
     },
     "execution_count": 131,
     "metadata": {},
     "output_type": "execute_result"
    }
   ],
   "source": [
    "pd.DataFrame(churn.groupby(['Tenurebucket'])['Exited'].value_counts(normalize=True))*100"
   ]
  },
  {
   "cell_type": "code",
   "execution_count": 132,
   "id": "562e1568",
   "metadata": {},
   "outputs": [
    {
     "data": {
      "text/plain": [
       "count    10000.000\n",
       "mean    100090.240\n",
       "std      57510.493\n",
       "min         11.580\n",
       "25%      51002.110\n",
       "50%     100193.915\n",
       "75%     149388.247\n",
       "max     199992.480\n",
       "Name: EstimatedSalary, dtype: float64"
      ]
     },
     "execution_count": 132,
     "metadata": {},
     "output_type": "execute_result"
    }
   ],
   "source": [
    "churn['EstimatedSalary'].describe()"
   ]
  },
  {
   "cell_type": "code",
   "execution_count": 133,
   "id": "61ff13fb",
   "metadata": {},
   "outputs": [],
   "source": [
    "# Salary BUCKETS\n",
    "def func(x):\n",
    "        if 0 < x <= 50000:\n",
    "            return '1. <=50000'\n",
    "        elif 50000 < x <= 100000:\n",
    "            return '2. 50k-100k'\n",
    "        elif 100000 < x <= 150000:\n",
    "            return '3. 100k-150k'\n",
    "        elif 150000 < x <= 200000:\n",
    "            return '4. 150k-200k'     \n",
    "        return 'NOVALUE'"
   ]
  },
  {
   "cell_type": "code",
   "execution_count": 134,
   "id": "79533e2c",
   "metadata": {},
   "outputs": [],
   "source": [
    "churn['Salarybucket'] = churn['EstimatedSalary'].apply(func)"
   ]
  },
  {
   "cell_type": "code",
   "execution_count": 135,
   "id": "20e462e4",
   "metadata": {},
   "outputs": [
    {
     "data": {
      "text/plain": [
       "3. 100k-150k    2555\n",
       "2. 50k-100k     2537\n",
       "4. 150k-200k    2455\n",
       "1. <=50000      2453\n",
       "Name: Salarybucket, dtype: int64"
      ]
     },
     "execution_count": 135,
     "metadata": {},
     "output_type": "execute_result"
    }
   ],
   "source": [
    "churn['Salarybucket'].value_counts()"
   ]
  },
  {
   "cell_type": "code",
   "execution_count": 136,
   "id": "015ae0fd",
   "metadata": {},
   "outputs": [
    {
     "data": {
      "text/html": [
       "<div>\n",
       "<style scoped>\n",
       "    .dataframe tbody tr th:only-of-type {\n",
       "        vertical-align: middle;\n",
       "    }\n",
       "\n",
       "    .dataframe tbody tr th {\n",
       "        vertical-align: top;\n",
       "    }\n",
       "\n",
       "    .dataframe thead th {\n",
       "        text-align: right;\n",
       "    }\n",
       "</style>\n",
       "<table border=\"1\" class=\"dataframe\">\n",
       "  <thead>\n",
       "    <tr style=\"text-align: right;\">\n",
       "      <th></th>\n",
       "      <th></th>\n",
       "      <th>Exited</th>\n",
       "    </tr>\n",
       "    <tr>\n",
       "      <th>Salarybucket</th>\n",
       "      <th>Exited</th>\n",
       "      <th></th>\n",
       "    </tr>\n",
       "  </thead>\n",
       "  <tbody>\n",
       "    <tr>\n",
       "      <th rowspan=\"2\" valign=\"top\">1. &lt;=50000</th>\n",
       "      <th>0</th>\n",
       "      <td>80.065</td>\n",
       "    </tr>\n",
       "    <tr>\n",
       "      <th>1</th>\n",
       "      <td>19.935</td>\n",
       "    </tr>\n",
       "    <tr>\n",
       "      <th rowspan=\"2\" valign=\"top\">2. 50k-100k</th>\n",
       "      <th>0</th>\n",
       "      <td>80.134</td>\n",
       "    </tr>\n",
       "    <tr>\n",
       "      <th>1</th>\n",
       "      <td>19.866</td>\n",
       "    </tr>\n",
       "    <tr>\n",
       "      <th rowspan=\"2\" valign=\"top\">3. 100k-150k</th>\n",
       "      <th>0</th>\n",
       "      <td>79.765</td>\n",
       "    </tr>\n",
       "    <tr>\n",
       "      <th>1</th>\n",
       "      <td>20.235</td>\n",
       "    </tr>\n",
       "    <tr>\n",
       "      <th rowspan=\"2\" valign=\"top\">4. 150k-200k</th>\n",
       "      <th>0</th>\n",
       "      <td>78.534</td>\n",
       "    </tr>\n",
       "    <tr>\n",
       "      <th>1</th>\n",
       "      <td>21.466</td>\n",
       "    </tr>\n",
       "  </tbody>\n",
       "</table>\n",
       "</div>"
      ],
      "text/plain": [
       "                     Exited\n",
       "Salarybucket Exited        \n",
       "1. <=50000   0       80.065\n",
       "             1       19.935\n",
       "2. 50k-100k  0       80.134\n",
       "             1       19.866\n",
       "3. 100k-150k 0       79.765\n",
       "             1       20.235\n",
       "4. 150k-200k 0       78.534\n",
       "             1       21.466"
      ]
     },
     "execution_count": 136,
     "metadata": {},
     "output_type": "execute_result"
    }
   ],
   "source": [
    "pd.DataFrame(churn.groupby(['Salarybucket'])['Exited'].value_counts(normalize=True))*100"
   ]
  },
  {
   "cell_type": "code",
   "execution_count": null,
   "id": "9c394f0d",
   "metadata": {},
   "outputs": [],
   "source": []
  }
 ],
 "metadata": {
  "kernelspec": {
   "display_name": "Python 3",
   "language": "python",
   "name": "python3"
  },
  "language_info": {
   "codemirror_mode": {
    "name": "ipython",
    "version": 3
   },
   "file_extension": ".py",
   "mimetype": "text/x-python",
   "name": "python",
   "nbconvert_exporter": "python",
   "pygments_lexer": "ipython3",
   "version": "3.8.8"
  }
 },
 "nbformat": 4,
 "nbformat_minor": 5
}
