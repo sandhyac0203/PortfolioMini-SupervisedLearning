{
 "cells": [
  {
   "cell_type": "markdown",
   "id": "1754bb3f",
   "metadata": {},
   "source": [
    "### Predicting modal onion prices .\n",
    "By modal onion prices what I understand is they are selling price /quintal (1000 kg) of onions\n",
    "\n",
    "Data source:\n",
    "https://www.kaggle.com/ravisane1/market-price-of-onion-2020 \n"
   ]
  },
  {
   "cell_type": "markdown",
   "id": "177bc8e6",
   "metadata": {},
   "source": [
    "#### The following steps will be performed as part of this project(High-Level Steps):\n",
    "\n",
    "1. Data wrangling - dealing with missing values\n",
    "2. Univariate analysis - Checking the outliers and other basic statistics including graph. Transformations if needed\n",
    "3. Bivariate analysis- Performing correlation analysis and other analysis with the dependent variable including graph\n",
    "4. New variable creation if any\n",
    "5. Repeating steps 1 and 2 for the new variables\n",
    "6. Variable selection based on multicollinearity and VIF\n",
    "7. Split the datasets into train/test\n",
    "8. Perform feature scaling (normalization) for train/test data\n",
    "9. Running few algos -> Linear Regression, Boosting, Random forests\n",
    "10. Perform cross validation with unscaled data. Scaling will be done for each fold separately (k=10)\n",
    "11. Feed in new data for predictions \n",
    "\n",
    "\n"
   ]
  },
  {
   "cell_type": "code",
   "execution_count": 1,
   "id": "958737f0",
   "metadata": {},
   "outputs": [],
   "source": [
    "# Importing the necessary libraries and packages\n",
    "\n",
    "import numpy as np\n",
    "import pandas as pd\n",
    "import matplotlib.pyplot as plt\n",
    "import seaborn as sns\n",
    "from pandas.plotting import scatter_matrix\n",
    "\n",
    "from sklearn.linear_model import LinearRegression\n",
    "from sklearn.model_selection import train_test_split\n",
    "from sklearn.metrics import accuracy_score\n",
    "\n",
    "from sklearn.model_selection import KFold\n",
    "from sklearn.model_selection import cross_val_score\n",
    "\n",
    "from scipy.stats.stats import pearsonr\n",
    "from scipy.stats.stats import spearmanr\n",
    "from scipy.stats import chi2_contingency\n",
    "\n",
    "from numpy import loadtxt\n",
    "\n",
    "from sklearn.datasets import make_regression\n",
    "from sklearn.ensemble import GradientBoostingRegressor\n",
    "from sklearn.ensemble import RandomForestRegressor\n",
    "from sklearn import preprocessing"
   ]
  },
  {
   "cell_type": "markdown",
   "id": "8d66525d",
   "metadata": {},
   "source": [
    "### Data Wrangling"
   ]
  },
  {
   "cell_type": "code",
   "execution_count": 2,
   "id": "f90031a4",
   "metadata": {},
   "outputs": [],
   "source": [
    "# Reading the csv file from local machine\n",
    "\n",
    "data=pd.read_csv(\"/Users/plutobot/Downloads/Onion Prices Project/Onion Prices 2020.csv\")\n"
   ]
  },
  {
   "cell_type": "code",
   "execution_count": 3,
   "id": "0cde3de9",
   "metadata": {},
   "outputs": [
    {
     "data": {
      "text/plain": [
       "state           107295\n",
       "district        107295\n",
       "market          107295\n",
       "commodity       107295\n",
       "variety         107295\n",
       "arrival_date    107295\n",
       "min_price       107295\n",
       "max_price       107295\n",
       "modal_price     107295\n",
       "dtype: int64"
      ]
     },
     "execution_count": 3,
     "metadata": {},
     "output_type": "execute_result"
    }
   ],
   "source": [
    "# Checking the number of records \n",
    "data.count()"
   ]
  },
  {
   "cell_type": "code",
   "execution_count": 4,
   "id": "14be3c56",
   "metadata": {},
   "outputs": [
    {
     "data": {
      "text/plain": [
       "state            object\n",
       "district         object\n",
       "market           object\n",
       "commodity        object\n",
       "variety          object\n",
       "arrival_date     object\n",
       "min_price         int64\n",
       "max_price         int64\n",
       "modal_price     float64\n",
       "dtype: object"
      ]
     },
     "execution_count": 4,
     "metadata": {},
     "output_type": "execute_result"
    }
   ],
   "source": [
    "# Checking the data types\n",
    "data.dtypes"
   ]
  },
  {
   "cell_type": "code",
   "execution_count": 5,
   "id": "adc02c9e",
   "metadata": {},
   "outputs": [],
   "source": [
    "# Before performing data wrangling , retaining a copy of the original dataset\n",
    "data1=data.copy()"
   ]
  },
  {
   "cell_type": "code",
   "execution_count": 6,
   "id": "4e4e3a58",
   "metadata": {},
   "outputs": [],
   "source": [
    "# Creating a unique key for the records by combining state, district, market, variety\n",
    "data['key']=data['state'].astype(str)+data['district'].astype(str)+data['market'].astype(str)+data['variety'].astype(str)+data['arrival_date'].astype(str)"
   ]
  },
  {
   "cell_type": "code",
   "execution_count": 7,
   "id": "9be8f015",
   "metadata": {},
   "outputs": [
    {
     "data": {
      "text/html": [
       "<div>\n",
       "<style scoped>\n",
       "    .dataframe tbody tr th:only-of-type {\n",
       "        vertical-align: middle;\n",
       "    }\n",
       "\n",
       "    .dataframe tbody tr th {\n",
       "        vertical-align: top;\n",
       "    }\n",
       "\n",
       "    .dataframe thead th {\n",
       "        text-align: right;\n",
       "    }\n",
       "</style>\n",
       "<table border=\"1\" class=\"dataframe\">\n",
       "  <thead>\n",
       "    <tr style=\"text-align: right;\">\n",
       "      <th></th>\n",
       "      <th>min_price</th>\n",
       "      <th>max_price</th>\n",
       "      <th>modal_price</th>\n",
       "    </tr>\n",
       "  </thead>\n",
       "  <tbody>\n",
       "    <tr>\n",
       "      <th>count</th>\n",
       "      <td>107295.000000</td>\n",
       "      <td>107295.000000</td>\n",
       "      <td>107295.000000</td>\n",
       "    </tr>\n",
       "    <tr>\n",
       "      <th>mean</th>\n",
       "      <td>1894.479715</td>\n",
       "      <td>2289.960492</td>\n",
       "      <td>2109.523217</td>\n",
       "    </tr>\n",
       "    <tr>\n",
       "      <th>std</th>\n",
       "      <td>1459.415839</td>\n",
       "      <td>1565.827631</td>\n",
       "      <td>1493.344338</td>\n",
       "    </tr>\n",
       "    <tr>\n",
       "      <th>min</th>\n",
       "      <td>0.000000</td>\n",
       "      <td>0.000000</td>\n",
       "      <td>20.000000</td>\n",
       "    </tr>\n",
       "    <tr>\n",
       "      <th>25%</th>\n",
       "      <td>1000.000000</td>\n",
       "      <td>1220.000000</td>\n",
       "      <td>1150.000000</td>\n",
       "    </tr>\n",
       "    <tr>\n",
       "      <th>50%</th>\n",
       "      <td>1400.000000</td>\n",
       "      <td>1800.000000</td>\n",
       "      <td>1600.000000</td>\n",
       "    </tr>\n",
       "    <tr>\n",
       "      <th>75%</th>\n",
       "      <td>2400.000000</td>\n",
       "      <td>2800.000000</td>\n",
       "      <td>2550.000000</td>\n",
       "    </tr>\n",
       "    <tr>\n",
       "      <th>max</th>\n",
       "      <td>18000.000000</td>\n",
       "      <td>25000.000000</td>\n",
       "      <td>22000.000000</td>\n",
       "    </tr>\n",
       "  </tbody>\n",
       "</table>\n",
       "</div>"
      ],
      "text/plain": [
       "           min_price      max_price    modal_price\n",
       "count  107295.000000  107295.000000  107295.000000\n",
       "mean     1894.479715    2289.960492    2109.523217\n",
       "std      1459.415839    1565.827631    1493.344338\n",
       "min         0.000000       0.000000      20.000000\n",
       "25%      1000.000000    1220.000000    1150.000000\n",
       "50%      1400.000000    1800.000000    1600.000000\n",
       "75%      2400.000000    2800.000000    2550.000000\n",
       "max     18000.000000   25000.000000   22000.000000"
      ]
     },
     "execution_count": 7,
     "metadata": {},
     "output_type": "execute_result"
    }
   ],
   "source": [
    "# Summary stats for numeric variables\n",
    "data.describe()"
   ]
  },
  {
   "cell_type": "code",
   "execution_count": 8,
   "id": "05864c3e",
   "metadata": {},
   "outputs": [],
   "source": [
    "# Converting modal_price to int\n",
    "data['modal_price']=data['modal_price'].astype(float).astype(int)"
   ]
  },
  {
   "cell_type": "code",
   "execution_count": 9,
   "id": "07391a2a",
   "metadata": {},
   "outputs": [
    {
     "data": {
      "text/plain": [
       "Uttar Pradesh        37263\n",
       "Punjab               10783\n",
       "Kerala                8834\n",
       "West Bengal           7235\n",
       "Odisha                6938\n",
       "Haryana               6637\n",
       "Rajasthan             4974\n",
       "Maharashtra           4788\n",
       "Madhya Pradesh        4333\n",
       "Karnataka             3775\n",
       "Gujarat               2940\n",
       "Himachal Pradesh      2486\n",
       "Uttrakhand            1731\n",
       "Tripura               1626\n",
       "Jammu and Kashmir      831\n",
       "Chattisgarh            733\n",
       "Telangana              507\n",
       "NCT of Delhi           371\n",
       "Jharkhand              302\n",
       "Andhra Pradesh         127\n",
       "Goa                     74\n",
       "Nagaland                 7\n",
       "Name: state, dtype: int64"
      ]
     },
     "execution_count": 9,
     "metadata": {},
     "output_type": "execute_result"
    }
   ],
   "source": [
    "# Analyzing the cat variables\n",
    "data['state'].value_counts()\n"
   ]
  },
  {
   "cell_type": "code",
   "execution_count": 10,
   "id": "a42ec959",
   "metadata": {},
   "outputs": [
    {
     "data": {
      "text/plain": [
       "Kottayam        1671\n",
       "Alappuzha       1563\n",
       "Nashik          1473\n",
       "Bulandshahar    1397\n",
       "Hamirpur        1187\n",
       "                ... \n",
       "Ratnagiri          2\n",
       "Rayagada           2\n",
       "Badwani            2\n",
       "Raisen             1\n",
       "Bidar              1\n",
       "Name: district, Length: 315, dtype: int64"
      ]
     },
     "execution_count": 10,
     "metadata": {},
     "output_type": "execute_result"
    }
   ],
   "source": [
    "data['district'].value_counts()"
   ]
  },
  {
   "cell_type": "code",
   "execution_count": 11,
   "id": "d9ec5963",
   "metadata": {},
   "outputs": [
    {
     "data": {
      "text/plain": [
       "Kayamkulam                    461\n",
       "Hubli (Amaragol)              416\n",
       "Palakkad                      370\n",
       "Bangalore                     361\n",
       "Chengannur                    346\n",
       "                             ... \n",
       "Berachha                        1\n",
       "Amarawati                       1\n",
       "Jamanian                        1\n",
       "Shimla and Kinnaur(Rampur)      1\n",
       "Neemuch                         1\n",
       "Name: market, Length: 905, dtype: int64"
      ]
     },
     "execution_count": 11,
     "metadata": {},
     "output_type": "execute_result"
    }
   ],
   "source": [
    "data['market'].value_counts()"
   ]
  },
  {
   "cell_type": "code",
   "execution_count": 12,
   "id": "7d139995",
   "metadata": {},
   "outputs": [
    {
     "data": {
      "text/plain": [
       "Onion    107295\n",
       "Name: commodity, dtype: int64"
      ]
     },
     "execution_count": 12,
     "metadata": {},
     "output_type": "execute_result"
    }
   ],
   "source": [
    "data['commodity'].value_counts()"
   ]
  },
  {
   "cell_type": "code",
   "execution_count": 13,
   "id": "f1ba6da4",
   "metadata": {},
   "outputs": [
    {
     "data": {
      "text/plain": [
       "Other               38316\n",
       "Red                 36455\n",
       "Onion               14712\n",
       "Local                3663\n",
       "1st Sort             3490\n",
       "Nasik                3449\n",
       "Big                  2989\n",
       "Small                1658\n",
       "White                 490\n",
       "Pusa-Red              436\n",
       "Puna                  348\n",
       "Medium                343\n",
       "Bombay (U.P.)         224\n",
       "Dry F.A.Q.            191\n",
       "Beelary-Red           149\n",
       "Pole                  126\n",
       "Telagi                115\n",
       "2nd Sort               76\n",
       "Hybrid                 63\n",
       "Bangalore-Samall        1\n",
       "Bellary                 1\n",
       "Name: variety, dtype: int64"
      ]
     },
     "execution_count": 13,
     "metadata": {},
     "output_type": "execute_result"
    }
   ],
   "source": [
    "data['variety'].value_counts()"
   ]
  },
  {
   "cell_type": "code",
   "execution_count": 14,
   "id": "1bb03a2e",
   "metadata": {},
   "outputs": [
    {
     "data": {
      "text/plain": [
       "Other               0.357109\n",
       "Red                 0.339764\n",
       "Onion               0.137117\n",
       "Local               0.034140\n",
       "1st Sort            0.032527\n",
       "Nasik               0.032145\n",
       "Big                 0.027858\n",
       "Small               0.015453\n",
       "White               0.004567\n",
       "Pusa-Red            0.004064\n",
       "Puna                0.003243\n",
       "Medium              0.003197\n",
       "Bombay (U.P.)       0.002088\n",
       "Dry F.A.Q.          0.001780\n",
       "Beelary-Red         0.001389\n",
       "Pole                0.001174\n",
       "Telagi              0.001072\n",
       "2nd Sort            0.000708\n",
       "Hybrid              0.000587\n",
       "Bangalore-Samall    0.000009\n",
       "Bellary             0.000009\n",
       "Name: variety, dtype: float64"
      ]
     },
     "execution_count": 14,
     "metadata": {},
     "output_type": "execute_result"
    }
   ],
   "source": [
    "# % spread of variety. Any variety less than 1 is combined with the category Other\n",
    "data['variety'].value_counts(normalize=True)"
   ]
  },
  {
   "cell_type": "code",
   "execution_count": 15,
   "id": "46c9bc66",
   "metadata": {},
   "outputs": [],
   "source": [
    "# Combining the varieties so that 1 digit objects are combined with Other. Also the variety onion can be combined with the category other \n",
    "\n",
    "x=dict.fromkeys(['Onion','Bangalore-Samall','Bellary','2nd Sort','Hybrid'],'Other')\n",
    "data['variety'] = data['variety'].replace(x)"
   ]
  },
  {
   "cell_type": "code",
   "execution_count": 16,
   "id": "9f63c2ee",
   "metadata": {},
   "outputs": [
    {
     "data": {
      "text/plain": [
       "Other            0.495540\n",
       "Red              0.339764\n",
       "Local            0.034140\n",
       "1st Sort         0.032527\n",
       "Nasik            0.032145\n",
       "Big              0.027858\n",
       "Small            0.015453\n",
       "White            0.004567\n",
       "Pusa-Red         0.004064\n",
       "Puna             0.003243\n",
       "Medium           0.003197\n",
       "Bombay (U.P.)    0.002088\n",
       "Dry F.A.Q.       0.001780\n",
       "Beelary-Red      0.001389\n",
       "Pole             0.001174\n",
       "Telagi           0.001072\n",
       "Name: variety, dtype: float64"
      ]
     },
     "execution_count": 16,
     "metadata": {},
     "output_type": "execute_result"
    }
   ],
   "source": [
    "# Checking the % spread of variety. Any variety less than 1 is combined with\n",
    "data['variety'].value_counts(normalize=True)"
   ]
  },
  {
   "cell_type": "code",
   "execution_count": 17,
   "id": "2d0972f4",
   "metadata": {},
   "outputs": [
    {
     "data": {
      "text/plain": [
       "0         03/01/2020\n",
       "1         04/01/2020\n",
       "2         06/01/2020\n",
       "3         07/01/2020\n",
       "4         10/01/2020\n",
       "             ...    \n",
       "107290    03/09/2020\n",
       "107291    04/09/2020\n",
       "107292    08/09/2020\n",
       "107293    09/09/2020\n",
       "107294    10/09/2020\n",
       "Name: arrival_date, Length: 107295, dtype: object"
      ]
     },
     "execution_count": 17,
     "metadata": {},
     "output_type": "execute_result"
    }
   ],
   "source": [
    "# Checking the arrival date\n",
    "data['arrival_date']"
   ]
  },
  {
   "cell_type": "code",
   "execution_count": 18,
   "id": "0035d0c3",
   "metadata": {},
   "outputs": [],
   "source": [
    "# Converting the arrival date into a datetime object so that further analysis can be performed\n",
    "\n",
    "import datetime as dt\n",
    "data['arrival_date']=pd.to_datetime(data['arrival_date'])"
   ]
  },
  {
   "cell_type": "code",
   "execution_count": 19,
   "id": "9ad20e92",
   "metadata": {},
   "outputs": [
    {
     "data": {
      "text/plain": [
       "dtype('<M8[ns]')"
      ]
     },
     "execution_count": 19,
     "metadata": {},
     "output_type": "execute_result"
    }
   ],
   "source": [
    "data['arrival_date'].dtypes"
   ]
  },
  {
   "cell_type": "code",
   "execution_count": 20,
   "id": "1dc122d2",
   "metadata": {},
   "outputs": [],
   "source": [
    "# Converting arrival date into a numeric value so that algorithms can be run\n",
    "data['arrival_dateA'] = pd.to_datetime(data['arrival_date'])    \n",
    "data['arrival_dateA']=data['arrival_dateA'].map(dt.datetime.toordinal)"
   ]
  },
  {
   "cell_type": "code",
   "execution_count": 21,
   "id": "3b94f3ab",
   "metadata": {},
   "outputs": [
    {
     "data": {
      "text/html": [
       "<div>\n",
       "<style scoped>\n",
       "    .dataframe tbody tr th:only-of-type {\n",
       "        vertical-align: middle;\n",
       "    }\n",
       "\n",
       "    .dataframe tbody tr th {\n",
       "        vertical-align: top;\n",
       "    }\n",
       "\n",
       "    .dataframe thead th {\n",
       "        text-align: right;\n",
       "    }\n",
       "</style>\n",
       "<table border=\"1\" class=\"dataframe\">\n",
       "  <thead>\n",
       "    <tr style=\"text-align: right;\">\n",
       "      <th></th>\n",
       "      <th>state</th>\n",
       "      <th>district</th>\n",
       "      <th>market</th>\n",
       "      <th>commodity</th>\n",
       "      <th>variety</th>\n",
       "      <th>arrival_date</th>\n",
       "      <th>min_price</th>\n",
       "      <th>max_price</th>\n",
       "      <th>modal_price</th>\n",
       "      <th>key</th>\n",
       "      <th>arrival_dateA</th>\n",
       "    </tr>\n",
       "  </thead>\n",
       "  <tbody>\n",
       "    <tr>\n",
       "      <th>0</th>\n",
       "      <td>Andhra Pradesh</td>\n",
       "      <td>Kurnool</td>\n",
       "      <td>Kurnool</td>\n",
       "      <td>Onion</td>\n",
       "      <td>Local</td>\n",
       "      <td>2020-03-01</td>\n",
       "      <td>1350</td>\n",
       "      <td>4390</td>\n",
       "      <td>3100</td>\n",
       "      <td>Andhra PradeshKurnoolKurnoolLocal03/01/2020</td>\n",
       "      <td>737485</td>\n",
       "    </tr>\n",
       "    <tr>\n",
       "      <th>1</th>\n",
       "      <td>Andhra Pradesh</td>\n",
       "      <td>Kurnool</td>\n",
       "      <td>Kurnool</td>\n",
       "      <td>Onion</td>\n",
       "      <td>Local</td>\n",
       "      <td>2020-04-01</td>\n",
       "      <td>1390</td>\n",
       "      <td>4400</td>\n",
       "      <td>3200</td>\n",
       "      <td>Andhra PradeshKurnoolKurnoolLocal04/01/2020</td>\n",
       "      <td>737516</td>\n",
       "    </tr>\n",
       "    <tr>\n",
       "      <th>2</th>\n",
       "      <td>Andhra Pradesh</td>\n",
       "      <td>Kurnool</td>\n",
       "      <td>Kurnool</td>\n",
       "      <td>Onion</td>\n",
       "      <td>Local</td>\n",
       "      <td>2020-06-01</td>\n",
       "      <td>1460</td>\n",
       "      <td>5150</td>\n",
       "      <td>4310</td>\n",
       "      <td>Andhra PradeshKurnoolKurnoolLocal06/01/2020</td>\n",
       "      <td>737577</td>\n",
       "    </tr>\n",
       "    <tr>\n",
       "      <th>3</th>\n",
       "      <td>Andhra Pradesh</td>\n",
       "      <td>Kurnool</td>\n",
       "      <td>Kurnool</td>\n",
       "      <td>Onion</td>\n",
       "      <td>Local</td>\n",
       "      <td>2020-07-01</td>\n",
       "      <td>2010</td>\n",
       "      <td>5200</td>\n",
       "      <td>4200</td>\n",
       "      <td>Andhra PradeshKurnoolKurnoolLocal07/01/2020</td>\n",
       "      <td>737607</td>\n",
       "    </tr>\n",
       "    <tr>\n",
       "      <th>4</th>\n",
       "      <td>Andhra Pradesh</td>\n",
       "      <td>Kurnool</td>\n",
       "      <td>Kurnool</td>\n",
       "      <td>Onion</td>\n",
       "      <td>Local</td>\n",
       "      <td>2020-10-01</td>\n",
       "      <td>1320</td>\n",
       "      <td>4050</td>\n",
       "      <td>3300</td>\n",
       "      <td>Andhra PradeshKurnoolKurnoolLocal10/01/2020</td>\n",
       "      <td>737699</td>\n",
       "    </tr>\n",
       "    <tr>\n",
       "      <th>...</th>\n",
       "      <td>...</td>\n",
       "      <td>...</td>\n",
       "      <td>...</td>\n",
       "      <td>...</td>\n",
       "      <td>...</td>\n",
       "      <td>...</td>\n",
       "      <td>...</td>\n",
       "      <td>...</td>\n",
       "      <td>...</td>\n",
       "      <td>...</td>\n",
       "      <td>...</td>\n",
       "    </tr>\n",
       "    <tr>\n",
       "      <th>107290</th>\n",
       "      <td>West Bengal</td>\n",
       "      <td>Sounth 24 Parganas</td>\n",
       "      <td>Diamond Harbour(South 24-pgs)</td>\n",
       "      <td>Onion</td>\n",
       "      <td>Red</td>\n",
       "      <td>2020-03-09</td>\n",
       "      <td>2200</td>\n",
       "      <td>2300</td>\n",
       "      <td>2250</td>\n",
       "      <td>West BengalSounth 24 ParganasDiamond Harbour(S...</td>\n",
       "      <td>737493</td>\n",
       "    </tr>\n",
       "    <tr>\n",
       "      <th>107291</th>\n",
       "      <td>West Bengal</td>\n",
       "      <td>Sounth 24 Parganas</td>\n",
       "      <td>Diamond Harbour(South 24-pgs)</td>\n",
       "      <td>Onion</td>\n",
       "      <td>Red</td>\n",
       "      <td>2020-04-09</td>\n",
       "      <td>2050</td>\n",
       "      <td>2600</td>\n",
       "      <td>2200</td>\n",
       "      <td>West BengalSounth 24 ParganasDiamond Harbour(S...</td>\n",
       "      <td>737524</td>\n",
       "    </tr>\n",
       "    <tr>\n",
       "      <th>107292</th>\n",
       "      <td>West Bengal</td>\n",
       "      <td>Sounth 24 Parganas</td>\n",
       "      <td>Diamond Harbour(South 24-pgs)</td>\n",
       "      <td>Onion</td>\n",
       "      <td>Red</td>\n",
       "      <td>2020-08-09</td>\n",
       "      <td>2700</td>\n",
       "      <td>2875</td>\n",
       "      <td>2800</td>\n",
       "      <td>West BengalSounth 24 ParganasDiamond Harbour(S...</td>\n",
       "      <td>737646</td>\n",
       "    </tr>\n",
       "    <tr>\n",
       "      <th>107293</th>\n",
       "      <td>West Bengal</td>\n",
       "      <td>Sounth 24 Parganas</td>\n",
       "      <td>Diamond Harbour(South 24-pgs)</td>\n",
       "      <td>Onion</td>\n",
       "      <td>Red</td>\n",
       "      <td>2020-09-09</td>\n",
       "      <td>2625</td>\n",
       "      <td>2875</td>\n",
       "      <td>2800</td>\n",
       "      <td>West BengalSounth 24 ParganasDiamond Harbour(S...</td>\n",
       "      <td>737677</td>\n",
       "    </tr>\n",
       "    <tr>\n",
       "      <th>107294</th>\n",
       "      <td>West Bengal</td>\n",
       "      <td>Sounth 24 Parganas</td>\n",
       "      <td>Diamond Harbour(South 24-pgs)</td>\n",
       "      <td>Onion</td>\n",
       "      <td>Red</td>\n",
       "      <td>2020-10-09</td>\n",
       "      <td>2800</td>\n",
       "      <td>2890</td>\n",
       "      <td>2870</td>\n",
       "      <td>West BengalSounth 24 ParganasDiamond Harbour(S...</td>\n",
       "      <td>737707</td>\n",
       "    </tr>\n",
       "  </tbody>\n",
       "</table>\n",
       "<p>107295 rows × 11 columns</p>\n",
       "</div>"
      ],
      "text/plain": [
       "                 state            district                         market  \\\n",
       "0       Andhra Pradesh             Kurnool                        Kurnool   \n",
       "1       Andhra Pradesh             Kurnool                        Kurnool   \n",
       "2       Andhra Pradesh             Kurnool                        Kurnool   \n",
       "3       Andhra Pradesh             Kurnool                        Kurnool   \n",
       "4       Andhra Pradesh             Kurnool                        Kurnool   \n",
       "...                ...                 ...                            ...   \n",
       "107290     West Bengal  Sounth 24 Parganas  Diamond Harbour(South 24-pgs)   \n",
       "107291     West Bengal  Sounth 24 Parganas  Diamond Harbour(South 24-pgs)   \n",
       "107292     West Bengal  Sounth 24 Parganas  Diamond Harbour(South 24-pgs)   \n",
       "107293     West Bengal  Sounth 24 Parganas  Diamond Harbour(South 24-pgs)   \n",
       "107294     West Bengal  Sounth 24 Parganas  Diamond Harbour(South 24-pgs)   \n",
       "\n",
       "       commodity variety arrival_date  min_price  max_price  modal_price  \\\n",
       "0          Onion   Local   2020-03-01       1350       4390         3100   \n",
       "1          Onion   Local   2020-04-01       1390       4400         3200   \n",
       "2          Onion   Local   2020-06-01       1460       5150         4310   \n",
       "3          Onion   Local   2020-07-01       2010       5200         4200   \n",
       "4          Onion   Local   2020-10-01       1320       4050         3300   \n",
       "...          ...     ...          ...        ...        ...          ...   \n",
       "107290     Onion     Red   2020-03-09       2200       2300         2250   \n",
       "107291     Onion     Red   2020-04-09       2050       2600         2200   \n",
       "107292     Onion     Red   2020-08-09       2700       2875         2800   \n",
       "107293     Onion     Red   2020-09-09       2625       2875         2800   \n",
       "107294     Onion     Red   2020-10-09       2800       2890         2870   \n",
       "\n",
       "                                                      key  arrival_dateA  \n",
       "0             Andhra PradeshKurnoolKurnoolLocal03/01/2020         737485  \n",
       "1             Andhra PradeshKurnoolKurnoolLocal04/01/2020         737516  \n",
       "2             Andhra PradeshKurnoolKurnoolLocal06/01/2020         737577  \n",
       "3             Andhra PradeshKurnoolKurnoolLocal07/01/2020         737607  \n",
       "4             Andhra PradeshKurnoolKurnoolLocal10/01/2020         737699  \n",
       "...                                                   ...            ...  \n",
       "107290  West BengalSounth 24 ParganasDiamond Harbour(S...         737493  \n",
       "107291  West BengalSounth 24 ParganasDiamond Harbour(S...         737524  \n",
       "107292  West BengalSounth 24 ParganasDiamond Harbour(S...         737646  \n",
       "107293  West BengalSounth 24 ParganasDiamond Harbour(S...         737677  \n",
       "107294  West BengalSounth 24 ParganasDiamond Harbour(S...         737707  \n",
       "\n",
       "[107295 rows x 11 columns]"
      ]
     },
     "execution_count": 21,
     "metadata": {},
     "output_type": "execute_result"
    }
   ],
   "source": [
    "data"
   ]
  },
  {
   "cell_type": "code",
   "execution_count": 22,
   "id": "c272c789",
   "metadata": {},
   "outputs": [],
   "source": [
    "# Removing the variable commodity because this does not have an impact\n",
    "\n",
    "data=data.drop(columns=['commodity'])"
   ]
  },
  {
   "cell_type": "code",
   "execution_count": 23,
   "id": "ccee7cbc",
   "metadata": {},
   "outputs": [
    {
     "data": {
      "text/plain": [
       "state                    object\n",
       "district                 object\n",
       "market                   object\n",
       "variety                  object\n",
       "arrival_date     datetime64[ns]\n",
       "min_price                 int64\n",
       "max_price                 int64\n",
       "modal_price               int64\n",
       "key                      object\n",
       "arrival_dateA             int64\n",
       "dtype: object"
      ]
     },
     "execution_count": 23,
     "metadata": {},
     "output_type": "execute_result"
    }
   ],
   "source": [
    "data.dtypes"
   ]
  },
  {
   "cell_type": "code",
   "execution_count": 24,
   "id": "9e269764",
   "metadata": {},
   "outputs": [],
   "source": [
    "# Creating label encoding for the variable variety\n",
    "data['varietyA']=data['variety'].astype(object).astype('category')\n",
    "data['varietyA']=data['varietyA'].cat.codes"
   ]
  },
  {
   "cell_type": "code",
   "execution_count": 25,
   "id": "03fe6dc3",
   "metadata": {},
   "outputs": [
    {
     "data": {
      "text/plain": [
       "count    107295.000000\n",
       "mean          8.898970\n",
       "std           2.985479\n",
       "min           0.000000\n",
       "25%           8.000000\n",
       "50%           8.000000\n",
       "75%          12.000000\n",
       "max          15.000000\n",
       "Name: varietyA, dtype: float64"
      ]
     },
     "execution_count": 25,
     "metadata": {},
     "output_type": "execute_result"
    }
   ],
   "source": [
    "data['varietyA'].describe()"
   ]
  },
  {
   "cell_type": "code",
   "execution_count": 26,
   "id": "f93e42d3",
   "metadata": {},
   "outputs": [
    {
     "data": {
      "text/plain": [
       "count    107295.000000\n",
       "mean          8.898970\n",
       "std           2.985479\n",
       "min           0.000000\n",
       "25%           8.000000\n",
       "50%           8.000000\n",
       "75%          12.000000\n",
       "max          15.000000\n",
       "Name: varietyA, dtype: float64"
      ]
     },
     "execution_count": 26,
     "metadata": {},
     "output_type": "execute_result"
    }
   ],
   "source": [
    "data['varietyA'].describe()"
   ]
  },
  {
   "cell_type": "code",
   "execution_count": 27,
   "id": "b1c2c87f",
   "metadata": {},
   "outputs": [
    {
     "data": {
      "text/html": [
       "<div>\n",
       "<style scoped>\n",
       "    .dataframe tbody tr th:only-of-type {\n",
       "        vertical-align: middle;\n",
       "    }\n",
       "\n",
       "    .dataframe tbody tr th {\n",
       "        vertical-align: top;\n",
       "    }\n",
       "\n",
       "    .dataframe thead th {\n",
       "        text-align: right;\n",
       "    }\n",
       "</style>\n",
       "<table border=\"1\" class=\"dataframe\">\n",
       "  <thead>\n",
       "    <tr style=\"text-align: right;\">\n",
       "      <th></th>\n",
       "      <th>state</th>\n",
       "      <th>district</th>\n",
       "      <th>market</th>\n",
       "      <th>variety</th>\n",
       "      <th>arrival_date</th>\n",
       "      <th>min_price</th>\n",
       "      <th>max_price</th>\n",
       "      <th>modal_price</th>\n",
       "      <th>key</th>\n",
       "      <th>arrival_dateA</th>\n",
       "      <th>varietyA</th>\n",
       "    </tr>\n",
       "  </thead>\n",
       "  <tbody>\n",
       "    <tr>\n",
       "      <th>0</th>\n",
       "      <td>Andhra Pradesh</td>\n",
       "      <td>Kurnool</td>\n",
       "      <td>Kurnool</td>\n",
       "      <td>Local</td>\n",
       "      <td>2020-03-01</td>\n",
       "      <td>1350</td>\n",
       "      <td>4390</td>\n",
       "      <td>3100</td>\n",
       "      <td>Andhra PradeshKurnoolKurnoolLocal03/01/2020</td>\n",
       "      <td>737485</td>\n",
       "      <td>5</td>\n",
       "    </tr>\n",
       "    <tr>\n",
       "      <th>1</th>\n",
       "      <td>Andhra Pradesh</td>\n",
       "      <td>Kurnool</td>\n",
       "      <td>Kurnool</td>\n",
       "      <td>Local</td>\n",
       "      <td>2020-04-01</td>\n",
       "      <td>1390</td>\n",
       "      <td>4400</td>\n",
       "      <td>3200</td>\n",
       "      <td>Andhra PradeshKurnoolKurnoolLocal04/01/2020</td>\n",
       "      <td>737516</td>\n",
       "      <td>5</td>\n",
       "    </tr>\n",
       "    <tr>\n",
       "      <th>2</th>\n",
       "      <td>Andhra Pradesh</td>\n",
       "      <td>Kurnool</td>\n",
       "      <td>Kurnool</td>\n",
       "      <td>Local</td>\n",
       "      <td>2020-06-01</td>\n",
       "      <td>1460</td>\n",
       "      <td>5150</td>\n",
       "      <td>4310</td>\n",
       "      <td>Andhra PradeshKurnoolKurnoolLocal06/01/2020</td>\n",
       "      <td>737577</td>\n",
       "      <td>5</td>\n",
       "    </tr>\n",
       "    <tr>\n",
       "      <th>3</th>\n",
       "      <td>Andhra Pradesh</td>\n",
       "      <td>Kurnool</td>\n",
       "      <td>Kurnool</td>\n",
       "      <td>Local</td>\n",
       "      <td>2020-07-01</td>\n",
       "      <td>2010</td>\n",
       "      <td>5200</td>\n",
       "      <td>4200</td>\n",
       "      <td>Andhra PradeshKurnoolKurnoolLocal07/01/2020</td>\n",
       "      <td>737607</td>\n",
       "      <td>5</td>\n",
       "    </tr>\n",
       "    <tr>\n",
       "      <th>4</th>\n",
       "      <td>Andhra Pradesh</td>\n",
       "      <td>Kurnool</td>\n",
       "      <td>Kurnool</td>\n",
       "      <td>Local</td>\n",
       "      <td>2020-10-01</td>\n",
       "      <td>1320</td>\n",
       "      <td>4050</td>\n",
       "      <td>3300</td>\n",
       "      <td>Andhra PradeshKurnoolKurnoolLocal10/01/2020</td>\n",
       "      <td>737699</td>\n",
       "      <td>5</td>\n",
       "    </tr>\n",
       "  </tbody>\n",
       "</table>\n",
       "</div>"
      ],
      "text/plain": [
       "            state district   market variety arrival_date  min_price  \\\n",
       "0  Andhra Pradesh  Kurnool  Kurnool   Local   2020-03-01       1350   \n",
       "1  Andhra Pradesh  Kurnool  Kurnool   Local   2020-04-01       1390   \n",
       "2  Andhra Pradesh  Kurnool  Kurnool   Local   2020-06-01       1460   \n",
       "3  Andhra Pradesh  Kurnool  Kurnool   Local   2020-07-01       2010   \n",
       "4  Andhra Pradesh  Kurnool  Kurnool   Local   2020-10-01       1320   \n",
       "\n",
       "   max_price  modal_price                                          key  \\\n",
       "0       4390         3100  Andhra PradeshKurnoolKurnoolLocal03/01/2020   \n",
       "1       4400         3200  Andhra PradeshKurnoolKurnoolLocal04/01/2020   \n",
       "2       5150         4310  Andhra PradeshKurnoolKurnoolLocal06/01/2020   \n",
       "3       5200         4200  Andhra PradeshKurnoolKurnoolLocal07/01/2020   \n",
       "4       4050         3300  Andhra PradeshKurnoolKurnoolLocal10/01/2020   \n",
       "\n",
       "   arrival_dateA  varietyA  \n",
       "0         737485         5  \n",
       "1         737516         5  \n",
       "2         737577         5  \n",
       "3         737607         5  \n",
       "4         737699         5  "
      ]
     },
     "execution_count": 27,
     "metadata": {},
     "output_type": "execute_result"
    }
   ],
   "source": [
    "data.head()"
   ]
  },
  {
   "cell_type": "code",
   "execution_count": 28,
   "id": "976382dd",
   "metadata": {},
   "outputs": [],
   "source": [
    "#creating range_price to ensure that max-min is a positive number. If it turns out to be a negative one, then those records will be removed\n",
    "data['range_price']=data['max_price']-data['min_price']"
   ]
  },
  {
   "cell_type": "code",
   "execution_count": 29,
   "id": "2929bc88",
   "metadata": {},
   "outputs": [
    {
     "data": {
      "text/html": [
       "<div>\n",
       "<style scoped>\n",
       "    .dataframe tbody tr th:only-of-type {\n",
       "        vertical-align: middle;\n",
       "    }\n",
       "\n",
       "    .dataframe tbody tr th {\n",
       "        vertical-align: top;\n",
       "    }\n",
       "\n",
       "    .dataframe thead th {\n",
       "        text-align: right;\n",
       "    }\n",
       "</style>\n",
       "<table border=\"1\" class=\"dataframe\">\n",
       "  <thead>\n",
       "    <tr style=\"text-align: right;\">\n",
       "      <th></th>\n",
       "      <th>state</th>\n",
       "      <th>district</th>\n",
       "      <th>market</th>\n",
       "      <th>variety</th>\n",
       "      <th>arrival_date</th>\n",
       "      <th>min_price</th>\n",
       "      <th>max_price</th>\n",
       "      <th>modal_price</th>\n",
       "      <th>key</th>\n",
       "      <th>arrival_dateA</th>\n",
       "      <th>varietyA</th>\n",
       "      <th>range_price</th>\n",
       "    </tr>\n",
       "  </thead>\n",
       "  <tbody>\n",
       "    <tr>\n",
       "      <th>0</th>\n",
       "      <td>Andhra Pradesh</td>\n",
       "      <td>Kurnool</td>\n",
       "      <td>Kurnool</td>\n",
       "      <td>Local</td>\n",
       "      <td>2020-03-01</td>\n",
       "      <td>1350</td>\n",
       "      <td>4390</td>\n",
       "      <td>3100</td>\n",
       "      <td>Andhra PradeshKurnoolKurnoolLocal03/01/2020</td>\n",
       "      <td>737485</td>\n",
       "      <td>5</td>\n",
       "      <td>3040</td>\n",
       "    </tr>\n",
       "    <tr>\n",
       "      <th>1</th>\n",
       "      <td>Andhra Pradesh</td>\n",
       "      <td>Kurnool</td>\n",
       "      <td>Kurnool</td>\n",
       "      <td>Local</td>\n",
       "      <td>2020-04-01</td>\n",
       "      <td>1390</td>\n",
       "      <td>4400</td>\n",
       "      <td>3200</td>\n",
       "      <td>Andhra PradeshKurnoolKurnoolLocal04/01/2020</td>\n",
       "      <td>737516</td>\n",
       "      <td>5</td>\n",
       "      <td>3010</td>\n",
       "    </tr>\n",
       "    <tr>\n",
       "      <th>2</th>\n",
       "      <td>Andhra Pradesh</td>\n",
       "      <td>Kurnool</td>\n",
       "      <td>Kurnool</td>\n",
       "      <td>Local</td>\n",
       "      <td>2020-06-01</td>\n",
       "      <td>1460</td>\n",
       "      <td>5150</td>\n",
       "      <td>4310</td>\n",
       "      <td>Andhra PradeshKurnoolKurnoolLocal06/01/2020</td>\n",
       "      <td>737577</td>\n",
       "      <td>5</td>\n",
       "      <td>3690</td>\n",
       "    </tr>\n",
       "    <tr>\n",
       "      <th>3</th>\n",
       "      <td>Andhra Pradesh</td>\n",
       "      <td>Kurnool</td>\n",
       "      <td>Kurnool</td>\n",
       "      <td>Local</td>\n",
       "      <td>2020-07-01</td>\n",
       "      <td>2010</td>\n",
       "      <td>5200</td>\n",
       "      <td>4200</td>\n",
       "      <td>Andhra PradeshKurnoolKurnoolLocal07/01/2020</td>\n",
       "      <td>737607</td>\n",
       "      <td>5</td>\n",
       "      <td>3190</td>\n",
       "    </tr>\n",
       "    <tr>\n",
       "      <th>4</th>\n",
       "      <td>Andhra Pradesh</td>\n",
       "      <td>Kurnool</td>\n",
       "      <td>Kurnool</td>\n",
       "      <td>Local</td>\n",
       "      <td>2020-10-01</td>\n",
       "      <td>1320</td>\n",
       "      <td>4050</td>\n",
       "      <td>3300</td>\n",
       "      <td>Andhra PradeshKurnoolKurnoolLocal10/01/2020</td>\n",
       "      <td>737699</td>\n",
       "      <td>5</td>\n",
       "      <td>2730</td>\n",
       "    </tr>\n",
       "  </tbody>\n",
       "</table>\n",
       "</div>"
      ],
      "text/plain": [
       "            state district   market variety arrival_date  min_price  \\\n",
       "0  Andhra Pradesh  Kurnool  Kurnool   Local   2020-03-01       1350   \n",
       "1  Andhra Pradesh  Kurnool  Kurnool   Local   2020-04-01       1390   \n",
       "2  Andhra Pradesh  Kurnool  Kurnool   Local   2020-06-01       1460   \n",
       "3  Andhra Pradesh  Kurnool  Kurnool   Local   2020-07-01       2010   \n",
       "4  Andhra Pradesh  Kurnool  Kurnool   Local   2020-10-01       1320   \n",
       "\n",
       "   max_price  modal_price                                          key  \\\n",
       "0       4390         3100  Andhra PradeshKurnoolKurnoolLocal03/01/2020   \n",
       "1       4400         3200  Andhra PradeshKurnoolKurnoolLocal04/01/2020   \n",
       "2       5150         4310  Andhra PradeshKurnoolKurnoolLocal06/01/2020   \n",
       "3       5200         4200  Andhra PradeshKurnoolKurnoolLocal07/01/2020   \n",
       "4       4050         3300  Andhra PradeshKurnoolKurnoolLocal10/01/2020   \n",
       "\n",
       "   arrival_dateA  varietyA  range_price  \n",
       "0         737485         5         3040  \n",
       "1         737516         5         3010  \n",
       "2         737577         5         3690  \n",
       "3         737607         5         3190  \n",
       "4         737699         5         2730  "
      ]
     },
     "execution_count": 29,
     "metadata": {},
     "output_type": "execute_result"
    }
   ],
   "source": [
    "data.head()"
   ]
  },
  {
   "cell_type": "code",
   "execution_count": 30,
   "id": "aa7c2cb5",
   "metadata": {},
   "outputs": [
    {
     "data": {
      "text/plain": [
       "count    107295.000000\n",
       "mean        395.480777\n",
       "std         550.755810\n",
       "min       -5500.000000\n",
       "25%         100.000000\n",
       "50%         200.000000\n",
       "75%         500.000000\n",
       "max       15000.000000\n",
       "Name: range_price, dtype: float64"
      ]
     },
     "execution_count": 30,
     "metadata": {},
     "output_type": "execute_result"
    }
   ],
   "source": [
    "data['range_price'].describe()"
   ]
  },
  {
   "cell_type": "code",
   "execution_count": 31,
   "id": "e87ac1c2",
   "metadata": {},
   "outputs": [],
   "source": [
    "data=data[data['range_price']>0]"
   ]
  },
  {
   "cell_type": "code",
   "execution_count": 32,
   "id": "381aecb3",
   "metadata": {},
   "outputs": [
    {
     "data": {
      "text/plain": [
       "count    102077.000000\n",
       "mean        417.512907\n",
       "std         551.954698\n",
       "min           1.000000\n",
       "25%         100.000000\n",
       "50%         200.000000\n",
       "75%         500.000000\n",
       "max       15000.000000\n",
       "Name: range_price, dtype: float64"
      ]
     },
     "execution_count": 32,
     "metadata": {},
     "output_type": "execute_result"
    }
   ],
   "source": [
    "data['range_price'].describe()"
   ]
  },
  {
   "cell_type": "code",
   "execution_count": 33,
   "id": "4fd06d09",
   "metadata": {},
   "outputs": [
    {
     "data": {
      "text/plain": [
       "state            102077\n",
       "district         102077\n",
       "market           102077\n",
       "variety          102077\n",
       "arrival_date     102077\n",
       "min_price        102077\n",
       "max_price        102077\n",
       "modal_price      102077\n",
       "key              102077\n",
       "arrival_dateA    102077\n",
       "varietyA         102077\n",
       "range_price      102077\n",
       "dtype: int64"
      ]
     },
     "execution_count": 33,
     "metadata": {},
     "output_type": "execute_result"
    }
   ],
   "source": [
    "data.count()"
   ]
  },
  {
   "cell_type": "code",
   "execution_count": 34,
   "id": "9323fe06",
   "metadata": {},
   "outputs": [
    {
     "data": {
      "text/html": [
       "<div>\n",
       "<style scoped>\n",
       "    .dataframe tbody tr th:only-of-type {\n",
       "        vertical-align: middle;\n",
       "    }\n",
       "\n",
       "    .dataframe tbody tr th {\n",
       "        vertical-align: top;\n",
       "    }\n",
       "\n",
       "    .dataframe thead th {\n",
       "        text-align: right;\n",
       "    }\n",
       "</style>\n",
       "<table border=\"1\" class=\"dataframe\">\n",
       "  <thead>\n",
       "    <tr style=\"text-align: right;\">\n",
       "      <th></th>\n",
       "      <th>state</th>\n",
       "      <th>district</th>\n",
       "      <th>market</th>\n",
       "      <th>variety</th>\n",
       "      <th>arrival_date</th>\n",
       "      <th>min_price</th>\n",
       "      <th>max_price</th>\n",
       "      <th>modal_price</th>\n",
       "      <th>key</th>\n",
       "      <th>arrival_dateA</th>\n",
       "      <th>varietyA</th>\n",
       "      <th>range_price</th>\n",
       "    </tr>\n",
       "  </thead>\n",
       "  <tbody>\n",
       "    <tr>\n",
       "      <th>0</th>\n",
       "      <td>Andhra Pradesh</td>\n",
       "      <td>Kurnool</td>\n",
       "      <td>Kurnool</td>\n",
       "      <td>Local</td>\n",
       "      <td>2020-03-01</td>\n",
       "      <td>1350</td>\n",
       "      <td>4390</td>\n",
       "      <td>3100</td>\n",
       "      <td>Andhra PradeshKurnoolKurnoolLocal03/01/2020</td>\n",
       "      <td>737485</td>\n",
       "      <td>5</td>\n",
       "      <td>3040</td>\n",
       "    </tr>\n",
       "    <tr>\n",
       "      <th>1</th>\n",
       "      <td>Andhra Pradesh</td>\n",
       "      <td>Kurnool</td>\n",
       "      <td>Kurnool</td>\n",
       "      <td>Local</td>\n",
       "      <td>2020-04-01</td>\n",
       "      <td>1390</td>\n",
       "      <td>4400</td>\n",
       "      <td>3200</td>\n",
       "      <td>Andhra PradeshKurnoolKurnoolLocal04/01/2020</td>\n",
       "      <td>737516</td>\n",
       "      <td>5</td>\n",
       "      <td>3010</td>\n",
       "    </tr>\n",
       "    <tr>\n",
       "      <th>2</th>\n",
       "      <td>Andhra Pradesh</td>\n",
       "      <td>Kurnool</td>\n",
       "      <td>Kurnool</td>\n",
       "      <td>Local</td>\n",
       "      <td>2020-06-01</td>\n",
       "      <td>1460</td>\n",
       "      <td>5150</td>\n",
       "      <td>4310</td>\n",
       "      <td>Andhra PradeshKurnoolKurnoolLocal06/01/2020</td>\n",
       "      <td>737577</td>\n",
       "      <td>5</td>\n",
       "      <td>3690</td>\n",
       "    </tr>\n",
       "    <tr>\n",
       "      <th>3</th>\n",
       "      <td>Andhra Pradesh</td>\n",
       "      <td>Kurnool</td>\n",
       "      <td>Kurnool</td>\n",
       "      <td>Local</td>\n",
       "      <td>2020-07-01</td>\n",
       "      <td>2010</td>\n",
       "      <td>5200</td>\n",
       "      <td>4200</td>\n",
       "      <td>Andhra PradeshKurnoolKurnoolLocal07/01/2020</td>\n",
       "      <td>737607</td>\n",
       "      <td>5</td>\n",
       "      <td>3190</td>\n",
       "    </tr>\n",
       "    <tr>\n",
       "      <th>4</th>\n",
       "      <td>Andhra Pradesh</td>\n",
       "      <td>Kurnool</td>\n",
       "      <td>Kurnool</td>\n",
       "      <td>Local</td>\n",
       "      <td>2020-10-01</td>\n",
       "      <td>1320</td>\n",
       "      <td>4050</td>\n",
       "      <td>3300</td>\n",
       "      <td>Andhra PradeshKurnoolKurnoolLocal10/01/2020</td>\n",
       "      <td>737699</td>\n",
       "      <td>5</td>\n",
       "      <td>2730</td>\n",
       "    </tr>\n",
       "  </tbody>\n",
       "</table>\n",
       "</div>"
      ],
      "text/plain": [
       "            state district   market variety arrival_date  min_price  \\\n",
       "0  Andhra Pradesh  Kurnool  Kurnool   Local   2020-03-01       1350   \n",
       "1  Andhra Pradesh  Kurnool  Kurnool   Local   2020-04-01       1390   \n",
       "2  Andhra Pradesh  Kurnool  Kurnool   Local   2020-06-01       1460   \n",
       "3  Andhra Pradesh  Kurnool  Kurnool   Local   2020-07-01       2010   \n",
       "4  Andhra Pradesh  Kurnool  Kurnool   Local   2020-10-01       1320   \n",
       "\n",
       "   max_price  modal_price                                          key  \\\n",
       "0       4390         3100  Andhra PradeshKurnoolKurnoolLocal03/01/2020   \n",
       "1       4400         3200  Andhra PradeshKurnoolKurnoolLocal04/01/2020   \n",
       "2       5150         4310  Andhra PradeshKurnoolKurnoolLocal06/01/2020   \n",
       "3       5200         4200  Andhra PradeshKurnoolKurnoolLocal07/01/2020   \n",
       "4       4050         3300  Andhra PradeshKurnoolKurnoolLocal10/01/2020   \n",
       "\n",
       "   arrival_dateA  varietyA  range_price  \n",
       "0         737485         5         3040  \n",
       "1         737516         5         3010  \n",
       "2         737577         5         3690  \n",
       "3         737607         5         3190  \n",
       "4         737699         5         2730  "
      ]
     },
     "execution_count": 34,
     "metadata": {},
     "output_type": "execute_result"
    }
   ],
   "source": [
    "data.head()"
   ]
  },
  {
   "cell_type": "code",
   "execution_count": 35,
   "id": "c3d4e35d",
   "metadata": {},
   "outputs": [
    {
     "data": {
      "text/plain": [
       "state                    object\n",
       "district                 object\n",
       "market                   object\n",
       "variety                  object\n",
       "arrival_date     datetime64[ns]\n",
       "min_price                 int64\n",
       "max_price                 int64\n",
       "modal_price               int64\n",
       "key                      object\n",
       "arrival_dateA             int64\n",
       "varietyA                   int8\n",
       "range_price               int64\n",
       "dtype: object"
      ]
     },
     "execution_count": 35,
     "metadata": {},
     "output_type": "execute_result"
    }
   ],
   "source": [
    "data.dtypes"
   ]
  },
  {
   "cell_type": "code",
   "execution_count": 36,
   "id": "227c7022",
   "metadata": {},
   "outputs": [],
   "source": [
    "# Removing the variable range_price\n",
    "\n",
    "#data=data.drop(columns=['range_price'])"
   ]
  },
  {
   "cell_type": "markdown",
   "id": "2f25e081",
   "metadata": {},
   "source": [
    "### Univariate analysis"
   ]
  },
  {
   "cell_type": "code",
   "execution_count": 37,
   "id": "0e7137f8",
   "metadata": {},
   "outputs": [
    {
     "name": "stderr",
     "output_type": "stream",
     "text": [
      "/Users/plutobot/opt/anaconda3/lib/python3.8/site-packages/seaborn/distributions.py:2557: FutureWarning: `distplot` is a deprecated function and will be removed in a future version. Please adapt your code to use either `displot` (a figure-level function with similar flexibility) or `histplot` (an axes-level function for histograms).\n",
      "  warnings.warn(msg, FutureWarning)\n"
     ]
    },
    {
     "data": {
      "text/plain": [
       "<AxesSubplot:xlabel='min_price', ylabel='Density'>"
      ]
     },
     "execution_count": 37,
     "metadata": {},
     "output_type": "execute_result"
    },
    {
     "data": {
      "image/png": "[encoded data removed]",
      "text/plain": [
       "<Figure size 432x288 with 1 Axes>"
      ]
     },
     "metadata": {
      "needs_background": "light"
     },
     "output_type": "display_data"
    }
   ],
   "source": [
    "# Checking the distributions of numeric variables\n",
    "\n",
    "sns.distplot(data['min_price'])"
   ]
  },
  {
   "cell_type": "code",
   "execution_count": 38,
   "id": "b36c4949",
   "metadata": {},
   "outputs": [
    {
     "data": {
      "text/plain": [
       "count    102077.000000\n",
       "mean       1881.541767\n",
       "std        1454.707985\n",
       "min           0.000000\n",
       "25%        1000.000000\n",
       "50%        1400.000000\n",
       "75%        2360.000000\n",
       "max       18000.000000\n",
       "Name: min_price, dtype: float64"
      ]
     },
     "execution_count": 38,
     "metadata": {},
     "output_type": "execute_result"
    }
   ],
   "source": [
    "data['min_price'].describe()"
   ]
  },
  {
   "cell_type": "code",
   "execution_count": 39,
   "id": "884013df",
   "metadata": {},
   "outputs": [
    {
     "name": "stderr",
     "output_type": "stream",
     "text": [
      "/Users/plutobot/opt/anaconda3/lib/python3.8/site-packages/seaborn/distributions.py:2557: FutureWarning: `distplot` is a deprecated function and will be removed in a future version. Please adapt your code to use either `displot` (a figure-level function with similar flexibility) or `histplot` (an axes-level function for histograms).\n",
      "  warnings.warn(msg, FutureWarning)\n"
     ]
    },
    {
     "data": {
      "text/plain": [
       "<AxesSubplot:xlabel='max_price', ylabel='Density'>"
      ]
     },
     "execution_count": 39,
     "metadata": {},
     "output_type": "execute_result"
    },
    {
     "data": {
      "image/png": "[encoded data removed]",
      "text/plain": [
       "<Figure size 432x288 with 1 Axes>"
      ]
     },
     "metadata": {
      "needs_background": "light"
     },
     "output_type": "display_data"
    }
   ],
   "source": [
    "sns.distplot(data['max_price'],color='Green')"
   ]
  },
  {
   "cell_type": "code",
   "execution_count": 40,
   "id": "5c1da352",
   "metadata": {},
   "outputs": [
    {
     "data": {
      "text/plain": [
       "count    102077.000000\n",
       "mean       2299.054674\n",
       "std        1566.150265\n",
       "min          54.000000\n",
       "25%        1240.000000\n",
       "50%        1800.000000\n",
       "75%        2800.000000\n",
       "max       25000.000000\n",
       "Name: max_price, dtype: float64"
      ]
     },
     "execution_count": 40,
     "metadata": {},
     "output_type": "execute_result"
    }
   ],
   "source": [
    "data['max_price'].describe()"
   ]
  },
  {
   "cell_type": "code",
   "execution_count": 41,
   "id": "a4c6cd57",
   "metadata": {},
   "outputs": [
    {
     "name": "stderr",
     "output_type": "stream",
     "text": [
      "/Users/plutobot/opt/anaconda3/lib/python3.8/site-packages/seaborn/distributions.py:2557: FutureWarning: `distplot` is a deprecated function and will be removed in a future version. Please adapt your code to use either `displot` (a figure-level function with similar flexibility) or `histplot` (an axes-level function for histograms).\n",
      "  warnings.warn(msg, FutureWarning)\n"
     ]
    },
    {
     "data": {
      "text/plain": [
       "<AxesSubplot:xlabel='range_price', ylabel='Density'>"
      ]
     },
     "execution_count": 41,
     "metadata": {},
     "output_type": "execute_result"
    },
    {
     "data": {
      "image/png": "[encoded data removed]",
      "text/plain": [
       "<Figure size 432x288 with 1 Axes>"
      ]
     },
     "metadata": {
      "needs_background": "light"
     },
     "output_type": "display_data"
    }
   ],
   "source": [
    "sns.distplot(data['range_price'],color='Purple')"
   ]
  },
  {
   "cell_type": "code",
   "execution_count": 42,
   "id": "516451aa",
   "metadata": {},
   "outputs": [
    {
     "data": {
      "text/plain": [
       "count    102077.000000\n",
       "mean        417.512907\n",
       "std         551.954698\n",
       "min           1.000000\n",
       "25%         100.000000\n",
       "50%         200.000000\n",
       "75%         500.000000\n",
       "max       15000.000000\n",
       "Name: range_price, dtype: float64"
      ]
     },
     "execution_count": 42,
     "metadata": {},
     "output_type": "execute_result"
    }
   ],
   "source": [
    "data['range_price'].describe()"
   ]
  },
  {
   "cell_type": "code",
   "execution_count": 43,
   "id": "ad3cd4cf",
   "metadata": {},
   "outputs": [
    {
     "name": "stderr",
     "output_type": "stream",
     "text": [
      "/Users/plutobot/opt/anaconda3/lib/python3.8/site-packages/seaborn/distributions.py:2557: FutureWarning: `distplot` is a deprecated function and will be removed in a future version. Please adapt your code to use either `displot` (a figure-level function with similar flexibility) or `histplot` (an axes-level function for histograms).\n",
      "  warnings.warn(msg, FutureWarning)\n"
     ]
    },
    {
     "data": {
      "text/plain": [
       "<AxesSubplot:xlabel='varietyA', ylabel='Density'>"
      ]
     },
     "execution_count": 43,
     "metadata": {},
     "output_type": "execute_result"
    },
    {
     "data": {
      "image/png": "[encoded data removed]",
      "text/plain": [
       "<Figure size 432x288 with 1 Axes>"
      ]
     },
     "metadata": {
      "needs_background": "light"
     },
     "output_type": "display_data"
    }
   ],
   "source": [
    "sns.distplot(data['varietyA'],color='Orange')"
   ]
  },
  {
   "cell_type": "code",
   "execution_count": 44,
   "id": "362031d3",
   "metadata": {},
   "outputs": [
    {
     "name": "stderr",
     "output_type": "stream",
     "text": [
      "/Users/plutobot/opt/anaconda3/lib/python3.8/site-packages/seaborn/distributions.py:2557: FutureWarning: `distplot` is a deprecated function and will be removed in a future version. Please adapt your code to use either `displot` (a figure-level function with similar flexibility) or `histplot` (an axes-level function for histograms).\n",
      "  warnings.warn(msg, FutureWarning)\n"
     ]
    },
    {
     "data": {
      "text/plain": [
       "<AxesSubplot:xlabel='arrival_dateA', ylabel='Density'>"
      ]
     },
     "execution_count": 44,
     "metadata": {},
     "output_type": "execute_result"
    },
    {
     "data": {
      "image/png": "[encoded data removed]",
      "text/plain": [
       "<Figure size 432x288 with 1 Axes>"
      ]
     },
     "metadata": {
      "needs_background": "light"
     },
     "output_type": "display_data"
    }
   ],
   "source": [
    "sns.distplot(data['arrival_dateA'],color='Black')"
   ]
  },
  {
   "cell_type": "code",
   "execution_count": 45,
   "id": "634f2697",
   "metadata": {},
   "outputs": [
    {
     "name": "stderr",
     "output_type": "stream",
     "text": [
      "/Users/plutobot/opt/anaconda3/lib/python3.8/site-packages/seaborn/distributions.py:2557: FutureWarning: `distplot` is a deprecated function and will be removed in a future version. Please adapt your code to use either `displot` (a figure-level function with similar flexibility) or `histplot` (an axes-level function for histograms).\n",
      "  warnings.warn(msg, FutureWarning)\n"
     ]
    },
    {
     "data": {
      "text/plain": [
       "<AxesSubplot:xlabel='modal_price', ylabel='Density'>"
      ]
     },
     "execution_count": 45,
     "metadata": {},
     "output_type": "execute_result"
    },
    {
     "data": {
      "image/png": "[encoded data removed]",
      "text/plain": [
       "<Figure size 432x288 with 1 Axes>"
      ]
     },
     "metadata": {
      "needs_background": "light"
     },
     "output_type": "display_data"
    }
   ],
   "source": [
    "sns.distplot(data['modal_price'],color='Red')"
   ]
  },
  {
   "cell_type": "code",
   "execution_count": 46,
   "id": "8a864376",
   "metadata": {},
   "outputs": [
    {
     "data": {
      "text/plain": [
       "count    102077.000000\n",
       "mean       2105.465639\n",
       "std        1491.585627\n",
       "min          20.000000\n",
       "25%        1150.000000\n",
       "50%        1600.000000\n",
       "75%        2550.000000\n",
       "max       22000.000000\n",
       "Name: modal_price, dtype: float64"
      ]
     },
     "execution_count": 46,
     "metadata": {},
     "output_type": "execute_result"
    }
   ],
   "source": [
    "data['modal_price'].describe()"
   ]
  },
  {
   "cell_type": "markdown",
   "id": "c29e748b",
   "metadata": {},
   "source": [
    "### Bivariate Analysis"
   ]
  },
  {
   "cell_type": "code",
   "execution_count": 47,
   "id": "8c72a44b",
   "metadata": {},
   "outputs": [
    {
     "name": "stdout",
     "output_type": "stream",
     "text": [
      "Pearson Result for min_price: (0.9743606928330126, 0.0)\n",
      "Spearman Result for min_price: SpearmanrResult(correlation=0.9327239485109586, pvalue=0.0)\n"
     ]
    }
   ],
   "source": [
    "#Correlation Analysis of min_price with modal price\n",
    "\n",
    "\n",
    "MinPr= pearsonr(data['min_price'],data['modal_price'])\n",
    "MinSr= spearmanr(data['min_price'],data['modal_price'])\n",
    "print (\"Pearson Result for min_price:\", MinPr)\n",
    "print (\"Spearman Result for min_price:\", MinSr)"
   ]
  },
  {
   "cell_type": "code",
   "execution_count": 48,
   "id": "8c109bfc",
   "metadata": {},
   "outputs": [
    {
     "name": "stderr",
     "output_type": "stream",
     "text": [
      "/Users/plutobot/opt/anaconda3/lib/python3.8/site-packages/seaborn/_decorators.py:36: FutureWarning: Pass the following variables as keyword args: x, y. From version 0.12, the only valid positional argument will be `data`, and passing other arguments without an explicit keyword will result in an error or misinterpretation.\n",
      "  warnings.warn(\n"
     ]
    },
    {
     "data": {
      "text/plain": [
       "<AxesSubplot:xlabel='min_price', ylabel='modal_price'>"
      ]
     },
     "execution_count": 48,
     "metadata": {},
     "output_type": "execute_result"
    },
    {
     "data": {
      "image/png": "[encoded data removed]",
      "text/plain": [
       "<Figure size 432x288 with 1 Axes>"
      ]
     },
     "metadata": {
      "needs_background": "light"
     },
     "output_type": "display_data"
    }
   ],
   "source": [
    "# scatter plot min_price and modal_price - Shows a strong positive correlation with few outliers\n",
    "sns.scatterplot(data['min_price'],data['modal_price'])"
   ]
  },
  {
   "cell_type": "code",
   "execution_count": 49,
   "id": "68d8fa96",
   "metadata": {},
   "outputs": [
    {
     "name": "stdout",
     "output_type": "stream",
     "text": [
      "Pearson Result for max_price: (0.9849256653500625, 0.0)\n",
      "Spearman Result for max_price: SpearmanrResult(correlation=0.9790906402006447, pvalue=0.0)\n"
     ]
    }
   ],
   "source": [
    "#Correlation Analysis of max_price with modal price\n",
    "\n",
    "\n",
    "MaxPr= pearsonr(data['max_price'],data['modal_price'])\n",
    "MaxSr= spearmanr(data['max_price'],data['modal_price'])\n",
    "print (\"Pearson Result for max_price:\", MaxPr)\n",
    "print (\"Spearman Result for max_price:\", MaxSr)"
   ]
  },
  {
   "cell_type": "code",
   "execution_count": 50,
   "id": "7e6c743c",
   "metadata": {},
   "outputs": [
    {
     "name": "stderr",
     "output_type": "stream",
     "text": [
      "/Users/plutobot/opt/anaconda3/lib/python3.8/site-packages/seaborn/_decorators.py:36: FutureWarning: Pass the following variables as keyword args: x, y. From version 0.12, the only valid positional argument will be `data`, and passing other arguments without an explicit keyword will result in an error or misinterpretation.\n",
      "  warnings.warn(\n"
     ]
    },
    {
     "data": {
      "text/plain": [
       "<AxesSubplot:xlabel='max_price', ylabel='modal_price'>"
      ]
     },
     "execution_count": 50,
     "metadata": {},
     "output_type": "execute_result"
    },
    {
     "data": {
      "image/png": "[encoded data removed]",
      "text/plain": [
       "<Figure size 432x288 with 1 Axes>"
      ]
     },
     "metadata": {
      "needs_background": "light"
     },
     "output_type": "display_data"
    }
   ],
   "source": [
    "# scatter plot max_price and modal_price - Shows a strong positive correlation with few outliers\n",
    "sns.scatterplot(data['max_price'],data['modal_price'],color='Green')"
   ]
  },
  {
   "cell_type": "code",
   "execution_count": 51,
   "id": "af08f62e",
   "metadata": {},
   "outputs": [
    {
     "name": "stdout",
     "output_type": "stream",
     "text": [
      "Pearson Result for range_price: (0.22670576425092334, 0.0)\n",
      "Spearman Result for range_price: SpearmanrResult(correlation=0.2224174079117636, pvalue=0.0)\n"
     ]
    }
   ],
   "source": [
    "#Correlation Analysis of range_price with modal price\n",
    "\n",
    "\n",
    "rangePr= pearsonr(data['range_price'],data['modal_price'])\n",
    "rangeSr= spearmanr(data['range_price'],data['modal_price'])\n",
    "print (\"Pearson Result for range_price:\", rangePr)\n",
    "print (\"Spearman Result for range_price:\", rangeSr)"
   ]
  },
  {
   "cell_type": "code",
   "execution_count": 52,
   "id": "d68acc8d",
   "metadata": {},
   "outputs": [
    {
     "name": "stderr",
     "output_type": "stream",
     "text": [
      "/Users/plutobot/opt/anaconda3/lib/python3.8/site-packages/seaborn/_decorators.py:36: FutureWarning: Pass the following variables as keyword args: x, y. From version 0.12, the only valid positional argument will be `data`, and passing other arguments without an explicit keyword will result in an error or misinterpretation.\n",
      "  warnings.warn(\n"
     ]
    },
    {
     "data": {
      "text/plain": [
       "<AxesSubplot:xlabel='range_price', ylabel='modal_price'>"
      ]
     },
     "execution_count": 52,
     "metadata": {},
     "output_type": "execute_result"
    },
    {
     "data": {
      "image/png": "[encoded data removed]",
      "text/plain": [
       "<Figure size 432x288 with 1 Axes>"
      ]
     },
     "metadata": {
      "needs_background": "light"
     },
     "output_type": "display_data"
    }
   ],
   "source": [
    "# scatter plot max_price and modal_price - Shows a strong positive correlation with few outliers\n",
    "sns.scatterplot(data['range_price'],data['modal_price'],color='Purple')"
   ]
  },
  {
   "cell_type": "code",
   "execution_count": 53,
   "id": "5aced294",
   "metadata": {},
   "outputs": [
    {
     "name": "stdout",
     "output_type": "stream",
     "text": [
      "Pearson Result for arrival_dateA: (-0.2680849015077396, 0.0)\n",
      "Spearman Result for arrival_dateA: SpearmanrResult(correlation=-0.32287360555136974, pvalue=0.0)\n"
     ]
    }
   ],
   "source": [
    "#Correlation Analysis of arrival_dateA with modal price\n",
    "\n",
    "\n",
    "adatePr= pearsonr(data['arrival_dateA'],data['modal_price'])\n",
    "adateSr= spearmanr(data['arrival_dateA'],data['modal_price'])\n",
    "print (\"Pearson Result for arrival_dateA:\", adatePr)\n",
    "print (\"Spearman Result for arrival_dateA:\", adateSr)"
   ]
  },
  {
   "cell_type": "code",
   "execution_count": 54,
   "id": "99621a40",
   "metadata": {},
   "outputs": [
    {
     "name": "stderr",
     "output_type": "stream",
     "text": [
      "/Users/plutobot/opt/anaconda3/lib/python3.8/site-packages/seaborn/_decorators.py:36: FutureWarning: Pass the following variables as keyword args: x, y. From version 0.12, the only valid positional argument will be `data`, and passing other arguments without an explicit keyword will result in an error or misinterpretation.\n",
      "  warnings.warn(\n"
     ]
    },
    {
     "data": {
      "text/plain": [
       "<AxesSubplot:xlabel='arrival_dateA', ylabel='modal_price'>"
      ]
     },
     "execution_count": 54,
     "metadata": {},
     "output_type": "execute_result"
    },
    {
     "data": {
      "image/png": "[encoded data removed]",
      "text/plain": [
       "<Figure size 432x288 with 1 Axes>"
      ]
     },
     "metadata": {
      "needs_background": "light"
     },
     "output_type": "display_data"
    }
   ],
   "source": [
    "# scatter plot arrival_dateA and modal_price - p value is 0.\n",
    "sns.scatterplot(data['arrival_dateA'],data['modal_price'],color='Indigo')"
   ]
  },
  {
   "cell_type": "code",
   "execution_count": 55,
   "id": "a52af609",
   "metadata": {},
   "outputs": [
    {
     "data": {
      "text/plain": [
       "state                    object\n",
       "district                 object\n",
       "market                   object\n",
       "variety                  object\n",
       "arrival_date     datetime64[ns]\n",
       "min_price                 int64\n",
       "max_price                 int64\n",
       "modal_price               int64\n",
       "key                      object\n",
       "arrival_dateA             int64\n",
       "varietyA                   int8\n",
       "range_price               int64\n",
       "dtype: object"
      ]
     },
     "execution_count": 55,
     "metadata": {},
     "output_type": "execute_result"
    }
   ],
   "source": [
    "data.dtypes"
   ]
  },
  {
   "cell_type": "code",
   "execution_count": 56,
   "id": "4cf90d6d",
   "metadata": {},
   "outputs": [],
   "source": [
    "# Rearranging data to facilitate chi-square test between varietyA and modal_price\n",
    "\n",
    "chvarA=(data.pivot_table(index=['key'],columns='varietyA',values='modal_price').reset_index()).fillna(0.001)\n",
    "chvarA=chvarA.reset_index()\n",
    "chvarA=chvarA.drop(columns=['key'])"
   ]
  },
  {
   "cell_type": "code",
   "execution_count": 57,
   "id": "3b292fea",
   "metadata": {},
   "outputs": [
    {
     "data": {
      "text/plain": [
       "102077"
      ]
     },
     "execution_count": 57,
     "metadata": {},
     "output_type": "execute_result"
    }
   ],
   "source": [
    "len(chvarA)"
   ]
  },
  {
   "cell_type": "code",
   "execution_count": 58,
   "id": "50357cfa",
   "metadata": {},
   "outputs": [
    {
     "name": "stdout",
     "output_type": "stream",
     "text": [
      "P-value for chisquare result using variety= 0.0\n"
     ]
    }
   ],
   "source": [
    "chi2, p, dof, ex = chi2_contingency(chvarA, correction=False)\n",
    "print (\"P-value for chisquare result using variety=\",p)\n",
    "\n",
    "# because p value is 0 , this variable will be included in the model."
   ]
  },
  {
   "cell_type": "code",
   "execution_count": 59,
   "id": "df15dbd3",
   "metadata": {},
   "outputs": [
    {
     "data": {
      "text/plain": [
       "state            102077\n",
       "district         102077\n",
       "market           102077\n",
       "variety          102077\n",
       "arrival_date     102077\n",
       "min_price        102077\n",
       "max_price        102077\n",
       "modal_price      102077\n",
       "key              102077\n",
       "arrival_dateA    102077\n",
       "varietyA         102077\n",
       "range_price      102077\n",
       "dtype: int64"
      ]
     },
     "execution_count": 59,
     "metadata": {},
     "output_type": "execute_result"
    }
   ],
   "source": [
    "data.count()"
   ]
  },
  {
   "cell_type": "code",
   "execution_count": 60,
   "id": "7cb4b26d",
   "metadata": {},
   "outputs": [
    {
     "data": {
      "text/plain": [
       "<seaborn.axisgrid.FacetGrid at 0x12170dfd0>"
      ]
     },
     "execution_count": 60,
     "metadata": {},
     "output_type": "execute_result"
    },
    {
     "data": {
      "image/png": "[encoded data removed]",
      "text/plain": [
       "<Figure size 360x360 with 1 Axes>"
      ]
     },
     "metadata": {
      "needs_background": "light"
     },
     "output_type": "display_data"
    }
   ],
   "source": [
    "# This shows how modal_price is spread across varieties. Using varietyA instead of variety because it is crumbled\n",
    "sns.catplot(x=data['varietyA'], y=data['modal_price'], kind='box',data=data)"
   ]
  },
  {
   "cell_type": "code",
   "execution_count": 61,
   "id": "922b692a",
   "metadata": {},
   "outputs": [
    {
     "data": {
      "text/plain": [
       "state                    object\n",
       "district                 object\n",
       "market                   object\n",
       "variety                  object\n",
       "arrival_date     datetime64[ns]\n",
       "min_price                 int64\n",
       "max_price                 int64\n",
       "modal_price               int64\n",
       "key                      object\n",
       "arrival_dateA             int64\n",
       "varietyA                   int8\n",
       "range_price               int64\n",
       "dtype: object"
      ]
     },
     "execution_count": 61,
     "metadata": {},
     "output_type": "execute_result"
    }
   ],
   "source": [
    "data.dtypes"
   ]
  },
  {
   "cell_type": "markdown",
   "id": "97ca04c9",
   "metadata": {},
   "source": [
    "### Variable selection - \n",
    "\n",
    "This section is spilt into 2 parts. Calculating VIFs and also computing correlation for independent variables for 2 sets of variables. "
   ]
  },
  {
   "cell_type": "markdown",
   "id": "4106488e",
   "metadata": {},
   "source": [
    "#### Part 1"
   ]
  },
  {
   "cell_type": "code",
   "execution_count": 62,
   "id": "f8e413bb",
   "metadata": {},
   "outputs": [],
   "source": [
    "# dataset for vif\n",
    "\n",
    "datavif=data[['min_price','max_price','varietyA','arrival_dateA']]"
   ]
  },
  {
   "cell_type": "code",
   "execution_count": 63,
   "id": "6c5f7c03",
   "metadata": {},
   "outputs": [],
   "source": [
    "# Import library for VIF\n",
    "from statsmodels.stats.outliers_influence import variance_inflation_factor\n",
    "\n",
    "def calc_vif(X):\n",
    "\n",
    "    # Calculating VIF\n",
    "    vif = pd.DataFrame()\n",
    "    vif[\"variables\"] = X.columns\n",
    "    vif[\"VIF\"] = [variance_inflation_factor(X.values, i) for i in range(X.shape[1])]\n",
    "\n",
    "    return(vif)"
   ]
  },
  {
   "cell_type": "code",
   "execution_count": 64,
   "id": "3803ffeb",
   "metadata": {},
   "outputs": [
    {
     "data": {
      "text/html": [
       "<div>\n",
       "<style scoped>\n",
       "    .dataframe tbody tr th:only-of-type {\n",
       "        vertical-align: middle;\n",
       "    }\n",
       "\n",
       "    .dataframe tbody tr th {\n",
       "        vertical-align: top;\n",
       "    }\n",
       "\n",
       "    .dataframe thead th {\n",
       "        text-align: right;\n",
       "    }\n",
       "</style>\n",
       "<table border=\"1\" class=\"dataframe\">\n",
       "  <thead>\n",
       "    <tr style=\"text-align: right;\">\n",
       "      <th></th>\n",
       "      <th>variables</th>\n",
       "      <th>VIF</th>\n",
       "    </tr>\n",
       "  </thead>\n",
       "  <tbody>\n",
       "    <tr>\n",
       "      <th>0</th>\n",
       "      <td>min_price</td>\n",
       "      <td>21.936299</td>\n",
       "    </tr>\n",
       "    <tr>\n",
       "      <th>1</th>\n",
       "      <td>max_price</td>\n",
       "      <td>25.991819</td>\n",
       "    </tr>\n",
       "    <tr>\n",
       "      <th>2</th>\n",
       "      <td>varietyA</td>\n",
       "      <td>10.399404</td>\n",
       "    </tr>\n",
       "    <tr>\n",
       "      <th>3</th>\n",
       "      <td>arrival_dateA</td>\n",
       "      <td>13.364813</td>\n",
       "    </tr>\n",
       "  </tbody>\n",
       "</table>\n",
       "</div>"
      ],
      "text/plain": [
       "       variables        VIF\n",
       "0      min_price  21.936299\n",
       "1      max_price  25.991819\n",
       "2       varietyA  10.399404\n",
       "3  arrival_dateA  13.364813"
      ]
     },
     "execution_count": 64,
     "metadata": {},
     "output_type": "execute_result"
    }
   ],
   "source": [
    "calc_vif(datavif)\n",
    "\n",
    "# VIF is large so we are also looking at correlation analysis of independent variables"
   ]
  },
  {
   "cell_type": "code",
   "execution_count": 65,
   "id": "159e0014",
   "metadata": {},
   "outputs": [
    {
     "data": {
      "text/html": [
       "<div>\n",
       "<style scoped>\n",
       "    .dataframe tbody tr th:only-of-type {\n",
       "        vertical-align: middle;\n",
       "    }\n",
       "\n",
       "    .dataframe tbody tr th {\n",
       "        vertical-align: top;\n",
       "    }\n",
       "\n",
       "    .dataframe thead th {\n",
       "        text-align: right;\n",
       "    }\n",
       "</style>\n",
       "<table border=\"1\" class=\"dataframe\">\n",
       "  <thead>\n",
       "    <tr style=\"text-align: right;\">\n",
       "      <th></th>\n",
       "      <th>min_price</th>\n",
       "      <th>max_price</th>\n",
       "      <th>varietyA</th>\n",
       "      <th>arrival_dateA</th>\n",
       "    </tr>\n",
       "  </thead>\n",
       "  <tbody>\n",
       "    <tr>\n",
       "      <th>min_price</th>\n",
       "      <td>1.000000</td>\n",
       "      <td>0.935865</td>\n",
       "      <td>-0.011236</td>\n",
       "      <td>-0.247695</td>\n",
       "    </tr>\n",
       "    <tr>\n",
       "      <th>max_price</th>\n",
       "      <td>0.935865</td>\n",
       "      <td>1.000000</td>\n",
       "      <td>-0.063219</td>\n",
       "      <td>-0.273563</td>\n",
       "    </tr>\n",
       "    <tr>\n",
       "      <th>varietyA</th>\n",
       "      <td>-0.011236</td>\n",
       "      <td>-0.063219</td>\n",
       "      <td>1.000000</td>\n",
       "      <td>-0.015280</td>\n",
       "    </tr>\n",
       "    <tr>\n",
       "      <th>arrival_dateA</th>\n",
       "      <td>-0.247695</td>\n",
       "      <td>-0.273563</td>\n",
       "      <td>-0.015280</td>\n",
       "      <td>1.000000</td>\n",
       "    </tr>\n",
       "  </tbody>\n",
       "</table>\n",
       "</div>"
      ],
      "text/plain": [
       "               min_price  max_price  varietyA  arrival_dateA\n",
       "min_price       1.000000   0.935865 -0.011236      -0.247695\n",
       "max_price       0.935865   1.000000 -0.063219      -0.273563\n",
       "varietyA       -0.011236  -0.063219  1.000000      -0.015280\n",
       "arrival_dateA  -0.247695  -0.273563 -0.015280       1.000000"
      ]
     },
     "execution_count": 65,
     "metadata": {},
     "output_type": "execute_result"
    }
   ],
   "source": [
    "datavif.corr(method='pearson', min_periods=1)"
   ]
  },
  {
   "cell_type": "markdown",
   "id": "31c7b858",
   "metadata": {},
   "source": [
    "#### Part 2"
   ]
  },
  {
   "cell_type": "code",
   "execution_count": 66,
   "id": "710ff75d",
   "metadata": {},
   "outputs": [],
   "source": [
    "# dataset for vif\n",
    "\n",
    "datavif1=data[['range_price','varietyA','arrival_dateA']]"
   ]
  },
  {
   "cell_type": "code",
   "execution_count": 67,
   "id": "2dcc028f",
   "metadata": {},
   "outputs": [
    {
     "data": {
      "text/html": [
       "<div>\n",
       "<style scoped>\n",
       "    .dataframe tbody tr th:only-of-type {\n",
       "        vertical-align: middle;\n",
       "    }\n",
       "\n",
       "    .dataframe tbody tr th {\n",
       "        vertical-align: top;\n",
       "    }\n",
       "\n",
       "    .dataframe thead th {\n",
       "        text-align: right;\n",
       "    }\n",
       "</style>\n",
       "<table border=\"1\" class=\"dataframe\">\n",
       "  <thead>\n",
       "    <tr style=\"text-align: right;\">\n",
       "      <th></th>\n",
       "      <th>variables</th>\n",
       "      <th>VIF</th>\n",
       "    </tr>\n",
       "  </thead>\n",
       "  <tbody>\n",
       "    <tr>\n",
       "      <th>0</th>\n",
       "      <td>range_price</td>\n",
       "      <td>1.608200</td>\n",
       "    </tr>\n",
       "    <tr>\n",
       "      <th>1</th>\n",
       "      <td>varietyA</td>\n",
       "      <td>10.398696</td>\n",
       "    </tr>\n",
       "    <tr>\n",
       "      <th>2</th>\n",
       "      <td>arrival_dateA</td>\n",
       "      <td>11.662482</td>\n",
       "    </tr>\n",
       "  </tbody>\n",
       "</table>\n",
       "</div>"
      ],
      "text/plain": [
       "       variables        VIF\n",
       "0    range_price   1.608200\n",
       "1       varietyA  10.398696\n",
       "2  arrival_dateA  11.662482"
      ]
     },
     "execution_count": 67,
     "metadata": {},
     "output_type": "execute_result"
    }
   ],
   "source": [
    "# Calculating vif based on the function created above\n",
    "calc_vif(datavif1)"
   ]
  },
  {
   "cell_type": "code",
   "execution_count": 68,
   "id": "77ad6e8f",
   "metadata": {},
   "outputs": [
    {
     "data": {
      "text/html": [
       "<div>\n",
       "<style scoped>\n",
       "    .dataframe tbody tr th:only-of-type {\n",
       "        vertical-align: middle;\n",
       "    }\n",
       "\n",
       "    .dataframe tbody tr th {\n",
       "        vertical-align: top;\n",
       "    }\n",
       "\n",
       "    .dataframe thead th {\n",
       "        text-align: right;\n",
       "    }\n",
       "</style>\n",
       "<table border=\"1\" class=\"dataframe\">\n",
       "  <thead>\n",
       "    <tr style=\"text-align: right;\">\n",
       "      <th></th>\n",
       "      <th>range_price</th>\n",
       "      <th>varietyA</th>\n",
       "      <th>arrival_dateA</th>\n",
       "    </tr>\n",
       "  </thead>\n",
       "  <tbody>\n",
       "    <tr>\n",
       "      <th>range_price</th>\n",
       "      <td>1.000000</td>\n",
       "      <td>-0.14977</td>\n",
       "      <td>-0.123411</td>\n",
       "    </tr>\n",
       "    <tr>\n",
       "      <th>varietyA</th>\n",
       "      <td>-0.149770</td>\n",
       "      <td>1.00000</td>\n",
       "      <td>-0.015280</td>\n",
       "    </tr>\n",
       "    <tr>\n",
       "      <th>arrival_dateA</th>\n",
       "      <td>-0.123411</td>\n",
       "      <td>-0.01528</td>\n",
       "      <td>1.000000</td>\n",
       "    </tr>\n",
       "  </tbody>\n",
       "</table>\n",
       "</div>"
      ],
      "text/plain": [
       "               range_price  varietyA  arrival_dateA\n",
       "range_price       1.000000  -0.14977      -0.123411\n",
       "varietyA         -0.149770   1.00000      -0.015280\n",
       "arrival_dateA    -0.123411  -0.01528       1.000000"
      ]
     },
     "execution_count": 68,
     "metadata": {},
     "output_type": "execute_result"
    }
   ],
   "source": [
    "datavif1.corr(method='pearson', min_periods=1)\n"
   ]
  },
  {
   "cell_type": "markdown",
   "id": "99af62c6",
   "metadata": {},
   "source": [
    "Because min_price and max_price have good correlation and vif is > , I would try 2 models , 1 with min_price and max_price and the other with range_price.Whichever model performs better will be chosen. Because this is a toy project, cross-validation will be run only for the selected model and not both.In order for the model to get selected, I will be choosing the following algorithms -> Linear regression, Random Forest and XG boost"
   ]
  },
  {
   "cell_type": "markdown",
   "id": "8ef62ea7",
   "metadata": {},
   "source": [
    "### ML algorithms"
   ]
  },
  {
   "cell_type": "code",
   "execution_count": 69,
   "id": "886e100e",
   "metadata": {},
   "outputs": [],
   "source": [
    "# Splitting the dataset into train/test -> 80/20\n",
    "xfull=data[['key','arrival_dateA','min_price','max_price','varietyA']]\n",
    "yfull=data[['key','modal_price']]\n",
    "x=xfull[['arrival_dateA','min_price','max_price','varietyA']]\n",
    "y=yfull[['modal_price']]\n",
    "x_train,x_test,y_train,y_test=train_test_split(x,y,test_size=0.2,random_state=0)"
   ]
  },
  {
   "cell_type": "code",
   "execution_count": 70,
   "id": "7153f9b1",
   "metadata": {},
   "outputs": [],
   "source": [
    "trainmean=np.mean(x_train)\n",
    "trainstd=np.std(x_train)"
   ]
  },
  {
   "cell_type": "code",
   "execution_count": 71,
   "id": "f7856528",
   "metadata": {},
   "outputs": [],
   "source": [
    "# Performing feature scaling (normalization) on x_train and x_test\n",
    "\n",
    "x_train=(x_train-trainmean)/(trainstd)\n",
    "x_test=(x_test-trainmean)/(trainstd)"
   ]
  },
  {
   "cell_type": "markdown",
   "id": "4e62e257",
   "metadata": {},
   "source": [
    "### Linear Regression -> Model 1"
   ]
  },
  {
   "cell_type": "code",
   "execution_count": 72,
   "id": "6e5b14cc",
   "metadata": {},
   "outputs": [
    {
     "name": "stdout",
     "output_type": "stream",
     "text": [
      "Coefficient of determination using linear regression 99.30543335717617\n"
     ]
    }
   ],
   "source": [
    "model=LinearRegression().fit(x_train,y_train)\n",
    "LinearRegression(copy_X=True,fit_intercept=True,n_jobs=1,normalize=False)\n",
    "# Calculate the R2 value\n",
    "R_squared=model.score(x_test,y_test)*100\n",
    "print(\"Coefficient of determination using linear regression\", R_squared)"
   ]
  },
  {
   "cell_type": "markdown",
   "id": "e3cb06cc",
   "metadata": {},
   "source": [
    "### Linear Regression -> Model 2"
   ]
  },
  {
   "cell_type": "code",
   "execution_count": 73,
   "id": "8b9f6523",
   "metadata": {},
   "outputs": [
    {
     "name": "stdout",
     "output_type": "stream",
     "text": [
      "Coefficient of determination using linear regression 10.888808355720926\n"
     ]
    }
   ],
   "source": [
    "# Splitting the dataset into train/test -> 80/20\n",
    "xfull=data[['key','arrival_dateA','range_price','varietyA']]\n",
    "yfull=data[['key','modal_price']]\n",
    "xa=xfull[['arrival_dateA','range_price','varietyA']]\n",
    "ya=yfull[['modal_price']]\n",
    "x_train1,x_test1,y_train1,y_test1=train_test_split(xa,ya,test_size=0.2,random_state=0)\n",
    "modelA=LinearRegression().fit(x_train1,y_train1)\n",
    "LinearRegression(copy_X=True,fit_intercept=True,n_jobs=1,normalize=False)\n",
    "# Calculate the R2 value\n",
    "R_squared=modelA.score(x_test1,y_test1)*100\n",
    "print(\"Coefficient of determination using linear regression\", R_squared)\n"
   ]
  },
  {
   "cell_type": "markdown",
   "id": "6e9ebbed",
   "metadata": {},
   "source": [
    "#### Because the performance of the model 2 is bad r squred is 10% when we use range_price, this model is discarded. The other algorithms will be run using min_price and max_price"
   ]
  },
  {
   "cell_type": "markdown",
   "id": "a0f6bf9b",
   "metadata": {},
   "source": [
    "### XG Boost Regression"
   ]
  },
  {
   "cell_type": "code",
   "execution_count": 74,
   "id": "ec802fc4",
   "metadata": {},
   "outputs": [
    {
     "name": "stderr",
     "output_type": "stream",
     "text": [
      "/Users/plutobot/opt/anaconda3/lib/python3.8/site-packages/sklearn/utils/validation.py:63: DataConversionWarning: A column-vector y was passed when a 1d array was expected. Please change the shape of y to (n_samples, ), for example using ravel().\n",
      "  return f(*args, **kwargs)\n"
     ]
    },
    {
     "name": "stdout",
     "output_type": "stream",
     "text": [
      "Coefficient of determination using random forest regression 99.33944625414783\n"
     ]
    }
   ],
   "source": [
    "model2=GradientBoostingRegressor().fit(x_train,y_train)\n",
    "\n",
    "# Calculate the R2 value\n",
    "R_squared=model2.score(x_test,y_test)*100\n",
    "print(\"Coefficient of determination using random forest regression\", R_squared)"
   ]
  },
  {
   "cell_type": "markdown",
   "id": "f65024b7",
   "metadata": {},
   "source": [
    "### Random Forest Regression"
   ]
  },
  {
   "cell_type": "code",
   "execution_count": 75,
   "id": "aab35e79",
   "metadata": {},
   "outputs": [
    {
     "name": "stderr",
     "output_type": "stream",
     "text": [
      "<ipython-input-75-7c0988dfd863>:1: DataConversionWarning: A column-vector y was passed when a 1d array was expected. Please change the shape of y to (n_samples,), for example using ravel().\n",
      "  model1=RandomForestRegressor().fit(x_train,y_train)\n"
     ]
    }
   ],
   "source": [
    "model1=RandomForestRegressor().fit(x_train,y_train)"
   ]
  },
  {
   "cell_type": "code",
   "execution_count": 76,
   "id": "6d887c6f",
   "metadata": {},
   "outputs": [
    {
     "name": "stdout",
     "output_type": "stream",
     "text": [
      "Coefficient of determination using random forest regression 99.36721707778804\n"
     ]
    }
   ],
   "source": [
    "# Calculate the R2 value\n",
    "R_squared=model1.score(x_test,y_test)*100\n",
    "print(\"Coefficient of determination using random forest regression\", R_squared)"
   ]
  },
  {
   "cell_type": "code",
   "execution_count": 77,
   "id": "6e771b62",
   "metadata": {},
   "outputs": [
    {
     "data": {
      "text/plain": [
       "Text(0, 0.5, 'Predicted Y')"
      ]
     },
     "execution_count": 77,
     "metadata": {},
     "output_type": "execute_result"
    },
    {
     "data": {
      "image/png": "[encoded data removed]",
      "text/plain": [
       "<Figure size 432x288 with 1 Axes>"
      ]
     },
     "metadata": {
      "needs_background": "light"
     },
     "output_type": "display_data"
    }
   ],
   "source": [
    "# Predicting the y_test values and comparing the actual vs predicted. \n",
    "# Because random forest has a better accuracy score, prediting the results only for this model as a part of toy project\n",
    "y_pred=model1.predict(x_test)  \n",
    "y_pred=pd.DataFrame(y_pred)\n",
    "y_pred.columns=['predicted_modal_price']\n",
    "plt.scatter(x = y_test, y =y_pred,color='indigo')\n",
    "plt.xlabel('Y Test')\n",
    "plt.ylabel('Predicted Y')\n"
   ]
  },
  {
   "cell_type": "markdown",
   "id": "901ba1f0",
   "metadata": {},
   "source": [
    "### Cross-validation using Random Forest Regressor\n"
   ]
  },
  {
   "cell_type": "code",
   "execution_count": 78,
   "id": "63a6f6ae",
   "metadata": {},
   "outputs": [],
   "source": [
    "# evaluating the algorithm and specify the k-size\n",
    "num_folds=10\n",
    "\n",
    "# Fixing the random seed- must use the same seed value so that the subsets can be obtained\n",
    "\n",
    "seed =7\n",
    "\n",
    "# Split the whole data set into folds\n",
    "kfold=KFold(n_splits=num_folds)"
   ]
  },
  {
   "cell_type": "code",
   "execution_count": 79,
   "id": "bfa5dbed",
   "metadata": {},
   "outputs": [
    {
     "name": "stderr",
     "output_type": "stream",
     "text": [
      "/Users/plutobot/opt/anaconda3/lib/python3.8/site-packages/sklearn/model_selection/_validation.py:593: DataConversionWarning: A column-vector y was passed when a 1d array was expected. Please change the shape of y to (n_samples,), for example using ravel().\n",
      "  estimator.fit(X_train, y_train, **fit_params)\n",
      "/Users/plutobot/opt/anaconda3/lib/python3.8/site-packages/sklearn/model_selection/_validation.py:593: DataConversionWarning: A column-vector y was passed when a 1d array was expected. Please change the shape of y to (n_samples,), for example using ravel().\n",
      "  estimator.fit(X_train, y_train, **fit_params)\n",
      "/Users/plutobot/opt/anaconda3/lib/python3.8/site-packages/sklearn/model_selection/_validation.py:593: DataConversionWarning: A column-vector y was passed when a 1d array was expected. Please change the shape of y to (n_samples,), for example using ravel().\n",
      "  estimator.fit(X_train, y_train, **fit_params)\n",
      "/Users/plutobot/opt/anaconda3/lib/python3.8/site-packages/sklearn/model_selection/_validation.py:593: DataConversionWarning: A column-vector y was passed when a 1d array was expected. Please change the shape of y to (n_samples,), for example using ravel().\n",
      "  estimator.fit(X_train, y_train, **fit_params)\n",
      "/Users/plutobot/opt/anaconda3/lib/python3.8/site-packages/sklearn/model_selection/_validation.py:593: DataConversionWarning: A column-vector y was passed when a 1d array was expected. Please change the shape of y to (n_samples,), for example using ravel().\n",
      "  estimator.fit(X_train, y_train, **fit_params)\n",
      "/Users/plutobot/opt/anaconda3/lib/python3.8/site-packages/sklearn/model_selection/_validation.py:593: DataConversionWarning: A column-vector y was passed when a 1d array was expected. Please change the shape of y to (n_samples,), for example using ravel().\n",
      "  estimator.fit(X_train, y_train, **fit_params)\n",
      "/Users/plutobot/opt/anaconda3/lib/python3.8/site-packages/sklearn/model_selection/_validation.py:593: DataConversionWarning: A column-vector y was passed when a 1d array was expected. Please change the shape of y to (n_samples,), for example using ravel().\n",
      "  estimator.fit(X_train, y_train, **fit_params)\n",
      "/Users/plutobot/opt/anaconda3/lib/python3.8/site-packages/sklearn/model_selection/_validation.py:593: DataConversionWarning: A column-vector y was passed when a 1d array was expected. Please change the shape of y to (n_samples,), for example using ravel().\n",
      "  estimator.fit(X_train, y_train, **fit_params)\n",
      "/Users/plutobot/opt/anaconda3/lib/python3.8/site-packages/sklearn/model_selection/_validation.py:593: DataConversionWarning: A column-vector y was passed when a 1d array was expected. Please change the shape of y to (n_samples,), for example using ravel().\n",
      "  estimator.fit(X_train, y_train, **fit_params)\n",
      "/Users/plutobot/opt/anaconda3/lib/python3.8/site-packages/sklearn/model_selection/_validation.py:593: DataConversionWarning: A column-vector y was passed when a 1d array was expected. Please change the shape of y to (n_samples,), for example using ravel().\n",
      "  estimator.fit(X_train, y_train, **fit_params)\n"
     ]
    },
    {
     "name": "stdout",
     "output_type": "stream",
     "text": [
      "[0.98374704 0.99367364 0.9905882  0.97276607 0.98499365 0.9942694\n",
      " 0.99930559 0.99549578 0.99904149 0.99676109]\n"
     ]
    }
   ],
   "source": [
    "\n",
    "# Training the model and run K-Fold cross validation to validate/evaluate the model\n",
    "\n",
    "results=cross_val_score(model1,x,y, cv=kfold)\n",
    "# print out the evaluation results- the average of all the results obtained from the k-fold cross -validation- \n",
    "#MSE is usually positive but sckit reports as neg\n",
    "\n",
    "\n",
    "print(results)"
   ]
  },
  {
   "cell_type": "markdown",
   "id": "ceda91bd",
   "metadata": {},
   "source": [
    "### Predict new observations using random forest regressor"
   ]
  },
  {
   "cell_type": "markdown",
   "id": "86a6dba6",
   "metadata": {},
   "source": [
    "Min_price and max_price are inflated by 5.7% (based on inflation rate for India and predictions for random dates in 2021)"
   ]
  },
  {
   "cell_type": "code",
   "execution_count": 80,
   "id": "54ff5fac",
   "metadata": {},
   "outputs": [],
   "source": [
    "pred=pd.read_csv(\"/Users/plutobot/Downloads/Onion Prices Project/predictions.csv\")"
   ]
  },
  {
   "cell_type": "code",
   "execution_count": 81,
   "id": "5c1cb692",
   "metadata": {},
   "outputs": [
    {
     "data": {
      "text/plain": [
       "state            object\n",
       "district         object\n",
       "market           object\n",
       "variety          object\n",
       "arrival_date     object\n",
       "min_price       float64\n",
       "max_price       float64\n",
       "varietyA          int64\n",
       "dtype: object"
      ]
     },
     "execution_count": 81,
     "metadata": {},
     "output_type": "execute_result"
    }
   ],
   "source": [
    "pred.dtypes"
   ]
  },
  {
   "cell_type": "code",
   "execution_count": 82,
   "id": "e51b9d92",
   "metadata": {},
   "outputs": [],
   "source": [
    "# Converting arrival date into a numeric value so that algorithms can be run\n",
    "pred['arrival_dateA'] = pd.to_datetime(pred['arrival_date'])    \n",
    "pred['arrival_dateA']=pred['arrival_dateA'].map(dt.datetime.toordinal)"
   ]
  },
  {
   "cell_type": "code",
   "execution_count": 83,
   "id": "7bf2b032",
   "metadata": {},
   "outputs": [
    {
     "data": {
      "text/plain": [
       "state             object\n",
       "district          object\n",
       "market            object\n",
       "variety           object\n",
       "arrival_date      object\n",
       "min_price        float64\n",
       "max_price        float64\n",
       "varietyA           int64\n",
       "arrival_dateA      int64\n",
       "dtype: object"
      ]
     },
     "execution_count": 83,
     "metadata": {},
     "output_type": "execute_result"
    }
   ],
   "source": [
    "pred.dtypes"
   ]
  },
  {
   "cell_type": "code",
   "execution_count": 84,
   "id": "a8844988",
   "metadata": {},
   "outputs": [],
   "source": [
    "newdata=pred[['arrival_dateA','min_price','max_price','varietyA']]"
   ]
  },
  {
   "cell_type": "code",
   "execution_count": 85,
   "id": "95563705",
   "metadata": {},
   "outputs": [
    {
     "data": {
      "text/plain": [
       "654"
      ]
     },
     "execution_count": 85,
     "metadata": {},
     "output_type": "execute_result"
    }
   ],
   "source": [
    "len(newdata)"
   ]
  },
  {
   "cell_type": "code",
   "execution_count": 86,
   "id": "10528b4d",
   "metadata": {},
   "outputs": [
    {
     "data": {
      "text/html": [
       "<div>\n",
       "<style scoped>\n",
       "    .dataframe tbody tr th:only-of-type {\n",
       "        vertical-align: middle;\n",
       "    }\n",
       "\n",
       "    .dataframe tbody tr th {\n",
       "        vertical-align: top;\n",
       "    }\n",
       "\n",
       "    .dataframe thead th {\n",
       "        text-align: right;\n",
       "    }\n",
       "</style>\n",
       "<table border=\"1\" class=\"dataframe\">\n",
       "  <thead>\n",
       "    <tr style=\"text-align: right;\">\n",
       "      <th></th>\n",
       "      <th>arrival_dateA</th>\n",
       "      <th>min_price</th>\n",
       "      <th>max_price</th>\n",
       "      <th>varietyA</th>\n",
       "    </tr>\n",
       "  </thead>\n",
       "  <tbody>\n",
       "    <tr>\n",
       "      <th>0</th>\n",
       "      <td>737791</td>\n",
       "      <td>6870.500</td>\n",
       "      <td>7399.000</td>\n",
       "      <td>8</td>\n",
       "    </tr>\n",
       "    <tr>\n",
       "      <th>1</th>\n",
       "      <td>737793</td>\n",
       "      <td>4228.000</td>\n",
       "      <td>6342.000</td>\n",
       "      <td>8</td>\n",
       "    </tr>\n",
       "    <tr>\n",
       "      <th>2</th>\n",
       "      <td>737795</td>\n",
       "      <td>3699.500</td>\n",
       "      <td>8984.500</td>\n",
       "      <td>8</td>\n",
       "    </tr>\n",
       "    <tr>\n",
       "      <th>3</th>\n",
       "      <td>737797</td>\n",
       "      <td>1109.850</td>\n",
       "      <td>5475.260</td>\n",
       "      <td>12</td>\n",
       "    </tr>\n",
       "    <tr>\n",
       "      <th>4</th>\n",
       "      <td>737799</td>\n",
       "      <td>2912.035</td>\n",
       "      <td>3546.235</td>\n",
       "      <td>15</td>\n",
       "    </tr>\n",
       "  </tbody>\n",
       "</table>\n",
       "</div>"
      ],
      "text/plain": [
       "   arrival_dateA  min_price  max_price  varietyA\n",
       "0         737791   6870.500   7399.000         8\n",
       "1         737793   4228.000   6342.000         8\n",
       "2         737795   3699.500   8984.500         8\n",
       "3         737797   1109.850   5475.260        12\n",
       "4         737799   2912.035   3546.235        15"
      ]
     },
     "execution_count": 86,
     "metadata": {},
     "output_type": "execute_result"
    }
   ],
   "source": [
    "newdata.head()"
   ]
  },
  {
   "cell_type": "code",
   "execution_count": 87,
   "id": "4f2a5ae0",
   "metadata": {},
   "outputs": [],
   "source": [
    "# Because train and test were normalize, we need to normalize the new data as well\n",
    "newnormdata=(newdata-trainmean)/(trainstd)\n",
    "newdatapred=model1.predict(newnormdata)  \n",
    "newdatapred=pd.DataFrame(newdatapred)\n",
    "newdatapred.columns=['Predicted_Modal_Price']"
   ]
  },
  {
   "cell_type": "code",
   "execution_count": 88,
   "id": "5a3fbaec",
   "metadata": {},
   "outputs": [],
   "source": [
    "newvalidateddataset=pd.concat([newdata,newdatapred],axis=1)"
   ]
  },
  {
   "cell_type": "code",
   "execution_count": 89,
   "id": "015c5916",
   "metadata": {},
   "outputs": [
    {
     "data": {
      "text/html": [
       "<div>\n",
       "<style scoped>\n",
       "    .dataframe tbody tr th:only-of-type {\n",
       "        vertical-align: middle;\n",
       "    }\n",
       "\n",
       "    .dataframe tbody tr th {\n",
       "        vertical-align: top;\n",
       "    }\n",
       "\n",
       "    .dataframe thead th {\n",
       "        text-align: right;\n",
       "    }\n",
       "</style>\n",
       "<table border=\"1\" class=\"dataframe\">\n",
       "  <thead>\n",
       "    <tr style=\"text-align: right;\">\n",
       "      <th></th>\n",
       "      <th>arrival_dateA</th>\n",
       "      <th>min_price</th>\n",
       "      <th>max_price</th>\n",
       "      <th>varietyA</th>\n",
       "      <th>Predicted_Modal_Price</th>\n",
       "    </tr>\n",
       "  </thead>\n",
       "  <tbody>\n",
       "    <tr>\n",
       "      <th>0</th>\n",
       "      <td>737791</td>\n",
       "      <td>6870.500</td>\n",
       "      <td>7399.000</td>\n",
       "      <td>8</td>\n",
       "      <td>6954.500000</td>\n",
       "    </tr>\n",
       "    <tr>\n",
       "      <th>1</th>\n",
       "      <td>737793</td>\n",
       "      <td>4228.000</td>\n",
       "      <td>6342.000</td>\n",
       "      <td>8</td>\n",
       "      <td>5542.030000</td>\n",
       "    </tr>\n",
       "    <tr>\n",
       "      <th>2</th>\n",
       "      <td>737795</td>\n",
       "      <td>3699.500</td>\n",
       "      <td>8984.500</td>\n",
       "      <td>8</td>\n",
       "      <td>5742.000000</td>\n",
       "    </tr>\n",
       "    <tr>\n",
       "      <th>3</th>\n",
       "      <td>737797</td>\n",
       "      <td>1109.850</td>\n",
       "      <td>5475.260</td>\n",
       "      <td>12</td>\n",
       "      <td>3849.746667</td>\n",
       "    </tr>\n",
       "    <tr>\n",
       "      <th>4</th>\n",
       "      <td>737799</td>\n",
       "      <td>2912.035</td>\n",
       "      <td>3546.235</td>\n",
       "      <td>15</td>\n",
       "      <td>3133.070000</td>\n",
       "    </tr>\n",
       "    <tr>\n",
       "      <th>...</th>\n",
       "      <td>...</td>\n",
       "      <td>...</td>\n",
       "      <td>...</td>\n",
       "      <td>...</td>\n",
       "      <td>...</td>\n",
       "    </tr>\n",
       "    <tr>\n",
       "      <th>649</th>\n",
       "      <td>737920</td>\n",
       "      <td>4439.400</td>\n",
       "      <td>4650.800</td>\n",
       "      <td>7</td>\n",
       "      <td>4532.695000</td>\n",
       "    </tr>\n",
       "    <tr>\n",
       "      <th>650</th>\n",
       "      <td>737922</td>\n",
       "      <td>4122.300</td>\n",
       "      <td>4280.850</td>\n",
       "      <td>8</td>\n",
       "      <td>4185.966667</td>\n",
       "    </tr>\n",
       "    <tr>\n",
       "      <th>651</th>\n",
       "      <td>737924</td>\n",
       "      <td>4122.300</td>\n",
       "      <td>4439.400</td>\n",
       "      <td>8</td>\n",
       "      <td>4252.038095</td>\n",
       "    </tr>\n",
       "    <tr>\n",
       "      <th>652</th>\n",
       "      <td>737926</td>\n",
       "      <td>3171.000</td>\n",
       "      <td>5285.000</td>\n",
       "      <td>8</td>\n",
       "      <td>4355.766667</td>\n",
       "    </tr>\n",
       "    <tr>\n",
       "      <th>653</th>\n",
       "      <td>737928</td>\n",
       "      <td>2959.600</td>\n",
       "      <td>4228.000</td>\n",
       "      <td>8</td>\n",
       "      <td>3529.450000</td>\n",
       "    </tr>\n",
       "  </tbody>\n",
       "</table>\n",
       "<p>654 rows × 5 columns</p>\n",
       "</div>"
      ],
      "text/plain": [
       "     arrival_dateA  min_price  max_price  varietyA  Predicted_Modal_Price\n",
       "0           737791   6870.500   7399.000         8            6954.500000\n",
       "1           737793   4228.000   6342.000         8            5542.030000\n",
       "2           737795   3699.500   8984.500         8            5742.000000\n",
       "3           737797   1109.850   5475.260        12            3849.746667\n",
       "4           737799   2912.035   3546.235        15            3133.070000\n",
       "..             ...        ...        ...       ...                    ...\n",
       "649         737920   4439.400   4650.800         7            4532.695000\n",
       "650         737922   4122.300   4280.850         8            4185.966667\n",
       "651         737924   4122.300   4439.400         8            4252.038095\n",
       "652         737926   3171.000   5285.000         8            4355.766667\n",
       "653         737928   2959.600   4228.000         8            3529.450000\n",
       "\n",
       "[654 rows x 5 columns]"
      ]
     },
     "execution_count": 89,
     "metadata": {},
     "output_type": "execute_result"
    }
   ],
   "source": [
    "newvalidateddataset"
   ]
  },
  {
   "cell_type": "code",
   "execution_count": null,
   "id": "d74f0015",
   "metadata": {},
   "outputs": [],
   "source": []
  }
 ],
 "metadata": {
  "kernelspec": {
   "display_name": "Python 3",
   "language": "python",
   "name": "python3"
  },
  "language_info": {
   "codemirror_mode": {
    "name": "ipython",
    "version": 3
   },
   "file_extension": ".py",
   "mimetype": "text/x-python",
   "name": "python",
   "nbconvert_exporter": "python",
   "pygments_lexer": "ipython3",
   "version": "3.8.8"
  }
 },
 "nbformat": 4,
 "nbformat_minor": 5
}
